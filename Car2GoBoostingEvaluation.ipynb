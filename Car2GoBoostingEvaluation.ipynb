{
 "cells": [
  {
   "cell_type": "code",
   "execution_count": 1,
   "metadata": {},
   "outputs": [],
   "source": [
    "import pickle\n",
    "import json\n",
    "import pandas as pd\n",
    "import numpy as np\n",
    "import catboost\n",
    "import lightgbm as lgb\n",
    "import matplotlib.pyplot as plt\n",
    "import tensorflow as tf\n",
    "from sklearn.metrics import mean_absolute_error, mean_squared_error, r2_score"
   ]
  },
  {
   "cell_type": "markdown",
   "metadata": {},
   "source": [
    "## Reading data and Preparing it"
   ]
  },
  {
   "cell_type": "code",
   "execution_count": 2,
   "metadata": {},
   "outputs": [],
   "source": [
    "# reading data\n",
    "c2g_data = pd.read_csv('data/interpol/c2g_interpol_demand.csv', index_col=0)\n",
    "\n",
    "def read_pickle(path):\n",
    "    infile = open(path,'rb')\n",
    "    file = pickle.load(infile)\n",
    "    infile.close()\n",
    "    return file\n",
    "\n",
    "lgb_multimodel = read_pickle(r'models/c2g_model_light_gbm.sav')\n",
    "lgb_unimodel = read_pickle(r'models/unic2g_model_light_gbm.sav')\n",
    "cat_multimodel = read_pickle(r'models/c2g_model_catboost.sav')\n",
    "cat_unimodel = read_pickle(r'models/unic2g_model_catboost.sav')\n",
    "\n",
    "with open(r'models/LightGBM_Data_Parameters.json') as f:\n",
    "    data_lgb_parameters = json.load(f)\n",
    "    \n",
    "with open(r'models/Catboost_Data_Parameters.json') as f:\n",
    "    data_cat_parameters = json.load(f)\n",
    "    \n",
    "if(data_cat_parameters == data_lgb_parameters):\n",
    "    params = data_cat_parameters\n",
    "else:\n",
    "    print(\"The parameters on the data must be the same\")\n",
    "    print(data_cat_parameters)\n",
    "    print(data_lgb_parameters)\n",
    "    params = {}"
   ]
  },
  {
   "cell_type": "code",
   "execution_count": 38,
   "metadata": {},
   "outputs": [
    {
     "data": {
      "text/plain": [
       "Index(['tempC', 'precipMM', 'FeelsLikeC', 'uvIndex', 'visibility',\n",
       "       'windspeedMiles', 'Blizzard', 'Clear', 'Cloudy', 'Fog', 'Heavy rain',\n",
       "       'Heavy rain at times', 'Heavy snow', 'Light drizzle', 'Light rain',\n",
       "       'Light rain shower', 'Light sleet', 'Light sleet showers', 'Light snow',\n",
       "       'Mist', 'Moderate or heavy freezing rain',\n",
       "       'Moderate or heavy rain shower', 'Moderate or heavy rain with thunder',\n",
       "       'Moderate or heavy sleet', 'Moderate or heavy snow showers',\n",
       "       'Moderate or heavy snow with thunder', 'Moderate rain',\n",
       "       'Moderate rain at times', 'Moderate snow', 'Overcast', 'Partly cloudy',\n",
       "       'Patchy heavy snow', 'Patchy light drizzle', 'Patchy light rain',\n",
       "       'Patchy light rain with thunder', 'Patchy light snow',\n",
       "       'Patchy moderate snow', 'Patchy rain possible', 'Patchy sleet possible',\n",
       "       'Patchy snow possible', 'Sunny', 'Thundery outbreaks possible',\n",
       "       'Torrential rain shower', 'Monday', 'Tuesday', 'Wednesday', 'Thursday',\n",
       "       'Friday', 'Saturday', 'Sunday', 'hour_0', 'hour_1', 'hour_2', 'hour_3',\n",
       "       'hour_4', 'hour_5', 'hour_6', 'hour_7', 'hour_8', 'hour_9', 'hour_10',\n",
       "       'hour_11', 'hour_12', 'hour_13', 'hour_14', 'hour_15', 'hour_16',\n",
       "       'hour_17', 'hour_18', 'hour_19', 'hour_20', 'hour_21', 'hour_22',\n",
       "       'hour_23', 'travels', 'interpolate'],\n",
       "      dtype='object')"
      ]
     },
     "execution_count": 38,
     "metadata": {},
     "output_type": "execute_result"
    }
   ],
   "source": [
    "c2g_data.columns"
   ]
  },
  {
   "cell_type": "code",
   "execution_count": null,
   "metadata": {},
   "outputs": [],
   "source": []
  },
  {
   "cell_type": "code",
   "execution_count": 39,
   "metadata": {},
   "outputs": [],
   "source": [
    "c2g_data.drop(columns = ['hour_0', 'hour_1', 'hour_2', 'hour_3',\n",
    "       'hour_4', 'hour_5', 'hour_6', 'hour_7', 'hour_8', 'hour_9', 'hour_10',\n",
    "       'hour_11', 'hour_12', 'hour_13', 'hour_14', 'hour_15', 'hour_16',\n",
    "       'hour_17', 'hour_18', 'hour_19', 'hour_20', 'hour_21', 'hour_22',\n",
    "       'hour_23', 'interpolate'], inplace=True)"
   ]
  },
  {
   "cell_type": "code",
   "execution_count": 40,
   "metadata": {},
   "outputs": [
    {
     "data": {
      "text/plain": [
       "{'TIME_FRAME_START': '2016-12-13 15:00:00',\n",
       " 'TIME_FRAME_FINISH': '2017-02-25 17:00:00',\n",
       " 'TRAIN_VAL_SPLIT': 0.6,\n",
       " 'VAL_TEST_SPLIT': 0.8,\n",
       " 'PAST_LAGS': 24,\n",
       " 'FUTURE_LAGS': 12}"
      ]
     },
     "execution_count": 40,
     "metadata": {},
     "output_type": "execute_result"
    }
   ],
   "source": [
    "params"
   ]
  },
  {
   "cell_type": "code",
   "execution_count": 41,
   "metadata": {},
   "outputs": [],
   "source": [
    "c2g_data.index = pd.to_datetime(c2g_data.index)\n",
    "\n",
    "c2g_data = c2g_data.loc[params[\"TIME_FRAME_START\"]:params[\"TIME_FRAME_FINISH\"]]"
   ]
  },
  {
   "cell_type": "code",
   "execution_count": 42,
   "metadata": {},
   "outputs": [],
   "source": [
    "def undo_one_hot(df, new_col_name, columns = []):\n",
    "    new_df = df.copy().drop(columns=columns)\n",
    "    \n",
    "    def get_cat(row):\n",
    "        for c in df.loc[:, columns].columns:\n",
    "            if row[c]==1:\n",
    "                return c\n",
    "            \n",
    "    new_df[new_col_name] = pd.Categorical(df.apply(get_cat, axis=1))\n",
    "    \n",
    "    return new_df"
   ]
  },
  {
   "cell_type": "code",
   "execution_count": 43,
   "metadata": {},
   "outputs": [
    {
     "data": {
      "text/html": [
       "<div>\n",
       "<style scoped>\n",
       "    .dataframe tbody tr th:only-of-type {\n",
       "        vertical-align: middle;\n",
       "    }\n",
       "\n",
       "    .dataframe tbody tr th {\n",
       "        vertical-align: top;\n",
       "    }\n",
       "\n",
       "    .dataframe thead th {\n",
       "        text-align: right;\n",
       "    }\n",
       "</style>\n",
       "<table border=\"1\" class=\"dataframe\">\n",
       "  <thead>\n",
       "    <tr style=\"text-align: right;\">\n",
       "      <th></th>\n",
       "      <th>tempC</th>\n",
       "      <th>precipMM</th>\n",
       "      <th>FeelsLikeC</th>\n",
       "      <th>uvIndex</th>\n",
       "      <th>visibility</th>\n",
       "      <th>windspeedMiles</th>\n",
       "      <th>travels</th>\n",
       "      <th>Weather</th>\n",
       "      <th>Weekday</th>\n",
       "    </tr>\n",
       "  </thead>\n",
       "  <tbody>\n",
       "    <tr>\n",
       "      <th>2016-12-13 15:00:00</th>\n",
       "      <td>-2</td>\n",
       "      <td>0.0</td>\n",
       "      <td>-2</td>\n",
       "      <td>1</td>\n",
       "      <td>10</td>\n",
       "      <td>5</td>\n",
       "      <td>120.0</td>\n",
       "      <td>Sunny</td>\n",
       "      <td>Tuesday</td>\n",
       "    </tr>\n",
       "    <tr>\n",
       "      <th>2016-12-13 16:00:00</th>\n",
       "      <td>-2</td>\n",
       "      <td>0.0</td>\n",
       "      <td>-3</td>\n",
       "      <td>1</td>\n",
       "      <td>10</td>\n",
       "      <td>6</td>\n",
       "      <td>156.0</td>\n",
       "      <td>Sunny</td>\n",
       "      <td>Tuesday</td>\n",
       "    </tr>\n",
       "    <tr>\n",
       "      <th>2016-12-13 17:00:00</th>\n",
       "      <td>-2</td>\n",
       "      <td>0.0</td>\n",
       "      <td>-4</td>\n",
       "      <td>1</td>\n",
       "      <td>10</td>\n",
       "      <td>6</td>\n",
       "      <td>167.0</td>\n",
       "      <td>Sunny</td>\n",
       "      <td>Tuesday</td>\n",
       "    </tr>\n",
       "    <tr>\n",
       "      <th>2016-12-13 18:00:00</th>\n",
       "      <td>-3</td>\n",
       "      <td>0.0</td>\n",
       "      <td>-4</td>\n",
       "      <td>1</td>\n",
       "      <td>10</td>\n",
       "      <td>6</td>\n",
       "      <td>154.0</td>\n",
       "      <td>Sunny</td>\n",
       "      <td>Tuesday</td>\n",
       "    </tr>\n",
       "    <tr>\n",
       "      <th>2016-12-13 19:00:00</th>\n",
       "      <td>-3</td>\n",
       "      <td>0.0</td>\n",
       "      <td>-5</td>\n",
       "      <td>1</td>\n",
       "      <td>10</td>\n",
       "      <td>7</td>\n",
       "      <td>174.0</td>\n",
       "      <td>Clear</td>\n",
       "      <td>Tuesday</td>\n",
       "    </tr>\n",
       "  </tbody>\n",
       "</table>\n",
       "</div>"
      ],
      "text/plain": [
       "                     tempC  precipMM  FeelsLikeC  uvIndex  visibility  \\\n",
       "2016-12-13 15:00:00     -2       0.0          -2        1          10   \n",
       "2016-12-13 16:00:00     -2       0.0          -3        1          10   \n",
       "2016-12-13 17:00:00     -2       0.0          -4        1          10   \n",
       "2016-12-13 18:00:00     -3       0.0          -4        1          10   \n",
       "2016-12-13 19:00:00     -3       0.0          -5        1          10   \n",
       "\n",
       "                     windspeedMiles  travels Weather  Weekday  \n",
       "2016-12-13 15:00:00               5    120.0   Sunny  Tuesday  \n",
       "2016-12-13 16:00:00               6    156.0   Sunny  Tuesday  \n",
       "2016-12-13 17:00:00               6    167.0   Sunny  Tuesday  \n",
       "2016-12-13 18:00:00               6    154.0   Sunny  Tuesday  \n",
       "2016-12-13 19:00:00               7    174.0   Clear  Tuesday  "
      ]
     },
     "execution_count": 43,
     "metadata": {},
     "output_type": "execute_result"
    }
   ],
   "source": [
    "c2g_data = undo_one_hot(c2g_data, 'Weather', columns=['Blizzard', 'Clear', 'Cloudy', 'Fog', 'Heavy rain',\n",
    "       'Heavy rain at times', 'Heavy snow', 'Light drizzle', 'Light rain',\n",
    "       'Light rain shower', 'Light sleet', 'Light sleet showers', 'Light snow',\n",
    "       'Mist', 'Moderate or heavy freezing rain',\n",
    "       'Moderate or heavy rain shower', 'Moderate or heavy rain with thunder',\n",
    "       'Moderate or heavy sleet', 'Moderate or heavy snow showers',\n",
    "       'Moderate or heavy snow with thunder', 'Moderate rain',\n",
    "       'Moderate rain at times', 'Moderate snow', 'Overcast', 'Partly cloudy',\n",
    "       'Patchy heavy snow', 'Patchy light drizzle', 'Patchy light rain',\n",
    "       'Patchy light rain with thunder', 'Patchy light snow',\n",
    "       'Patchy moderate snow', 'Patchy rain possible', 'Patchy sleet possible',\n",
    "       'Patchy snow possible', 'Sunny', 'Thundery outbreaks possible',\n",
    "       'Torrential rain shower'])\n",
    "c2g_data = undo_one_hot(c2g_data, 'Weekday', columns=['Monday', 'Tuesday', 'Wednesday', 'Thursday',\n",
    "       'Friday', 'Saturday', 'Sunday'])\n",
    "c2g_data.head()"
   ]
  },
  {
   "cell_type": "code",
   "execution_count": null,
   "metadata": {},
   "outputs": [],
   "source": []
  },
  {
   "cell_type": "code",
   "execution_count": 44,
   "metadata": {},
   "outputs": [
    {
     "data": {
      "text/html": [
       "<div>\n",
       "<style scoped>\n",
       "    .dataframe tbody tr th:only-of-type {\n",
       "        vertical-align: middle;\n",
       "    }\n",
       "\n",
       "    .dataframe tbody tr th {\n",
       "        vertical-align: top;\n",
       "    }\n",
       "\n",
       "    .dataframe thead th {\n",
       "        text-align: right;\n",
       "    }\n",
       "</style>\n",
       "<table border=\"1\" class=\"dataframe\">\n",
       "  <thead>\n",
       "    <tr style=\"text-align: right;\">\n",
       "      <th></th>\n",
       "      <th>travels</th>\n",
       "    </tr>\n",
       "  </thead>\n",
       "  <tbody>\n",
       "    <tr>\n",
       "      <th>2016-12-13 15:00:00</th>\n",
       "      <td>120.0</td>\n",
       "    </tr>\n",
       "    <tr>\n",
       "      <th>2016-12-13 16:00:00</th>\n",
       "      <td>156.0</td>\n",
       "    </tr>\n",
       "    <tr>\n",
       "      <th>2016-12-13 17:00:00</th>\n",
       "      <td>167.0</td>\n",
       "    </tr>\n",
       "    <tr>\n",
       "      <th>2016-12-13 18:00:00</th>\n",
       "      <td>154.0</td>\n",
       "    </tr>\n",
       "    <tr>\n",
       "      <th>2016-12-13 19:00:00</th>\n",
       "      <td>174.0</td>\n",
       "    </tr>\n",
       "  </tbody>\n",
       "</table>\n",
       "</div>"
      ],
      "text/plain": [
       "                     travels\n",
       "2016-12-13 15:00:00    120.0\n",
       "2016-12-13 16:00:00    156.0\n",
       "2016-12-13 17:00:00    167.0\n",
       "2016-12-13 18:00:00    154.0\n",
       "2016-12-13 19:00:00    174.0"
      ]
     },
     "execution_count": 44,
     "metadata": {},
     "output_type": "execute_result"
    }
   ],
   "source": [
    "unic2g_data = pd.DataFrame(c2g_data.travels)\n",
    "unic2g_data.head()"
   ]
  },
  {
   "cell_type": "code",
   "execution_count": 45,
   "metadata": {},
   "outputs": [],
   "source": [
    "def gen_supervised_learning(df, past_lags, future_lags):\n",
    "    X = df.copy()\n",
    "    for lag in range(1, past_lags):\n",
    "        X = X.join(df.shift(lag), rsuffix=f'_t-{lag}')\n",
    "    \n",
    "    y = pd.DataFrame(df.travels.copy())\n",
    "    for lag in range(1, future_lags):\n",
    "        y = y.join(df.travels.shift(lag), rsuffix=f'_t-{lag}')\n",
    "        \n",
    "    X = X.shift(future_lags)\n",
    "    \n",
    "    return X.iloc[past_lags + future_lags:], y.iloc[past_lags + future_lags:]"
   ]
  },
  {
   "cell_type": "code",
   "execution_count": 46,
   "metadata": {},
   "outputs": [],
   "source": [
    "X, y = gen_supervised_learning(c2g_data, params['PAST_LAGS'], 1)"
   ]
  },
  {
   "cell_type": "code",
   "execution_count": 47,
   "metadata": {},
   "outputs": [],
   "source": [
    "X_uni, y_uni = gen_supervised_learning(unic2g_data, params['PAST_LAGS'], 1)"
   ]
  },
  {
   "cell_type": "code",
   "execution_count": 48,
   "metadata": {},
   "outputs": [],
   "source": [
    "X_12fut, y_12fut = gen_supervised_learning(unic2g_data, params['PAST_LAGS'], params['FUTURE_LAGS'])"
   ]
  },
  {
   "cell_type": "code",
   "execution_count": 49,
   "metadata": {},
   "outputs": [],
   "source": [
    "X_week, y_week = gen_supervised_learning(unic2g_data, params['PAST_LAGS'], 168)"
   ]
  },
  {
   "cell_type": "code",
   "execution_count": 50,
   "metadata": {},
   "outputs": [],
   "source": [
    "def splitter(data, ratio):\n",
    "    size = len(data)\n",
    "    data_train = data.iloc[:int(ratio[0]*size)]\n",
    "    data_val = data.iloc[int(ratio[0]*size):int(ratio[1]*size)]\n",
    "    data_test = data.iloc[int(ratio[1]*size):]\n",
    "    return data_train, data_val, data_test"
   ]
  },
  {
   "cell_type": "code",
   "execution_count": 51,
   "metadata": {},
   "outputs": [],
   "source": [
    "X_train, X_val, X_test = splitter(X, [params['TRAIN_VAL_SPLIT'], params['VAL_TEST_SPLIT']])\n",
    "y_train, y_val, y_test = splitter(y, [params['TRAIN_VAL_SPLIT'], params['VAL_TEST_SPLIT']])\n",
    "\n",
    "X_uni_train, X_uni_val, X_uni_test = splitter(X_uni, [params['TRAIN_VAL_SPLIT'], params['VAL_TEST_SPLIT']])\n",
    "y_uni_train, y_uni_val, y_uni_test = splitter(y_uni, [params['TRAIN_VAL_SPLIT'], params['VAL_TEST_SPLIT']])\n",
    "\n",
    "X_12fut_train, X_12fut_val, X_12fut_test = splitter(X_12fut, [params['TRAIN_VAL_SPLIT'], params['VAL_TEST_SPLIT']])\n",
    "y_12fut_train, y_12fut_val, y_12fut_test = splitter(y_12fut, [params['TRAIN_VAL_SPLIT'], params['VAL_TEST_SPLIT']])\n",
    "\n",
    "X_week_train, X_week_val, X_week_test = splitter(X_week, [params['TRAIN_VAL_SPLIT'], params['VAL_TEST_SPLIT']])\n",
    "y_week_train, y_week_val, y_week_test = splitter(y_week, [params['TRAIN_VAL_SPLIT'], params['VAL_TEST_SPLIT']])"
   ]
  },
  {
   "cell_type": "code",
   "execution_count": 52,
   "metadata": {},
   "outputs": [
    {
     "data": {
      "text/html": [
       "<div>\n",
       "<style scoped>\n",
       "    .dataframe tbody tr th:only-of-type {\n",
       "        vertical-align: middle;\n",
       "    }\n",
       "\n",
       "    .dataframe tbody tr th {\n",
       "        vertical-align: top;\n",
       "    }\n",
       "\n",
       "    .dataframe thead th {\n",
       "        text-align: right;\n",
       "    }\n",
       "</style>\n",
       "<table border=\"1\" class=\"dataframe\">\n",
       "  <thead>\n",
       "    <tr style=\"text-align: right;\">\n",
       "      <th></th>\n",
       "      <th>travels</th>\n",
       "      <th>travels_t-1</th>\n",
       "      <th>travels_t-2</th>\n",
       "      <th>travels_t-3</th>\n",
       "      <th>travels_t-4</th>\n",
       "      <th>travels_t-5</th>\n",
       "      <th>travels_t-6</th>\n",
       "      <th>travels_t-7</th>\n",
       "      <th>travels_t-8</th>\n",
       "      <th>travels_t-9</th>\n",
       "      <th>travels_t-10</th>\n",
       "      <th>travels_t-11</th>\n",
       "    </tr>\n",
       "  </thead>\n",
       "  <tbody>\n",
       "    <tr>\n",
       "      <th>2017-02-11 05:00:00</th>\n",
       "      <td>80.0</td>\n",
       "      <td>125.0</td>\n",
       "      <td>151.0</td>\n",
       "      <td>189.0</td>\n",
       "      <td>219.0</td>\n",
       "      <td>288.0</td>\n",
       "      <td>283.0</td>\n",
       "      <td>206.0</td>\n",
       "      <td>246.0</td>\n",
       "      <td>223.0</td>\n",
       "      <td>160.0</td>\n",
       "      <td>153.0</td>\n",
       "    </tr>\n",
       "    <tr>\n",
       "      <th>2017-02-11 06:00:00</th>\n",
       "      <td>54.0</td>\n",
       "      <td>80.0</td>\n",
       "      <td>125.0</td>\n",
       "      <td>151.0</td>\n",
       "      <td>189.0</td>\n",
       "      <td>219.0</td>\n",
       "      <td>288.0</td>\n",
       "      <td>283.0</td>\n",
       "      <td>206.0</td>\n",
       "      <td>246.0</td>\n",
       "      <td>223.0</td>\n",
       "      <td>160.0</td>\n",
       "    </tr>\n",
       "    <tr>\n",
       "      <th>2017-02-11 07:00:00</th>\n",
       "      <td>28.0</td>\n",
       "      <td>54.0</td>\n",
       "      <td>80.0</td>\n",
       "      <td>125.0</td>\n",
       "      <td>151.0</td>\n",
       "      <td>189.0</td>\n",
       "      <td>219.0</td>\n",
       "      <td>288.0</td>\n",
       "      <td>283.0</td>\n",
       "      <td>206.0</td>\n",
       "      <td>246.0</td>\n",
       "      <td>223.0</td>\n",
       "    </tr>\n",
       "    <tr>\n",
       "      <th>2017-02-11 08:00:00</th>\n",
       "      <td>21.0</td>\n",
       "      <td>28.0</td>\n",
       "      <td>54.0</td>\n",
       "      <td>80.0</td>\n",
       "      <td>125.0</td>\n",
       "      <td>151.0</td>\n",
       "      <td>189.0</td>\n",
       "      <td>219.0</td>\n",
       "      <td>288.0</td>\n",
       "      <td>283.0</td>\n",
       "      <td>206.0</td>\n",
       "      <td>246.0</td>\n",
       "    </tr>\n",
       "    <tr>\n",
       "      <th>2017-02-11 09:00:00</th>\n",
       "      <td>18.0</td>\n",
       "      <td>21.0</td>\n",
       "      <td>28.0</td>\n",
       "      <td>54.0</td>\n",
       "      <td>80.0</td>\n",
       "      <td>125.0</td>\n",
       "      <td>151.0</td>\n",
       "      <td>189.0</td>\n",
       "      <td>219.0</td>\n",
       "      <td>288.0</td>\n",
       "      <td>283.0</td>\n",
       "      <td>206.0</td>\n",
       "    </tr>\n",
       "    <tr>\n",
       "      <th>...</th>\n",
       "      <td>...</td>\n",
       "      <td>...</td>\n",
       "      <td>...</td>\n",
       "      <td>...</td>\n",
       "      <td>...</td>\n",
       "      <td>...</td>\n",
       "      <td>...</td>\n",
       "      <td>...</td>\n",
       "      <td>...</td>\n",
       "      <td>...</td>\n",
       "      <td>...</td>\n",
       "      <td>...</td>\n",
       "    </tr>\n",
       "    <tr>\n",
       "      <th>2017-02-25 13:00:00</th>\n",
       "      <td>209.0</td>\n",
       "      <td>123.0</td>\n",
       "      <td>74.0</td>\n",
       "      <td>37.0</td>\n",
       "      <td>19.0</td>\n",
       "      <td>24.0</td>\n",
       "      <td>28.0</td>\n",
       "      <td>68.0</td>\n",
       "      <td>121.0</td>\n",
       "      <td>187.0</td>\n",
       "      <td>226.0</td>\n",
       "      <td>285.0</td>\n",
       "    </tr>\n",
       "    <tr>\n",
       "      <th>2017-02-25 14:00:00</th>\n",
       "      <td>212.0</td>\n",
       "      <td>209.0</td>\n",
       "      <td>123.0</td>\n",
       "      <td>74.0</td>\n",
       "      <td>37.0</td>\n",
       "      <td>19.0</td>\n",
       "      <td>24.0</td>\n",
       "      <td>28.0</td>\n",
       "      <td>68.0</td>\n",
       "      <td>121.0</td>\n",
       "      <td>187.0</td>\n",
       "      <td>226.0</td>\n",
       "    </tr>\n",
       "    <tr>\n",
       "      <th>2017-02-25 15:00:00</th>\n",
       "      <td>214.0</td>\n",
       "      <td>212.0</td>\n",
       "      <td>209.0</td>\n",
       "      <td>123.0</td>\n",
       "      <td>74.0</td>\n",
       "      <td>37.0</td>\n",
       "      <td>19.0</td>\n",
       "      <td>24.0</td>\n",
       "      <td>28.0</td>\n",
       "      <td>68.0</td>\n",
       "      <td>121.0</td>\n",
       "      <td>187.0</td>\n",
       "    </tr>\n",
       "    <tr>\n",
       "      <th>2017-02-25 16:00:00</th>\n",
       "      <td>236.0</td>\n",
       "      <td>214.0</td>\n",
       "      <td>212.0</td>\n",
       "      <td>209.0</td>\n",
       "      <td>123.0</td>\n",
       "      <td>74.0</td>\n",
       "      <td>37.0</td>\n",
       "      <td>19.0</td>\n",
       "      <td>24.0</td>\n",
       "      <td>28.0</td>\n",
       "      <td>68.0</td>\n",
       "      <td>121.0</td>\n",
       "    </tr>\n",
       "    <tr>\n",
       "      <th>2017-02-25 17:00:00</th>\n",
       "      <td>256.0</td>\n",
       "      <td>236.0</td>\n",
       "      <td>214.0</td>\n",
       "      <td>212.0</td>\n",
       "      <td>209.0</td>\n",
       "      <td>123.0</td>\n",
       "      <td>74.0</td>\n",
       "      <td>37.0</td>\n",
       "      <td>19.0</td>\n",
       "      <td>24.0</td>\n",
       "      <td>28.0</td>\n",
       "      <td>68.0</td>\n",
       "    </tr>\n",
       "  </tbody>\n",
       "</table>\n",
       "<p>349 rows × 12 columns</p>\n",
       "</div>"
      ],
      "text/plain": [
       "                     travels  travels_t-1  travels_t-2  travels_t-3  \\\n",
       "2017-02-11 05:00:00     80.0        125.0        151.0        189.0   \n",
       "2017-02-11 06:00:00     54.0         80.0        125.0        151.0   \n",
       "2017-02-11 07:00:00     28.0         54.0         80.0        125.0   \n",
       "2017-02-11 08:00:00     21.0         28.0         54.0         80.0   \n",
       "2017-02-11 09:00:00     18.0         21.0         28.0         54.0   \n",
       "...                      ...          ...          ...          ...   \n",
       "2017-02-25 13:00:00    209.0        123.0         74.0         37.0   \n",
       "2017-02-25 14:00:00    212.0        209.0        123.0         74.0   \n",
       "2017-02-25 15:00:00    214.0        212.0        209.0        123.0   \n",
       "2017-02-25 16:00:00    236.0        214.0        212.0        209.0   \n",
       "2017-02-25 17:00:00    256.0        236.0        214.0        212.0   \n",
       "\n",
       "                     travels_t-4  travels_t-5  travels_t-6  travels_t-7  \\\n",
       "2017-02-11 05:00:00        219.0        288.0        283.0        206.0   \n",
       "2017-02-11 06:00:00        189.0        219.0        288.0        283.0   \n",
       "2017-02-11 07:00:00        151.0        189.0        219.0        288.0   \n",
       "2017-02-11 08:00:00        125.0        151.0        189.0        219.0   \n",
       "2017-02-11 09:00:00         80.0        125.0        151.0        189.0   \n",
       "...                          ...          ...          ...          ...   \n",
       "2017-02-25 13:00:00         19.0         24.0         28.0         68.0   \n",
       "2017-02-25 14:00:00         37.0         19.0         24.0         28.0   \n",
       "2017-02-25 15:00:00         74.0         37.0         19.0         24.0   \n",
       "2017-02-25 16:00:00        123.0         74.0         37.0         19.0   \n",
       "2017-02-25 17:00:00        209.0        123.0         74.0         37.0   \n",
       "\n",
       "                     travels_t-8  travels_t-9  travels_t-10  travels_t-11  \n",
       "2017-02-11 05:00:00        246.0        223.0         160.0         153.0  \n",
       "2017-02-11 06:00:00        206.0        246.0         223.0         160.0  \n",
       "2017-02-11 07:00:00        283.0        206.0         246.0         223.0  \n",
       "2017-02-11 08:00:00        288.0        283.0         206.0         246.0  \n",
       "2017-02-11 09:00:00        219.0        288.0         283.0         206.0  \n",
       "...                          ...          ...           ...           ...  \n",
       "2017-02-25 13:00:00        121.0        187.0         226.0         285.0  \n",
       "2017-02-25 14:00:00         68.0        121.0         187.0         226.0  \n",
       "2017-02-25 15:00:00         28.0         68.0         121.0         187.0  \n",
       "2017-02-25 16:00:00         24.0         28.0          68.0         121.0  \n",
       "2017-02-25 17:00:00         19.0         24.0          28.0          68.0  \n",
       "\n",
       "[349 rows x 12 columns]"
      ]
     },
     "execution_count": 52,
     "metadata": {},
     "output_type": "execute_result"
    }
   ],
   "source": [
    "y_12fut_test"
   ]
  },
  {
   "cell_type": "code",
   "execution_count": 53,
   "metadata": {},
   "outputs": [
    {
     "data": {
      "text/plain": [
       "tempC                         2\n",
       "precipMM                      0\n",
       "FeelsLikeC                    1\n",
       "uvIndex                       1\n",
       "visibility                   10\n",
       "windspeedMiles                3\n",
       "travels                      80\n",
       "Weather           Partly cloudy\n",
       "Weekday                Saturday\n",
       "Name: 2017-02-11 05:00:00, dtype: object"
      ]
     },
     "execution_count": 53,
     "metadata": {},
     "output_type": "execute_result"
    }
   ],
   "source": [
    "c2g_data.loc[\"2017-02-11 05:00:00\"]"
   ]
  },
  {
   "cell_type": "markdown",
   "metadata": {},
   "source": [
    "## Evaluations"
   ]
  },
  {
   "cell_type": "code",
   "execution_count": 54,
   "metadata": {},
   "outputs": [],
   "source": [
    "def eval_model(y, y_hat):\n",
    "    evaluation = {}\n",
    "    evaluation[\"RMSE\"] = np.sqrt(mean_squared_error(y, y_hat))\n",
    "    evaluation[\"MAE\"] = mean_absolute_error(y, y_hat)\n",
    "    evaluation[\"R2\"] = r2_score(y, y_hat)\n",
    "\n",
    "    return evaluation"
   ]
  },
  {
   "cell_type": "markdown",
   "metadata": {},
   "source": [
    "### Univariable Single-Step Evaluation"
   ]
  },
  {
   "cell_type": "code",
   "execution_count": 55,
   "metadata": {},
   "outputs": [
    {
     "data": {
      "text/html": [
       "<div>\n",
       "<style scoped>\n",
       "    .dataframe tbody tr th:only-of-type {\n",
       "        vertical-align: middle;\n",
       "    }\n",
       "\n",
       "    .dataframe tbody tr th {\n",
       "        vertical-align: top;\n",
       "    }\n",
       "\n",
       "    .dataframe thead th {\n",
       "        text-align: right;\n",
       "    }\n",
       "</style>\n",
       "<table border=\"1\" class=\"dataframe\">\n",
       "  <thead>\n",
       "    <tr style=\"text-align: right;\">\n",
       "      <th></th>\n",
       "      <th>RMSE</th>\n",
       "      <th>MAE</th>\n",
       "      <th>R2</th>\n",
       "    </tr>\n",
       "  </thead>\n",
       "  <tbody>\n",
       "    <tr>\n",
       "      <th>LightGBM</th>\n",
       "      <td>25.096804</td>\n",
       "      <td>18.131684</td>\n",
       "      <td>0.939421</td>\n",
       "    </tr>\n",
       "    <tr>\n",
       "      <th>CatBoost</th>\n",
       "      <td>27.781705</td>\n",
       "      <td>19.544919</td>\n",
       "      <td>0.925766</td>\n",
       "    </tr>\n",
       "  </tbody>\n",
       "</table>\n",
       "</div>"
      ],
      "text/plain": [
       "               RMSE        MAE        R2\n",
       "LightGBM  25.096804  18.131684  0.939421\n",
       "CatBoost  27.781705  19.544919  0.925766"
      ]
     },
     "execution_count": 55,
     "metadata": {},
     "output_type": "execute_result"
    }
   ],
   "source": [
    "y_hat_test_lgb = lgb_unimodel.predict(X_uni_test)\n",
    "y_hat_test_cat = cat_unimodel.predict(X_uni_test)\n",
    "\n",
    "unilgb_eval = eval_model(y_test, y_hat_test_lgb)\n",
    "unicat_eval = eval_model(y_test, y_hat_test_cat)\n",
    "\n",
    "eval_uni_ss = pd.DataFrame([unilgb_eval, unicat_eval], index=['LightGBM', 'CatBoost'])\n",
    "eval_uni_ss"
   ]
  },
  {
   "cell_type": "markdown",
   "metadata": {},
   "source": [
    "### Multivariable Single-Step Evaluation"
   ]
  },
  {
   "cell_type": "code",
   "execution_count": 56,
   "metadata": {},
   "outputs": [
    {
     "data": {
      "text/html": [
       "<div>\n",
       "<style scoped>\n",
       "    .dataframe tbody tr th:only-of-type {\n",
       "        vertical-align: middle;\n",
       "    }\n",
       "\n",
       "    .dataframe tbody tr th {\n",
       "        vertical-align: top;\n",
       "    }\n",
       "\n",
       "    .dataframe thead th {\n",
       "        text-align: right;\n",
       "    }\n",
       "</style>\n",
       "<table border=\"1\" class=\"dataframe\">\n",
       "  <thead>\n",
       "    <tr style=\"text-align: right;\">\n",
       "      <th></th>\n",
       "      <th>RMSE</th>\n",
       "      <th>MAE</th>\n",
       "      <th>R2</th>\n",
       "    </tr>\n",
       "  </thead>\n",
       "  <tbody>\n",
       "    <tr>\n",
       "      <th>LightGBM</th>\n",
       "      <td>24.724837</td>\n",
       "      <td>17.914405</td>\n",
       "      <td>0.941204</td>\n",
       "    </tr>\n",
       "    <tr>\n",
       "      <th>CatBoost</th>\n",
       "      <td>28.687290</td>\n",
       "      <td>20.443632</td>\n",
       "      <td>0.920848</td>\n",
       "    </tr>\n",
       "  </tbody>\n",
       "</table>\n",
       "</div>"
      ],
      "text/plain": [
       "               RMSE        MAE        R2\n",
       "LightGBM  24.724837  17.914405  0.941204\n",
       "CatBoost  28.687290  20.443632  0.920848"
      ]
     },
     "execution_count": 56,
     "metadata": {},
     "output_type": "execute_result"
    }
   ],
   "source": [
    "y_hat_test_lgb = lgb_multimodel.predict(X_test)\n",
    "y_hat_test_cat = cat_multimodel.predict(X_test)\n",
    "\n",
    "lgb_eval = eval_model(y_test, y_hat_test_lgb)\n",
    "cat_eval = eval_model(y_test, y_hat_test_cat)\n",
    "\n",
    "eval_multi_ss = pd.DataFrame([lgb_eval, cat_eval], index=['LightGBM', 'CatBoost'])\n",
    "eval_multi_ss"
   ]
  },
  {
   "cell_type": "code",
   "execution_count": 57,
   "metadata": {},
   "outputs": [
    {
     "data": {
      "text/plain": [
       "array([[7, 8, 9],\n",
       "       [4, 5, 6],\n",
       "       [1, 2, 3]])"
      ]
     },
     "execution_count": 57,
     "metadata": {},
     "output_type": "execute_result"
    }
   ],
   "source": [
    "np.flip(np.arange(1,10).reshape([3,3]), axis=0)"
   ]
  },
  {
   "cell_type": "markdown",
   "metadata": {},
   "source": [
    "### Univariable Multi-Step Evaluation"
   ]
  },
  {
   "cell_type": "code",
   "execution_count": 66,
   "metadata": {},
   "outputs": [],
   "source": [
    "def predict_n(model, data, n):\n",
    "    all_results = []\n",
    "    current_data = data.values.copy()\n",
    "    for _ in range(n):\n",
    "        prediction = model.predict(current_data)\n",
    "        all_results.append(prediction)\n",
    "        current_data[:,1:] = current_data[:,:-1]\n",
    "        current_data[:,1] = prediction\n",
    "    return np.array(all_results).T"
   ]
  },
  {
   "cell_type": "code",
   "execution_count": 67,
   "metadata": {},
   "outputs": [
    {
     "data": {
      "text/html": [
       "<div>\n",
       "<style scoped>\n",
       "    .dataframe tbody tr th:only-of-type {\n",
       "        vertical-align: middle;\n",
       "    }\n",
       "\n",
       "    .dataframe tbody tr th {\n",
       "        vertical-align: top;\n",
       "    }\n",
       "\n",
       "    .dataframe thead th {\n",
       "        text-align: right;\n",
       "    }\n",
       "</style>\n",
       "<table border=\"1\" class=\"dataframe\">\n",
       "  <thead>\n",
       "    <tr style=\"text-align: right;\">\n",
       "      <th></th>\n",
       "      <th>RMSE</th>\n",
       "      <th>MAE</th>\n",
       "      <th>R2</th>\n",
       "    </tr>\n",
       "  </thead>\n",
       "  <tbody>\n",
       "    <tr>\n",
       "      <th>LightGBM</th>\n",
       "      <td>122.213609</td>\n",
       "      <td>102.693682</td>\n",
       "      <td>-0.432131</td>\n",
       "    </tr>\n",
       "    <tr>\n",
       "      <th>CatBoost</th>\n",
       "      <td>119.529035</td>\n",
       "      <td>99.854255</td>\n",
       "      <td>-0.370599</td>\n",
       "    </tr>\n",
       "  </tbody>\n",
       "</table>\n",
       "</div>"
      ],
      "text/plain": [
       "                RMSE         MAE        R2\n",
       "LightGBM  122.213609  102.693682 -0.432131\n",
       "CatBoost  119.529035   99.854255 -0.370599"
      ]
     },
     "execution_count": 67,
     "metadata": {},
     "output_type": "execute_result"
    }
   ],
   "source": [
    "y_hat_test_lgb = predict_n(lgb_unimodel, X_12fut_test, params['FUTURE_LAGS'])\n",
    "y_hat_test_cat = predict_n(cat_unimodel, X_12fut_test, params['FUTURE_LAGS'])\n",
    "\n",
    "unilgb_eval = eval_model(y_12fut_test, y_hat_test_lgb)\n",
    "unicat_eval = eval_model(y_12fut_test, y_hat_test_cat)\n",
    "\n",
    "eval_uni_ms = pd.DataFrame([unilgb_eval, unicat_eval], index=['LightGBM', 'CatBoost'])\n",
    "eval_uni_ms"
   ]
  },
  {
   "cell_type": "code",
   "execution_count": 68,
   "metadata": {},
   "outputs": [
    {
     "data": {
      "image/png": "[encoded data removed]",
      "text/plain": [
       "<Figure size 432x288 with 1 Axes>"
      ]
     },
     "metadata": {
      "needs_background": "light"
     },
     "output_type": "display_data"
    }
   ],
   "source": [
    "# Now I will get the MAE per lag\n",
    "plt.plot(np.flip(mean_absolute_error(y_12fut_test, y_hat_test_cat, multioutput=\"raw_values\")), label=\"Catboost\")\n",
    "plt.plot(np.flip(mean_absolute_error(y_12fut_test, y_hat_test_lgb, multioutput=\"raw_values\")), label=\"LightGBM\")\n",
    "plt.legend()\n",
    "plt.xlabel(\"Hours From Last Real\")\n",
    "plt.ylabel(\"MAE\")\n",
    "plt.show()"
   ]
  },
  {
   "cell_type": "code",
   "execution_count": 69,
   "metadata": {},
   "outputs": [],
   "source": [
    "catboost_array = np.array([y_hat_test_cat, y_12fut_test])\n",
    "np.save(f'results/Magazine Results/CatBoost_12Hrs_Predictions.npy', catboost_array)\n",
    "\n",
    "lightgbm_array = np.array([y_hat_test_lgb, y_12fut_test])\n",
    "np.save(f'results/Magazine Results/LightGBM_12Hrs_Predictions.npy', lightgbm_array)"
   ]
  },
  {
   "cell_type": "markdown",
   "metadata": {},
   "source": [
    "### Univariable One Week From Now"
   ]
  },
  {
   "cell_type": "code",
   "execution_count": 70,
   "metadata": {},
   "outputs": [
    {
     "data": {
      "text/html": [
       "<div>\n",
       "<style scoped>\n",
       "    .dataframe tbody tr th:only-of-type {\n",
       "        vertical-align: middle;\n",
       "    }\n",
       "\n",
       "    .dataframe tbody tr th {\n",
       "        vertical-align: top;\n",
       "    }\n",
       "\n",
       "    .dataframe thead th {\n",
       "        text-align: right;\n",
       "    }\n",
       "</style>\n",
       "<table border=\"1\" class=\"dataframe\">\n",
       "  <thead>\n",
       "    <tr style=\"text-align: right;\">\n",
       "      <th></th>\n",
       "      <th>RMSE</th>\n",
       "      <th>MAE</th>\n",
       "      <th>R2</th>\n",
       "    </tr>\n",
       "  </thead>\n",
       "  <tbody>\n",
       "    <tr>\n",
       "      <th>LightGBM</th>\n",
       "      <td>118.350877</td>\n",
       "      <td>94.780367</td>\n",
       "      <td>-0.582197</td>\n",
       "    </tr>\n",
       "    <tr>\n",
       "      <th>CatBoost</th>\n",
       "      <td>119.081366</td>\n",
       "      <td>95.741746</td>\n",
       "      <td>-0.602962</td>\n",
       "    </tr>\n",
       "  </tbody>\n",
       "</table>\n",
       "</div>"
      ],
      "text/plain": [
       "                RMSE        MAE        R2\n",
       "LightGBM  118.350877  94.780367 -0.582197\n",
       "CatBoost  119.081366  95.741746 -0.602962"
      ]
     },
     "execution_count": 70,
     "metadata": {},
     "output_type": "execute_result"
    }
   ],
   "source": [
    "y_hat_test_lgb = predict_n(lgb_unimodel, X_week_test, 168)\n",
    "y_hat_test_cat = predict_n(cat_unimodel, X_week_test, 168)\n",
    "\n",
    "weeklgb_eval = eval_model(y_week_test, y_hat_test_lgb)\n",
    "weekcat_eval = eval_model(y_week_test, y_hat_test_cat)\n",
    "\n",
    "eval_week = pd.DataFrame([weeklgb_eval, weekcat_eval], index=['LightGBM', 'CatBoost'])\n",
    "eval_week"
   ]
  },
  {
   "cell_type": "code",
   "execution_count": 71,
   "metadata": {},
   "outputs": [
    {
     "data": {
      "image/png": "[encoded data removed]",
      "text/plain": [
       "<Figure size 432x288 with 1 Axes>"
      ]
     },
     "metadata": {
      "needs_background": "light"
     },
     "output_type": "display_data"
    }
   ],
   "source": [
    "# Now I will get the MAE per lag\n",
    "plt.plot(np.flip(mean_absolute_error(y_week_test, y_hat_test_cat, multioutput=\"raw_values\")), label=\"Catboost\")\n",
    "plt.plot(np.flip(mean_absolute_error(y_week_test, y_hat_test_lgb, multioutput=\"raw_values\")), label=\"LightGBM\")\n",
    "plt.legend()\n",
    "plt.xlabel(\"Hours From Last Real\")\n",
    "plt.ylabel(\"MAE\")\n",
    "plt.show()"
   ]
  },
  {
   "cell_type": "code",
   "execution_count": 28,
   "metadata": {},
   "outputs": [
    {
     "data": {
      "text/plain": [
       "array([ 44.65131042,  51.45249902,  66.54154315,  81.90404669,\n",
       "        96.26653496, 107.16256767, 115.40530371, 121.67226706,\n",
       "       125.709146  , 127.23537065, 126.61485165, 127.03216453,\n",
       "       130.58018138, 134.78545235, 136.6642165 , 136.35257555,\n",
       "       133.37944405, 128.42699749, 119.65870504, 109.31308355,\n",
       "        95.96464875,  81.26550895,  67.84628235,  53.48520971,\n",
       "        44.2474249 ,  50.14033218,  62.60534349,  77.47817109,\n",
       "        91.11613096, 101.98047222, 111.9536617 , 119.2531445 ,\n",
       "       124.25833491, 127.38965218, 128.8658632 , 128.65175352,\n",
       "       129.7521202 , 131.82177714, 133.2734679 , 132.16450027,\n",
       "       128.4198261 , 123.12470076, 114.93543511, 104.03084234,\n",
       "        91.18624395,  78.15431811,  66.41001288,  56.22472786,\n",
       "        48.624355  ,  53.13096343,  64.03093155,  76.07247109,\n",
       "        88.65131659,  99.52321562, 108.72664477, 116.2839218 ,\n",
       "       121.45610024, 125.22384099, 127.37178321, 127.71325119,\n",
       "       127.47647817, 128.54453322, 129.82347396, 128.9590865 ,\n",
       "       124.95916834, 118.71733391, 110.15669728,  99.16791115,\n",
       "        86.38542198,  73.57510235,  63.54735922,  54.03127471,\n",
       "        48.12557474,  51.94271702,  62.08287903,  74.06251542,\n",
       "        85.79293659,  96.02718426, 105.50223395, 112.27322732,\n",
       "       117.76663027, 121.32157578, 123.07806991, 124.46722317,\n",
       "       124.52550233, 125.43529278, 125.41018249, 124.38315827,\n",
       "       120.99861976, 114.95719302, 105.94309631,  94.64629765,\n",
       "        82.03198294,  68.79137983,  56.13658046,  49.88347382,\n",
       "        47.29638012,  51.49783362,  59.82736727,  70.68672527,\n",
       "        81.80338109,  92.54297887, 101.89503418, 108.68623349,\n",
       "       112.71515291, 115.44353973, 117.40203051, 118.58801455,\n",
       "       120.55798268, 121.40275723, 120.76785114, 118.68060603,\n",
       "       114.77969214, 107.40290733,  98.76617474,  87.39574841,\n",
       "        74.47874609,  61.83314691,  51.34900338,  45.191861  ,\n",
       "        44.46760636,  51.57694783,  60.3983062 ,  69.08135063,\n",
       "        77.78765154,  86.79289947,  94.21888222,  98.82695481,\n",
       "       100.92159221, 102.61910977, 103.96083298, 105.77079308,\n",
       "       108.55141965, 110.39019225, 109.32121665, 106.89921484,\n",
       "       102.55032277,  96.47291925,  87.46567057,  76.7291506 ,\n",
       "        64.67824694,  52.26502343,  39.88471452,  32.9480785 ,\n",
       "        33.68865512,  38.64806194,  46.28498001,  53.98326988,\n",
       "        60.48064898,  67.02811456,  71.55049352,  73.78388001,\n",
       "        74.78466453,  75.68310323,  76.13323351,  75.96624566,\n",
       "        75.97945446,  75.64303913,  74.78088416,  73.02116826,\n",
       "        70.13154987,  66.77426588,  60.77516436,  53.33628739,\n",
       "        44.892831  ,  34.27257684,  23.82951734,  16.93165137])"
      ]
     },
     "execution_count": 28,
     "metadata": {},
     "output_type": "execute_result"
    }
   ],
   "source": [
    "mean_absolute_error(y_week_test, y_hat_test_cat, multioutput=\"raw_values\")"
   ]
  },
  {
   "cell_type": "code",
   "execution_count": 29,
   "metadata": {},
   "outputs": [],
   "source": [
    "catboost_array = np.array([y_hat_test_cat, y_week_test])\n",
    "np.save(f'results/Magazine Results/CatBoost_Week_Predictions.npy', catboost_array)\n",
    "\n",
    "lightgbm_array = np.array([y_hat_test_lgb, y_week_test])\n",
    "np.save(f'results/Magazine Results/LightGBM_Week_Predictions.npy', lightgbm_array)"
   ]
  },
  {
   "cell_type": "code",
   "execution_count": 30,
   "metadata": {},
   "outputs": [
    {
     "data": {
      "text/html": [
       "<div>\n",
       "<style scoped>\n",
       "    .dataframe tbody tr th:only-of-type {\n",
       "        vertical-align: middle;\n",
       "    }\n",
       "\n",
       "    .dataframe tbody tr th {\n",
       "        vertical-align: top;\n",
       "    }\n",
       "\n",
       "    .dataframe thead th {\n",
       "        text-align: right;\n",
       "    }\n",
       "</style>\n",
       "<table border=\"1\" class=\"dataframe\">\n",
       "  <thead>\n",
       "    <tr style=\"text-align: right;\">\n",
       "      <th></th>\n",
       "      <th></th>\n",
       "      <th>RMSE</th>\n",
       "      <th>MAE</th>\n",
       "      <th>R2</th>\n",
       "    </tr>\n",
       "  </thead>\n",
       "  <tbody>\n",
       "    <tr>\n",
       "      <th rowspan=\"4\" valign=\"top\">LightGBM</th>\n",
       "      <th>1 Hour Univariable Evaluation</th>\n",
       "      <td>25.096804</td>\n",
       "      <td>18.131684</td>\n",
       "      <td>0.939421</td>\n",
       "    </tr>\n",
       "    <tr>\n",
       "      <th>1 Hour Multivariable Evaluation</th>\n",
       "      <td>24.724837</td>\n",
       "      <td>17.914405</td>\n",
       "      <td>0.941204</td>\n",
       "    </tr>\n",
       "    <tr>\n",
       "      <th>12 Hours Univariable Evaluation</th>\n",
       "      <td>99.362132</td>\n",
       "      <td>79.347907</td>\n",
       "      <td>0.053959</td>\n",
       "    </tr>\n",
       "    <tr>\n",
       "      <th>168 Hours Evaluation</th>\n",
       "      <td>116.446974</td>\n",
       "      <td>92.475321</td>\n",
       "      <td>-0.512515</td>\n",
       "    </tr>\n",
       "    <tr>\n",
       "      <th rowspan=\"4\" valign=\"top\">Catboost</th>\n",
       "      <th>1 Hour Univariable Evaluation</th>\n",
       "      <td>27.781705</td>\n",
       "      <td>19.544919</td>\n",
       "      <td>0.925766</td>\n",
       "    </tr>\n",
       "    <tr>\n",
       "      <th>1 Hour Multivariable Evaluation</th>\n",
       "      <td>28.687290</td>\n",
       "      <td>20.443632</td>\n",
       "      <td>0.920848</td>\n",
       "    </tr>\n",
       "    <tr>\n",
       "      <th>12 Hours Univariable Evaluation</th>\n",
       "      <td>82.352569</td>\n",
       "      <td>66.280142</td>\n",
       "      <td>0.350052</td>\n",
       "    </tr>\n",
       "    <tr>\n",
       "      <th>168 Hours Evaluation</th>\n",
       "      <td>115.304079</td>\n",
       "      <td>91.062502</td>\n",
       "      <td>-0.474121</td>\n",
       "    </tr>\n",
       "  </tbody>\n",
       "</table>\n",
       "</div>"
      ],
      "text/plain": [
       "                                                RMSE        MAE        R2\n",
       "LightGBM 1 Hour Univariable Evaluation     25.096804  18.131684  0.939421\n",
       "         1 Hour Multivariable Evaluation   24.724837  17.914405  0.941204\n",
       "         12 Hours Univariable Evaluation   99.362132  79.347907  0.053959\n",
       "         168 Hours Evaluation             116.446974  92.475321 -0.512515\n",
       "Catboost 1 Hour Univariable Evaluation     27.781705  19.544919  0.925766\n",
       "         1 Hour Multivariable Evaluation   28.687290  20.443632  0.920848\n",
       "         12 Hours Univariable Evaluation   82.352569  66.280142  0.350052\n",
       "         168 Hours Evaluation             115.304079  91.062502 -0.474121"
      ]
     },
     "execution_count": 30,
     "metadata": {},
     "output_type": "execute_result"
    }
   ],
   "source": [
    "lgb_eval = pd.DataFrame({\n",
    "    \"1 Hour Univariable Evaluation\": eval_uni_ss.iloc[0],\n",
    "    \"1 Hour Multivariable Evaluation\": eval_multi_ss.iloc[0],\n",
    "    \"12 Hours Univariable Evaluation\": eval_uni_ms.iloc[0],\n",
    "    \"168 Hours Evaluation\": eval_week.iloc[0] \n",
    "}).T\n",
    "\n",
    "cat_eval = pd.DataFrame({\n",
    "    \"1 Hour Univariable Evaluation\": eval_uni_ss.iloc[1],\n",
    "    \"1 Hour Multivariable Evaluation\": eval_multi_ss.iloc[1],\n",
    "    \"12 Hours Univariable Evaluation\": eval_uni_ms.iloc[1],\n",
    "    \"168 Hours Evaluation\": eval_week.iloc[1] \n",
    "}).T\n",
    "\n",
    "boosting_eval = pd.concat([lgb_eval, cat_eval], keys=[\"LightGBM\", \"Catboost\"])\n",
    "boosting_eval.to_csv(f'results/Magazine Results/Boosting_Evaluations.csv')\n",
    "boosting_eval"
   ]
  },
  {
   "cell_type": "code",
   "execution_count": null,
   "metadata": {},
   "outputs": [],
   "source": []
  }
 ],
 "metadata": {
  "kernelspec": {
   "display_name": "Python 3.7.6 64-bit ('CarSharingEnv': conda)",
   "language": "python",
   "name": "python37664bitcarsharingenvcondaf61cd503e3274ce6bd69d58b01a97e08"
  },
  "language_info": {
   "codemirror_mode": {
    "name": "ipython",
    "version": 3
   },
   "file_extension": ".py",
   "mimetype": "text/x-python",
   "name": "python",
   "nbconvert_exporter": "python",
   "pygments_lexer": "ipython3",
   "version": "3.7.6"
  }
 },
 "nbformat": 4,
 "nbformat_minor": 4
}
