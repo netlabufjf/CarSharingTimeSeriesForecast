{
 "cells": [
  {
   "cell_type": "code",
   "execution_count": 33,
   "metadata": {},
   "outputs": [],
   "source": [
    "import pickle\n",
    "import json\n",
    "import pandas as pd\n",
    "import numpy as np\n",
    "import catboost\n",
    "import lightgbm as lgb\n",
    "from sklearn.metrics import mean_absolute_error, mean_squared_error, r2_score"
   ]
  },
  {
   "cell_type": "markdown",
   "metadata": {},
   "source": [
    "## Reading data and Preparing it"
   ]
  },
  {
   "cell_type": "code",
   "execution_count": 13,
   "metadata": {},
   "outputs": [],
   "source": [
    "# reading data\n",
    "c2g_data = pd.read_csv('data/interpol/c2g_interpol_demand.csv', index_col=0)\n",
    "\n",
    "def read_pickle(path):\n",
    "    infile = open(path,'rb')\n",
    "    file = pickle.load(infile)\n",
    "    infile.close()\n",
    "    return file\n",
    "\n",
    "lgb_multimodel = read_pickle(r'models/c2g_model_light_gbm.sav')\n",
    "lgb_unimodel = read_pickle(r'models/unic2g_model_light_gbm.sav')\n",
    "cat_multimodel = read_pickle(r'models/c2g_model_catboost.sav')\n",
    "cat_unimodel = read_pickle(r'models/unic2g_model_catboost.sav')\n",
    "\n",
    "with open(r'models/LightGBM_Data_Parameters.json') as f:\n",
    "    data_lgb_parameters = json.load(f)\n",
    "    \n",
    "with open(r'models/Catboost_Data_Parameters.json') as f:\n",
    "    data_cat_parameters = json.load(f)\n",
    "    \n",
    "if(data_cat_parameters == data_lgb_parameters):\n",
    "    params = data_cat_parameters\n",
    "else:\n",
    "    print(\"The parameters on the data must be the same\")\n",
    "    print(data_cat_parameters)\n",
    "    print(data_lgb_parameters)\n",
    "    params = {}"
   ]
  },
  {
   "cell_type": "code",
   "execution_count": 14,
   "metadata": {},
   "outputs": [
    {
     "data": {
      "text/plain": [
       "Index(['tempC', 'precipMM', 'FeelsLikeC', 'uvIndex', 'visibility',\n",
       "       'windspeedMiles', 'Blizzard', 'Clear', 'Cloudy', 'Fog', 'Heavy rain',\n",
       "       'Heavy rain at times', 'Heavy snow', 'Light drizzle', 'Light rain',\n",
       "       'Light rain shower', 'Light sleet', 'Light sleet showers', 'Light snow',\n",
       "       'Mist', 'Moderate or heavy freezing rain',\n",
       "       'Moderate or heavy rain shower', 'Moderate or heavy rain with thunder',\n",
       "       'Moderate or heavy sleet', 'Moderate or heavy snow showers',\n",
       "       'Moderate or heavy snow with thunder', 'Moderate rain',\n",
       "       'Moderate rain at times', 'Moderate snow', 'Overcast', 'Partly cloudy',\n",
       "       'Patchy heavy snow', 'Patchy light drizzle', 'Patchy light rain',\n",
       "       'Patchy light rain with thunder', 'Patchy light snow',\n",
       "       'Patchy moderate snow', 'Patchy rain possible', 'Patchy sleet possible',\n",
       "       'Patchy snow possible', 'Sunny', 'Thundery outbreaks possible',\n",
       "       'Torrential rain shower', 'Monday', 'Tuesday', 'Wednesday', 'Thursday',\n",
       "       'Friday', 'Saturday', 'Sunday', 'hour_0', 'hour_1', 'hour_2', 'hour_3',\n",
       "       'hour_4', 'hour_5', 'hour_6', 'hour_7', 'hour_8', 'hour_9', 'hour_10',\n",
       "       'hour_11', 'hour_12', 'hour_13', 'hour_14', 'hour_15', 'hour_16',\n",
       "       'hour_17', 'hour_18', 'hour_19', 'hour_20', 'hour_21', 'hour_22',\n",
       "       'hour_23', 'travels', 'interpolate'],\n",
       "      dtype='object')"
      ]
     },
     "execution_count": 14,
     "metadata": {},
     "output_type": "execute_result"
    }
   ],
   "source": [
    "c2g_data.columns"
   ]
  },
  {
   "cell_type": "code",
   "execution_count": 15,
   "metadata": {},
   "outputs": [],
   "source": [
    "c2g_data.drop(columns = ['hour_0', 'hour_1', 'hour_2', 'hour_3',\n",
    "       'hour_4', 'hour_5', 'hour_6', 'hour_7', 'hour_8', 'hour_9', 'hour_10',\n",
    "       'hour_11', 'hour_12', 'hour_13', 'hour_14', 'hour_15', 'hour_16',\n",
    "       'hour_17', 'hour_18', 'hour_19', 'hour_20', 'hour_21', 'hour_22',\n",
    "       'hour_23', 'interpolate'], inplace=True)"
   ]
  },
  {
   "cell_type": "code",
   "execution_count": 17,
   "metadata": {},
   "outputs": [
    {
     "data": {
      "text/plain": [
       "{'TIME_FRAME_START': '2016-12-13 15:00:00',\n",
       " 'TIME_FRAME_FINISH': '2017-02-25 17:00:00',\n",
       " 'TRAIN_VAL_SPLIT': 0.8,\n",
       " 'VAL_TEST_SPLIT': 0.9,\n",
       " 'PAST_LAGS': 24,\n",
       " 'FUTURE_LAGS': 12}"
      ]
     },
     "execution_count": 17,
     "metadata": {},
     "output_type": "execute_result"
    }
   ],
   "source": [
    "params"
   ]
  },
  {
   "cell_type": "code",
   "execution_count": 18,
   "metadata": {},
   "outputs": [],
   "source": [
    "c2g_data.index = pd.to_datetime(c2g_data.index)\n",
    "\n",
    "c2g_data = c2g_data.loc[params[\"TIME_FRAME_START\"]:params[\"TIME_FRAME_FINISH\"]]"
   ]
  },
  {
   "cell_type": "code",
   "execution_count": 20,
   "metadata": {},
   "outputs": [],
   "source": [
    "def undo_one_hot(df, new_col_name, columns = []):\n",
    "    new_df = df.copy().drop(columns=columns)\n",
    "    \n",
    "    def get_cat(row):\n",
    "        for c in df.loc[:, columns].columns:\n",
    "            if row[c]==1:\n",
    "                return c\n",
    "            \n",
    "    new_df[new_col_name] = pd.Categorical(df.apply(get_cat, axis=1))\n",
    "    \n",
    "    return new_df"
   ]
  },
  {
   "cell_type": "code",
   "execution_count": 21,
   "metadata": {},
   "outputs": [
    {
     "data": {
      "text/html": [
       "<div>\n",
       "<style scoped>\n",
       "    .dataframe tbody tr th:only-of-type {\n",
       "        vertical-align: middle;\n",
       "    }\n",
       "\n",
       "    .dataframe tbody tr th {\n",
       "        vertical-align: top;\n",
       "    }\n",
       "\n",
       "    .dataframe thead th {\n",
       "        text-align: right;\n",
       "    }\n",
       "</style>\n",
       "<table border=\"1\" class=\"dataframe\">\n",
       "  <thead>\n",
       "    <tr style=\"text-align: right;\">\n",
       "      <th></th>\n",
       "      <th>tempC</th>\n",
       "      <th>precipMM</th>\n",
       "      <th>FeelsLikeC</th>\n",
       "      <th>uvIndex</th>\n",
       "      <th>visibility</th>\n",
       "      <th>windspeedMiles</th>\n",
       "      <th>travels</th>\n",
       "      <th>Weather</th>\n",
       "      <th>Weekday</th>\n",
       "    </tr>\n",
       "  </thead>\n",
       "  <tbody>\n",
       "    <tr>\n",
       "      <th>2016-12-13 15:00:00</th>\n",
       "      <td>-2</td>\n",
       "      <td>0.0</td>\n",
       "      <td>-2</td>\n",
       "      <td>1</td>\n",
       "      <td>10</td>\n",
       "      <td>5</td>\n",
       "      <td>120.0</td>\n",
       "      <td>Sunny</td>\n",
       "      <td>Tuesday</td>\n",
       "    </tr>\n",
       "    <tr>\n",
       "      <th>2016-12-13 16:00:00</th>\n",
       "      <td>-2</td>\n",
       "      <td>0.0</td>\n",
       "      <td>-3</td>\n",
       "      <td>1</td>\n",
       "      <td>10</td>\n",
       "      <td>6</td>\n",
       "      <td>156.0</td>\n",
       "      <td>Sunny</td>\n",
       "      <td>Tuesday</td>\n",
       "    </tr>\n",
       "    <tr>\n",
       "      <th>2016-12-13 17:00:00</th>\n",
       "      <td>-2</td>\n",
       "      <td>0.0</td>\n",
       "      <td>-4</td>\n",
       "      <td>1</td>\n",
       "      <td>10</td>\n",
       "      <td>6</td>\n",
       "      <td>167.0</td>\n",
       "      <td>Sunny</td>\n",
       "      <td>Tuesday</td>\n",
       "    </tr>\n",
       "    <tr>\n",
       "      <th>2016-12-13 18:00:00</th>\n",
       "      <td>-3</td>\n",
       "      <td>0.0</td>\n",
       "      <td>-4</td>\n",
       "      <td>1</td>\n",
       "      <td>10</td>\n",
       "      <td>6</td>\n",
       "      <td>154.0</td>\n",
       "      <td>Sunny</td>\n",
       "      <td>Tuesday</td>\n",
       "    </tr>\n",
       "    <tr>\n",
       "      <th>2016-12-13 19:00:00</th>\n",
       "      <td>-3</td>\n",
       "      <td>0.0</td>\n",
       "      <td>-5</td>\n",
       "      <td>1</td>\n",
       "      <td>10</td>\n",
       "      <td>7</td>\n",
       "      <td>174.0</td>\n",
       "      <td>Clear</td>\n",
       "      <td>Tuesday</td>\n",
       "    </tr>\n",
       "  </tbody>\n",
       "</table>\n",
       "</div>"
      ],
      "text/plain": [
       "                     tempC  precipMM  FeelsLikeC  uvIndex  visibility  \\\n",
       "2016-12-13 15:00:00     -2       0.0          -2        1          10   \n",
       "2016-12-13 16:00:00     -2       0.0          -3        1          10   \n",
       "2016-12-13 17:00:00     -2       0.0          -4        1          10   \n",
       "2016-12-13 18:00:00     -3       0.0          -4        1          10   \n",
       "2016-12-13 19:00:00     -3       0.0          -5        1          10   \n",
       "\n",
       "                     windspeedMiles  travels Weather  Weekday  \n",
       "2016-12-13 15:00:00               5    120.0   Sunny  Tuesday  \n",
       "2016-12-13 16:00:00               6    156.0   Sunny  Tuesday  \n",
       "2016-12-13 17:00:00               6    167.0   Sunny  Tuesday  \n",
       "2016-12-13 18:00:00               6    154.0   Sunny  Tuesday  \n",
       "2016-12-13 19:00:00               7    174.0   Clear  Tuesday  "
      ]
     },
     "execution_count": 21,
     "metadata": {},
     "output_type": "execute_result"
    }
   ],
   "source": [
    "c2g_data = undo_one_hot(c2g_data, 'Weather', columns=['Blizzard', 'Clear', 'Cloudy', 'Fog', 'Heavy rain',\n",
    "       'Heavy rain at times', 'Heavy snow', 'Light drizzle', 'Light rain',\n",
    "       'Light rain shower', 'Light sleet', 'Light sleet showers', 'Light snow',\n",
    "       'Mist', 'Moderate or heavy freezing rain',\n",
    "       'Moderate or heavy rain shower', 'Moderate or heavy rain with thunder',\n",
    "       'Moderate or heavy sleet', 'Moderate or heavy snow showers',\n",
    "       'Moderate or heavy snow with thunder', 'Moderate rain',\n",
    "       'Moderate rain at times', 'Moderate snow', 'Overcast', 'Partly cloudy',\n",
    "       'Patchy heavy snow', 'Patchy light drizzle', 'Patchy light rain',\n",
    "       'Patchy light rain with thunder', 'Patchy light snow',\n",
    "       'Patchy moderate snow', 'Patchy rain possible', 'Patchy sleet possible',\n",
    "       'Patchy snow possible', 'Sunny', 'Thundery outbreaks possible',\n",
    "       'Torrential rain shower'])\n",
    "c2g_data = undo_one_hot(c2g_data, 'Weekday', columns=['Monday', 'Tuesday', 'Wednesday', 'Thursday',\n",
    "       'Friday', 'Saturday', 'Sunday'])\n",
    "c2g_data.head()"
   ]
  },
  {
   "cell_type": "code",
   "execution_count": 22,
   "metadata": {},
   "outputs": [
    {
     "data": {
      "text/html": [
       "<div>\n",
       "<style scoped>\n",
       "    .dataframe tbody tr th:only-of-type {\n",
       "        vertical-align: middle;\n",
       "    }\n",
       "\n",
       "    .dataframe tbody tr th {\n",
       "        vertical-align: top;\n",
       "    }\n",
       "\n",
       "    .dataframe thead th {\n",
       "        text-align: right;\n",
       "    }\n",
       "</style>\n",
       "<table border=\"1\" class=\"dataframe\">\n",
       "  <thead>\n",
       "    <tr style=\"text-align: right;\">\n",
       "      <th></th>\n",
       "      <th>travels</th>\n",
       "    </tr>\n",
       "  </thead>\n",
       "  <tbody>\n",
       "    <tr>\n",
       "      <th>2016-12-13 15:00:00</th>\n",
       "      <td>120.0</td>\n",
       "    </tr>\n",
       "    <tr>\n",
       "      <th>2016-12-13 16:00:00</th>\n",
       "      <td>156.0</td>\n",
       "    </tr>\n",
       "    <tr>\n",
       "      <th>2016-12-13 17:00:00</th>\n",
       "      <td>167.0</td>\n",
       "    </tr>\n",
       "    <tr>\n",
       "      <th>2016-12-13 18:00:00</th>\n",
       "      <td>154.0</td>\n",
       "    </tr>\n",
       "    <tr>\n",
       "      <th>2016-12-13 19:00:00</th>\n",
       "      <td>174.0</td>\n",
       "    </tr>\n",
       "  </tbody>\n",
       "</table>\n",
       "</div>"
      ],
      "text/plain": [
       "                     travels\n",
       "2016-12-13 15:00:00    120.0\n",
       "2016-12-13 16:00:00    156.0\n",
       "2016-12-13 17:00:00    167.0\n",
       "2016-12-13 18:00:00    154.0\n",
       "2016-12-13 19:00:00    174.0"
      ]
     },
     "execution_count": 22,
     "metadata": {},
     "output_type": "execute_result"
    }
   ],
   "source": [
    "unic2g_data = pd.DataFrame(c2g_data.travels)\n",
    "unic2g_data.head()"
   ]
  },
  {
   "cell_type": "code",
   "execution_count": 23,
   "metadata": {},
   "outputs": [],
   "source": [
    "def gen_supervised_learning(df, past_lags, future_lags):\n",
    "    X = df.copy()\n",
    "    for lag in range(1, past_lags):\n",
    "        X = X.join(df.shift(lag), rsuffix=f'_t-{lag}')\n",
    "    \n",
    "    y = pd.DataFrame(df.travels.copy())\n",
    "    for lag in range(1, future_lags):\n",
    "        y = y.join(df.travels.shift(lag), rsuffix=f'_t-{lag}')\n",
    "        \n",
    "    X = X.shift(future_lags)\n",
    "    \n",
    "    return X.iloc[past_lags + future_lags:], y.iloc[past_lags + future_lags:]"
   ]
  },
  {
   "cell_type": "code",
   "execution_count": 24,
   "metadata": {},
   "outputs": [],
   "source": [
    "X, y = gen_supervised_learning(c2g_data, params['PAST_LAGS'], 1)"
   ]
  },
  {
   "cell_type": "code",
   "execution_count": 25,
   "metadata": {},
   "outputs": [],
   "source": [
    "X_uni, y_uni = gen_supervised_learning(unic2g_data, params['PAST_LAGS'], 1)"
   ]
  },
  {
   "cell_type": "code",
   "execution_count": 26,
   "metadata": {},
   "outputs": [],
   "source": [
    "X_12fut, y_12fut = gen_supervised_learning(unic2g_data, params['PAST_LAGS'], params['FUTURE_LAGS'])"
   ]
  },
  {
   "cell_type": "code",
   "execution_count": 27,
   "metadata": {},
   "outputs": [],
   "source": [
    "def splitter(data, ratio):\n",
    "    size = len(data)\n",
    "    data_train = data.iloc[:int(ratio[0]*size)]\n",
    "    data_val = data.iloc[int(ratio[0]*size):int(ratio[1]*size)]\n",
    "    data_test = data.iloc[int(ratio[1]*size):]\n",
    "    return data_train, data_val, data_test"
   ]
  },
  {
   "cell_type": "code",
   "execution_count": 28,
   "metadata": {},
   "outputs": [],
   "source": [
    "X_train, X_val, X_test = splitter(X, [params['TRAIN_VAL_SPLIT'], params['VAL_TEST_SPLIT']])\n",
    "y_train, y_val, y_test = splitter(y, [params['TRAIN_VAL_SPLIT'], params['VAL_TEST_SPLIT']])\n",
    "X_uni_train, X_uni_val, X_uni_test = splitter(X_uni, [params['TRAIN_VAL_SPLIT'], params['VAL_TEST_SPLIT']])\n",
    "y_uni_train, y_uni_val, y_uni_test = splitter(y_uni, [params['TRAIN_VAL_SPLIT'], params['VAL_TEST_SPLIT']])\n",
    "X_12fut_train, X_12fut_val, X_12fut_test = splitter(X_12fut, [params['TRAIN_VAL_SPLIT'], params['VAL_TEST_SPLIT']])\n",
    "y_12fut_train, y_12fut_val, y_12fut_test = splitter(y_12fut, [params['TRAIN_VAL_SPLIT'], params['VAL_TEST_SPLIT']])"
   ]
  },
  {
   "cell_type": "markdown",
   "metadata": {},
   "source": [
    "## Evaluations"
   ]
  },
  {
   "cell_type": "code",
   "execution_count": 64,
   "metadata": {},
   "outputs": [],
   "source": [
    "def eval_model(y, y_hat, is_y_real=[], are_all_real=True):\n",
    "    if not are_all_real:\n",
    "        filtered_y = [[n for n, real in zip(case, real_list) if real != 1] for case, real_list in zip(y, is_y_real)]\n",
    "        filtered_y_hat = [[n for n, real in zip(case, real_list) if real != 1] for case, real_list in zip(y_hat, is_y_real)]\n",
    "\n",
    "        filtered_y = [n for n in filtered_y if n]\n",
    "        filtered_y_hat = [n for n in filtered_y_hat if n]\n",
    "        \n",
    "    else:\n",
    "        filtered_y = y\n",
    "        filtered_y_hat = y_hat\n",
    "    \n",
    "    n = 0\n",
    "    for item in filtered_y:\n",
    "        n += len(item)\n",
    "    \n",
    "    evaluation = {}\n",
    "    evaluation[\"RMSE\"] = np.sqrt(mean_squared_error(filtered_y, filtered_y_hat))\n",
    "    evaluation[\"MAE\"] = mean_absolute_error(filtered_y, filtered_y_hat)\n",
    "    evaluation[\"R2\"] = r2_score(filtered_y, filtered_y_hat)\n",
    "\n",
    "    return evaluation"
   ]
  },
  {
   "cell_type": "markdown",
   "metadata": {},
   "source": [
    "### Univariable Single-Step Evaluation"
   ]
  },
  {
   "cell_type": "code",
   "execution_count": 36,
   "metadata": {},
   "outputs": [
    {
     "data": {
      "text/html": [
       "<div>\n",
       "<style scoped>\n",
       "    .dataframe tbody tr th:only-of-type {\n",
       "        vertical-align: middle;\n",
       "    }\n",
       "\n",
       "    .dataframe tbody tr th {\n",
       "        vertical-align: top;\n",
       "    }\n",
       "\n",
       "    .dataframe thead th {\n",
       "        text-align: right;\n",
       "    }\n",
       "</style>\n",
       "<table border=\"1\" class=\"dataframe\">\n",
       "  <thead>\n",
       "    <tr style=\"text-align: right;\">\n",
       "      <th></th>\n",
       "      <th>RMSE</th>\n",
       "      <th>MAE</th>\n",
       "      <th>R2</th>\n",
       "    </tr>\n",
       "  </thead>\n",
       "  <tbody>\n",
       "    <tr>\n",
       "      <th>LightGBM</th>\n",
       "      <td>26.616146</td>\n",
       "      <td>18.860227</td>\n",
       "      <td>0.940307</td>\n",
       "    </tr>\n",
       "    <tr>\n",
       "      <th>CatBoost</th>\n",
       "      <td>29.087239</td>\n",
       "      <td>20.985718</td>\n",
       "      <td>0.928709</td>\n",
       "    </tr>\n",
       "  </tbody>\n",
       "</table>\n",
       "</div>"
      ],
      "text/plain": [
       "               RMSE        MAE        R2\n",
       "LightGBM  26.616146  18.860227  0.940307\n",
       "CatBoost  29.087239  20.985718  0.928709"
      ]
     },
     "execution_count": 36,
     "metadata": {},
     "output_type": "execute_result"
    }
   ],
   "source": [
    "y_hat_test_lgb = lgb_unimodel.predict(X_uni_test)\n",
    "y_hat_test_cat = cat_unimodel.predict(X_uni_test)\n",
    "\n",
    "unilgb_eval = eval_model(y_test, y_hat_test_lgb)\n",
    "unicat_eval = eval_model(y_test, y_hat_test_cat)\n",
    "\n",
    "eval_uni_ss = pd.DataFrame([unilgb_eval, unicat_eval], index=['LightGBM', 'CatBoost'])\n",
    "eval_uni_ss"
   ]
  },
  {
   "cell_type": "markdown",
   "metadata": {},
   "source": [
    "### Multivariable Single-Step Evaluation"
   ]
  },
  {
   "cell_type": "code",
   "execution_count": 40,
   "metadata": {},
   "outputs": [
    {
     "data": {
      "text/html": [
       "<div>\n",
       "<style scoped>\n",
       "    .dataframe tbody tr th:only-of-type {\n",
       "        vertical-align: middle;\n",
       "    }\n",
       "\n",
       "    .dataframe tbody tr th {\n",
       "        vertical-align: top;\n",
       "    }\n",
       "\n",
       "    .dataframe thead th {\n",
       "        text-align: right;\n",
       "    }\n",
       "</style>\n",
       "<table border=\"1\" class=\"dataframe\">\n",
       "  <thead>\n",
       "    <tr style=\"text-align: right;\">\n",
       "      <th></th>\n",
       "      <th>RMSE</th>\n",
       "      <th>MAE</th>\n",
       "      <th>R2</th>\n",
       "    </tr>\n",
       "  </thead>\n",
       "  <tbody>\n",
       "    <tr>\n",
       "      <th>LightGBM</th>\n",
       "      <td>27.949841</td>\n",
       "      <td>20.457185</td>\n",
       "      <td>0.934175</td>\n",
       "    </tr>\n",
       "    <tr>\n",
       "      <th>CatBoost</th>\n",
       "      <td>31.695423</td>\n",
       "      <td>23.449754</td>\n",
       "      <td>0.915351</td>\n",
       "    </tr>\n",
       "  </tbody>\n",
       "</table>\n",
       "</div>"
      ],
      "text/plain": [
       "               RMSE        MAE        R2\n",
       "LightGBM  27.949841  20.457185  0.934175\n",
       "CatBoost  31.695423  23.449754  0.915351"
      ]
     },
     "execution_count": 40,
     "metadata": {},
     "output_type": "execute_result"
    }
   ],
   "source": [
    "y_hat_test_lgb = lgb_multimodel.predict(X_test)\n",
    "y_hat_test_cat = cat_multimodel.predict(X_test)\n",
    "\n",
    "lgb_eval = eval_model(y_test, y_hat_test_lgb)\n",
    "cat_eval = eval_model(y_test, y_hat_test_cat)\n",
    "\n",
    "eval_multi_ss = pd.DataFrame([lgb_eval, cat_eval], index=['LightGBM', 'CatBoost'])\n",
    "eval_multi_ss"
   ]
  },
  {
   "cell_type": "markdown",
   "metadata": {},
   "source": [
    "### Univariable Multi-Step Evaluation"
   ]
  },
  {
   "cell_type": "code",
   "execution_count": 53,
   "metadata": {},
   "outputs": [],
   "source": [
    "def predict_n(model, data, n):\n",
    "    all_results = []\n",
    "    for index, row in data.iterrows():\n",
    "        values = pd.DataFrame(row.copy()).T\n",
    "        result = []\n",
    "        for _ in range(n):\n",
    "            prediction = model.predict(values)[0]\n",
    "            values.iloc[:, :-1] = values.iloc[:, 1:].values\n",
    "            values.iloc[:, -1] = prediction\n",
    "            result.append(prediction)\n",
    "        all_results.append(result)\n",
    "    return np.array(all_results)"
   ]
  },
  {
   "cell_type": "code",
   "execution_count": 65,
   "metadata": {},
   "outputs": [
    {
     "data": {
      "text/html": [
       "<div>\n",
       "<style scoped>\n",
       "    .dataframe tbody tr th:only-of-type {\n",
       "        vertical-align: middle;\n",
       "    }\n",
       "\n",
       "    .dataframe tbody tr th {\n",
       "        vertical-align: top;\n",
       "    }\n",
       "\n",
       "    .dataframe thead th {\n",
       "        text-align: right;\n",
       "    }\n",
       "</style>\n",
       "<table border=\"1\" class=\"dataframe\">\n",
       "  <thead>\n",
       "    <tr style=\"text-align: right;\">\n",
       "      <th></th>\n",
       "      <th>RMSE</th>\n",
       "      <th>MAE</th>\n",
       "      <th>R2</th>\n",
       "    </tr>\n",
       "  </thead>\n",
       "  <tbody>\n",
       "    <tr>\n",
       "      <th>LightGBM</th>\n",
       "      <td>173.942857</td>\n",
       "      <td>150.584352</td>\n",
       "      <td>-1.493902</td>\n",
       "    </tr>\n",
       "    <tr>\n",
       "      <th>CatBoost</th>\n",
       "      <td>171.728653</td>\n",
       "      <td>149.938302</td>\n",
       "      <td>-1.431051</td>\n",
       "    </tr>\n",
       "  </tbody>\n",
       "</table>\n",
       "</div>"
      ],
      "text/plain": [
       "                RMSE         MAE        R2\n",
       "LightGBM  173.942857  150.584352 -1.493902\n",
       "CatBoost  171.728653  149.938302 -1.431051"
      ]
     },
     "execution_count": 65,
     "metadata": {},
     "output_type": "execute_result"
    }
   ],
   "source": [
    "y_hat_test_lgb = predict_n(lgb_unimodel, X_12fut_test, params['FUTURE_LAGS'])\n",
    "y_hat_test_cat = predict_n(cat_unimodel, X_12fut_test, params['FUTURE_LAGS'])\n",
    "\n",
    "\n",
    "unilgb_eval = eval_model(y_12fut_test, y_hat_test_lgb)\n",
    "unicat_eval = eval_model(y_12fut_test, y_hat_test_cat)\n",
    "\n",
    "\n",
    "eval_uni_ms = pd.DataFrame([unilgb_eval, unicat_eval], index=['LightGBM', 'CatBoost'])\n",
    "eval_uni_ms"
   ]
  }
 ],
 "metadata": {
  "kernelspec": {
   "display_name": "Python 3.7.6 64-bit ('CarSharingEnv': conda)",
   "language": "python",
   "name": "python37664bitcarsharingenvcondaf61cd503e3274ce6bd69d58b01a97e08"
  },
  "language_info": {
   "codemirror_mode": {
    "name": "ipython",
    "version": 3
   },
   "file_extension": ".py",
   "mimetype": "text/x-python",
   "name": "python",
   "nbconvert_exporter": "python",
   "pygments_lexer": "ipython3",
   "version": "3.7.6"
  }
 },
 "nbformat": 4,
 "nbformat_minor": 4
}
