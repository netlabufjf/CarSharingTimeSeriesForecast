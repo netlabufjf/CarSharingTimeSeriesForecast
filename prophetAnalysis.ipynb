{
 "cells": [
  {
   "cell_type": "code",
   "execution_count": null,
   "metadata": {},
   "outputs": [],
   "source": [
    "from fbprophet import Prophet\n",
    "import fbprophet.diagnostics as Prophet_Diagnostics\n",
    "\n",
    "import matplotlib as mpl\n",
    "import matplotlib.pyplot as plt\n",
    "import numpy as np\n",
    "import os\n",
    "import pandas as pd\n",
    "import seaborn as sns\n",
    "from datetime import datetime\n",
    "import warnings\n",
    "import scipy.stats as stats\n",
    "warnings.filterwarnings('ignore')\n",
    "\n",
    "mpl.rcParams['figure.figsize'] = (8, 6)\n",
    "mpl.rcParams['axes.grid'] = False"
   ]
  },
  {
   "cell_type": "markdown",
   "metadata": {},
   "source": [
    "# Reading data"
   ]
  },
  {
   "cell_type": "code",
   "execution_count": null,
   "metadata": {},
   "outputs": [],
   "source": [
    "def evo_cleaning(data):\n",
    "    # only travels with more than 30 minutes of duration, that is the limit of cancellation of a reserve\n",
    "    data = data.loc[(data['duration'] > 30) | (data['distance'] > 3)]\n",
    "\n",
    "    data.Start_time = pd.to_datetime(data.Start_time)\n",
    "    data.End_time = pd.to_datetime(data.End_time)\n",
    "\n",
    "    # Colleting vehicle ids\n",
    "    car_ids = list(data.Id.unique())\n",
    "\n",
    "    # Removing uncommon ids\n",
    "    # Ex: 4c5865a3-4b03-40f6-a3a8-d4e94aae3b17\n",
    "    ids_uncommon = [id for id in car_ids if id.find('-') != -1]\n",
    "    car_ids = [id for id in car_ids if id.find('-') == -1]\n",
    "\n",
    "    data = data.loc[~data.Id.isin(ids_uncommon)]\n",
    "    \n",
    "    # Removing microseconds from the dates\n",
    "    data.Start_time = data.Start_time.apply(lambda x: x.replace(microsecond=0))\n",
    "    data.End_time = data.End_time.apply(lambda x: x.replace(microsecond=0))\n",
    "    \n",
    "    return data"
   ]
  },
  {
   "cell_type": "code",
   "execution_count": null,
   "metadata": {},
   "outputs": [],
   "source": [
    "# reading data\n",
    "evo_data = pd.read_csv('data/evo_travels.csv')\n",
    "modo_data = pd.read_csv('data/modo_travels.csv')\n",
    "c2g_data = pd.read_csv('data/car2go_travels.csv', index_col=0)"
   ]
  },
  {
   "cell_type": "code",
   "execution_count": null,
   "metadata": {},
   "outputs": [],
   "source": [
    "#cleaning process\n",
    "evo_data = evo_cleaning(evo_data)\n",
    "\n",
    "modo_data.start = modo_data.start.apply(lambda x: datetime.fromtimestamp(x))\n",
    "modo_data.end = modo_data.end.apply(lambda x: datetime.fromtimestamp(x))\n",
    "\n",
    "c2g_data.init_time = c2g_data.init_time.apply(lambda x: datetime.fromtimestamp(x))\n",
    "c2g_data.final_time = c2g_data.final_time.apply(lambda x: datetime.fromtimestamp(x))"
   ]
  },
  {
   "cell_type": "code",
   "execution_count": null,
   "metadata": {},
   "outputs": [],
   "source": [
    "init_period = '05-25'\n",
    "end_period = '06-15'\n",
    "\n",
    "evo_data = evo_data[(evo_data.Start_time >= '2018-'+init_period) & (evo_data.End_time <= '2018-'+end_period)]\n",
    "modo_data = modo_data[(modo_data.start >= '2018-'+init_period) & (modo_data.end <= '2018-'+end_period)]\n",
    "c2g_data = c2g_data[(c2g_data.init_time >= '2017-'+init_period) & (c2g_data.final_time <= '2017-'+end_period)]"
   ]
  },
  {
   "cell_type": "code",
   "execution_count": null,
   "metadata": {},
   "outputs": [],
   "source": [
    "def to_prophet_data(time_list):\n",
    "    \"\"\"\n",
    "        Convert a time series list to the prophet data structure\n",
    "    \"\"\"\n",
    "    values = time_list.value_counts(sort=False)\n",
    "    prophet_data = pd.DataFrame(list(zip(values.index, values)), columns=['ds','y'])\n",
    "    prophet_data.sort_values(by='ds',inplace=True)\n",
    "    prophet_data.reset_index(inplace=True, drop=True)\n",
    "    \n",
    "    return prophet_data"
   ]
  },
  {
   "cell_type": "code",
   "execution_count": null,
   "metadata": {},
   "outputs": [],
   "source": [
    "#prophet data structure\n",
    "\n",
    "evo_prophet = to_prophet_data(evo_data.Start_time)\n",
    "modo_prophet = to_prophet_data(modo_data.start)\n",
    "c2g_prophet = to_prophet_data(c2g_data.init_time)"
   ]
  },
  {
   "cell_type": "code",
   "execution_count": null,
   "metadata": {},
   "outputs": [],
   "source": [
    "evo_prophet.head()"
   ]
  },
  {
   "cell_type": "markdown",
   "metadata": {},
   "source": [
    "## Train data used"
   ]
  },
  {
   "cell_type": "code",
   "execution_count": null,
   "metadata": {},
   "outputs": [],
   "source": [
    "def plot_time_points(data):\n",
    "    fig, ax = plt.subplots(1,1)\n",
    "    \n",
    "    ax.scatter(data.ds, data.y, alpha=0.3)\n",
    "\n",
    "    ax.set_xlim(data.ds.min(), data.ds.max())\n",
    "    plt.xticks(rotation=45)\n",
    "    \n",
    "    plt.show()"
   ]
  },
  {
   "cell_type": "markdown",
   "metadata": {},
   "source": [
    "### EVO"
   ]
  },
  {
   "cell_type": "code",
   "execution_count": null,
   "metadata": {},
   "outputs": [],
   "source": [
    "plot_time_points(evo_prophet)"
   ]
  },
  {
   "cell_type": "markdown",
   "metadata": {},
   "source": [
    "### Modo"
   ]
  },
  {
   "cell_type": "code",
   "execution_count": null,
   "metadata": {},
   "outputs": [],
   "source": [
    "plot_time_points(modo_prophet)"
   ]
  },
  {
   "cell_type": "markdown",
   "metadata": {},
   "source": [
    "### Car2Go"
   ]
  },
  {
   "cell_type": "code",
   "execution_count": null,
   "metadata": {},
   "outputs": [],
   "source": [
    "plot_time_points(c2g_prophet)"
   ]
  },
  {
   "cell_type": "markdown",
   "metadata": {},
   "source": [
    "## Cleaning + Normalizing Datasets"
   ]
  },
  {
   "cell_type": "code",
   "execution_count": null,
   "metadata": {},
   "outputs": [],
   "source": [
    "evo_z_scores = stats.zscore(evo_prophet.y)\n",
    "abs_evo_z_scores = np.abs(evo_z_scores)\n",
    "filtered_evo_entries = (abs_evo_z_scores < 3)\n",
    "evo_filtered_prophet = evo_prophet[filtered_evo_entries]\n",
    "evo_filtered_prophet.y /= evo_filtered_prophet.y.max()\n",
    "plot_time_points(evo_filtered_prophet)"
   ]
  },
  {
   "cell_type": "code",
   "execution_count": null,
   "metadata": {},
   "outputs": [],
   "source": [
    "modo_z_scores = stats.zscore(modo_prophet.y)\n",
    "abs_modo_z_scores = np.abs(modo_z_scores)\n",
    "filtered_modo_entries = (abs_modo_z_scores < 3)\n",
    "modo_filtered_prophet = modo_prophet[filtered_modo_entries]\n",
    "modo_filtered_prophet.y /= modo_filtered_prophet.y.max()\n",
    "plot_time_points(modo_filtered_prophet)"
   ]
  },
  {
   "cell_type": "code",
   "execution_count": null,
   "metadata": {},
   "outputs": [],
   "source": [
    "c2g_z_scores = stats.zscore(c2g_prophet.y)\n",
    "abs_c2g_z_scores = np.abs(c2g_z_scores)\n",
    "filtered_c2g_entries = (abs_c2g_z_scores < 3)\n",
    "c2g_filtered_prophet = c2g_prophet[filtered_c2g_entries]\n",
    "c2g_filtered_prophet.y /= c2g_filtered_prophet.y.max()\n",
    "plot_time_points(c2g_filtered_prophet)"
   ]
  },
  {
   "cell_type": "markdown",
   "metadata": {},
   "source": [
    "## Prophet forecast"
   ]
  },
  {
   "cell_type": "code",
   "execution_count": null,
   "metadata": {},
   "outputs": [],
   "source": [
    "def prophet_predict(data, freq='min', periods=5):\n",
    "    model = Prophet(weekly_seasonality=True)\n",
    "    model.fit(data)\n",
    "    \n",
    "    future = model.make_future_dataframe(freq=freq, periods=periods)\n",
    "    \n",
    "    forecast = model.predict(future)\n",
    "    \n",
    "    return model, forecast"
   ]
  },
  {
   "cell_type": "code",
   "execution_count": null,
   "metadata": {},
   "outputs": [],
   "source": [
    "PREDICT_PERIOD = 60*24  # One day\n",
    "evo_model, evo_forecast = prophet_predict(evo_prophet, periods=PREDICT_PERIOD)\n",
    "print('EVO done.')\n",
    "modo_model, modo_forecast = prophet_predict(modo_prophet, periods=PREDICT_PERIOD)\n",
    "print('Modo done.')\n",
    "c2g_model, c2g_forecast = prophet_predict(c2g_prophet, periods=PREDICT_PERIOD)\n",
    "print('Car2Go done.')"
   ]
  },
  {
   "cell_type": "code",
   "execution_count": null,
   "metadata": {},
   "outputs": [],
   "source": [
    "evo_filtered_model, evo_filtered_forecast = prophet_predict(evo_filtered_prophet, periods=PREDICT_PERIOD)\n",
    "print('EVO filtered done.')\n",
    "modo_filtered_model, modo_filtered_forecast = prophet_predict(modo_filtered_prophet, periods=PREDICT_PERIOD)\n",
    "print('Modo filtered done.')\n",
    "c2g_filtered_model, c2g_filtered_forecast = prophet_predict(c2g_filtered_prophet, periods=PREDICT_PERIOD)\n",
    "print('Car2Go filtered done.')"
   ]
  },
  {
   "cell_type": "markdown",
   "metadata": {},
   "source": [
    "### EVO"
   ]
  },
  {
   "cell_type": "code",
   "execution_count": null,
   "metadata": {},
   "outputs": [],
   "source": [
    "fig1 = evo_model.plot(evo_forecast)"
   ]
  },
  {
   "cell_type": "code",
   "execution_count": null,
   "metadata": {},
   "outputs": [],
   "source": [
    "fig1 = evo_filtered_model.plot(evo_filtered_forecast)"
   ]
  },
  {
   "cell_type": "code",
   "execution_count": null,
   "metadata": {},
   "outputs": [],
   "source": [
    "fig1 = evo_model.plot_components(evo_forecast)"
   ]
  },
  {
   "cell_type": "code",
   "execution_count": null,
   "metadata": {},
   "outputs": [],
   "source": [
    "fig1 = evo_filtered_model.plot_components(evo_filtered_forecast)"
   ]
  },
  {
   "cell_type": "code",
   "execution_count": null,
   "metadata": {},
   "outputs": [],
   "source": [
    "cv_filtered_results_evo = Prophet_Diagnostics.cross_validation(evo_filtered_model,\"24 hours\")\n",
    "Prophet_Diagnostics.performance_metrics(cv_filtered_results_evo,rolling_window=1)"
   ]
  },
  {
   "cell_type": "markdown",
   "metadata": {},
   "source": [
    "### Modo"
   ]
  },
  {
   "cell_type": "code",
   "execution_count": null,
   "metadata": {},
   "outputs": [],
   "source": [
    "fig1 = modo_model.plot(modo_forecast)"
   ]
  },
  {
   "cell_type": "code",
   "execution_count": null,
   "metadata": {},
   "outputs": [],
   "source": [
    "fig1 = modo_filtered_model.plot(modo_filtered_forecast)"
   ]
  },
  {
   "cell_type": "code",
   "execution_count": null,
   "metadata": {},
   "outputs": [],
   "source": [
    "fig1 = modo_model.plot_components(modo_forecast)"
   ]
  },
  {
   "cell_type": "code",
   "execution_count": null,
   "metadata": {},
   "outputs": [],
   "source": [
    "fig1 = modo_filtered_model.plot_components(modo_filtered_forecast)"
   ]
  },
  {
   "cell_type": "code",
   "execution_count": null,
   "metadata": {},
   "outputs": [],
   "source": [
    "cv_filtered_results_modo = Prophet_Diagnostics.cross_validation(modo_filtered_model,\"24 hours\")\n",
    "Prophet_Diagnostics.performance_metrics(cv_filtered_results_modo,rolling_window=1)"
   ]
  },
  {
   "cell_type": "markdown",
   "metadata": {},
   "source": [
    "### Car2Go"
   ]
  },
  {
   "cell_type": "code",
   "execution_count": null,
   "metadata": {},
   "outputs": [],
   "source": [
    "fig1 = c2g_model.plot(c2g_forecast)"
   ]
  },
  {
   "cell_type": "code",
   "execution_count": null,
   "metadata": {},
   "outputs": [],
   "source": [
    "fig1 = c2g_filtered_model.plot(c2g_filtered_forecast)"
   ]
  },
  {
   "cell_type": "code",
   "execution_count": null,
   "metadata": {},
   "outputs": [],
   "source": [
    "fig1 = c2g_model.plot_components(c2g_forecast)"
   ]
  },
  {
   "cell_type": "code",
   "execution_count": null,
   "metadata": {},
   "outputs": [],
   "source": [
    "fig1 = c2g_filtered_model.plot_components(c2g_filtered_forecast)"
   ]
  },
  {
   "cell_type": "code",
   "execution_count": null,
   "metadata": {},
   "outputs": [],
   "source": [
    "cv_filtered_results_c2g = Prophet_Diagnostics.cross_validation(c2g_filtered_model,\"24 hours\")\n",
    "Prophet_Diagnostics.performance_metrics(cv_filtered_results_c2g,rolling_window=1)"
   ]
  },
  {
   "cell_type": "code",
   "execution_count": null,
   "metadata": {},
   "outputs": [],
   "source": []
  }
 ],
 "metadata": {
  "kernelspec": {
   "display_name": "Python 3",
   "language": "python",
   "name": "python3"
  },
  "language_info": {
   "codemirror_mode": {
    "name": "ipython",
    "version": 3
   },
   "file_extension": ".py",
   "mimetype": "text/x-python",
   "name": "python",
   "nbconvert_exporter": "python",
   "pygments_lexer": "ipython3",
   "version": "3.7.6"
  }
 },
 "nbformat": 4,
 "nbformat_minor": 4
}
