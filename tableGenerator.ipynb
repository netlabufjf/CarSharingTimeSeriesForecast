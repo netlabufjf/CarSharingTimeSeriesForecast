{
 "cells": [
  {
   "cell_type": "code",
   "execution_count": 1,
   "metadata": {},
   "outputs": [],
   "source": [
    "import json\n",
    "import pandas as pd"
   ]
  },
  {
   "cell_type": "code",
   "execution_count": 2,
   "metadata": {},
   "outputs": [],
   "source": [
    "def gen_dict(path):\n",
    "    f = open(path)\n",
    "    new_dict = json.load(f)\n",
    "    f.close()\n",
    "    return new_dict"
   ]
  },
  {
   "cell_type": "code",
   "execution_count": null,
   "metadata": {},
   "outputs": [],
   "source": []
  },
  {
   "cell_type": "code",
   "execution_count": 3,
   "metadata": {},
   "outputs": [],
   "source": [
    "unievo_eval = gen_dict(f\"results\\LSTM_Evo_Single_Variable_Results.json\")\n",
    "unic2g_eval = gen_dict(f\"results\\LSTM_Car2Go_Single_Variable_Results.json\")\n",
    "unimodo_eval = gen_dict(f\"results\\LSTM_Modo_Single_Variable_Results.json\")\n",
    "evo_eval = gen_dict(f\"results\\LSTM_Evo_Multivariable_Results.json\")\n",
    "c2g_eval = gen_dict(f\"results\\LSTM_Car2Go_Multivariable_Results.json\")\n",
    "modo_eval = gen_dict(f\"results\\LSTM_Modo_Multivariable_Results.json\")"
   ]
  },
  {
   "cell_type": "code",
   "execution_count": 4,
   "metadata": {},
   "outputs": [
    {
     "data": {
      "text/html": [
       "<div>\n",
       "<style scoped>\n",
       "    .dataframe tbody tr th:only-of-type {\n",
       "        vertical-align: middle;\n",
       "    }\n",
       "\n",
       "    .dataframe tbody tr th {\n",
       "        vertical-align: top;\n",
       "    }\n",
       "\n",
       "    .dataframe thead th {\n",
       "        text-align: right;\n",
       "    }\n",
       "</style>\n",
       "<table border=\"1\" class=\"dataframe\">\n",
       "  <thead>\n",
       "    <tr style=\"text-align: right;\">\n",
       "      <th></th>\n",
       "      <th>RMSE</th>\n",
       "      <th>MAE</th>\n",
       "      <th>R2</th>\n",
       "    </tr>\n",
       "    <tr>\n",
       "      <th>Serviço</th>\n",
       "      <th></th>\n",
       "      <th></th>\n",
       "      <th></th>\n",
       "    </tr>\n",
       "  </thead>\n",
       "  <tbody>\n",
       "    <tr>\n",
       "      <th>Evo</th>\n",
       "      <td>173.876613</td>\n",
       "      <td>121.156398</td>\n",
       "      <td>0.003630</td>\n",
       "    </tr>\n",
       "    <tr>\n",
       "      <th>Modo</th>\n",
       "      <td>23.558731</td>\n",
       "      <td>15.378326</td>\n",
       "      <td>0.251994</td>\n",
       "    </tr>\n",
       "    <tr>\n",
       "      <th>Car2Go</th>\n",
       "      <td>48.704347</td>\n",
       "      <td>36.442230</td>\n",
       "      <td>0.771989</td>\n",
       "    </tr>\n",
       "  </tbody>\n",
       "</table>\n",
       "</div>"
      ],
      "text/plain": [
       "               RMSE         MAE        R2\n",
       "Serviço                                  \n",
       "Evo      173.876613  121.156398  0.003630\n",
       "Modo      23.558731   15.378326  0.251994\n",
       "Car2Go    48.704347   36.442230  0.771989"
      ]
     },
     "execution_count": 4,
     "metadata": {},
     "output_type": "execute_result"
    }
   ],
   "source": [
    "uni_table = pd.DataFrame({\"Evo\":unievo_eval, \"Modo\":unimodo_eval, \"Car2Go\":unic2g_eval}).T\n",
    "uni_table.index.name = \"Serviço\"\n",
    "uni_table"
   ]
  },
  {
   "cell_type": "code",
   "execution_count": 5,
   "metadata": {},
   "outputs": [
    {
     "data": {
      "text/html": [
       "<div>\n",
       "<style scoped>\n",
       "    .dataframe tbody tr th:only-of-type {\n",
       "        vertical-align: middle;\n",
       "    }\n",
       "\n",
       "    .dataframe tbody tr th {\n",
       "        vertical-align: top;\n",
       "    }\n",
       "\n",
       "    .dataframe thead th {\n",
       "        text-align: right;\n",
       "    }\n",
       "</style>\n",
       "<table border=\"1\" class=\"dataframe\">\n",
       "  <thead>\n",
       "    <tr style=\"text-align: right;\">\n",
       "      <th></th>\n",
       "      <th>RMSE</th>\n",
       "      <th>MAE</th>\n",
       "      <th>R2</th>\n",
       "    </tr>\n",
       "    <tr>\n",
       "      <th>Serviço</th>\n",
       "      <th></th>\n",
       "      <th></th>\n",
       "      <th></th>\n",
       "    </tr>\n",
       "  </thead>\n",
       "  <tbody>\n",
       "    <tr>\n",
       "      <th>Evo</th>\n",
       "      <td>160.234530</td>\n",
       "      <td>94.925282</td>\n",
       "      <td>0.147275</td>\n",
       "    </tr>\n",
       "    <tr>\n",
       "      <th>Modo</th>\n",
       "      <td>26.450156</td>\n",
       "      <td>17.900805</td>\n",
       "      <td>0.060296</td>\n",
       "    </tr>\n",
       "    <tr>\n",
       "      <th>Car2Go</th>\n",
       "      <td>40.204653</td>\n",
       "      <td>27.905731</td>\n",
       "      <td>0.843792</td>\n",
       "    </tr>\n",
       "  </tbody>\n",
       "</table>\n",
       "</div>"
      ],
      "text/plain": [
       "               RMSE        MAE        R2\n",
       "Serviço                                 \n",
       "Evo      160.234530  94.925282  0.147275\n",
       "Modo      26.450156  17.900805  0.060296\n",
       "Car2Go    40.204653  27.905731  0.843792"
      ]
     },
     "execution_count": 5,
     "metadata": {},
     "output_type": "execute_result"
    }
   ],
   "source": [
    "multi_table = pd.DataFrame({\"Evo\":evo_eval, \"Modo\":modo_eval, \"Car2Go\":c2g_eval}).T\n",
    "multi_table.index.name = \"Serviço\"\n",
    "multi_table"
   ]
  },
  {
   "cell_type": "code",
   "execution_count": 6,
   "metadata": {},
   "outputs": [
    {
     "data": {
      "text/plain": [
       "'\\\\begin{tabular}{lrrr}\\n\\\\toprule\\n{} &        RMSE &        MAE &        R2 \\\\\\\\\\nServiço &             &            &           \\\\\\\\\\n\\\\midrule\\nEvo     &  160.234530 &  94.925282 &  0.147275 \\\\\\\\\\nModo    &   26.450156 &  17.900805 &  0.060296 \\\\\\\\\\nCar2Go  &   40.204653 &  27.905731 &  0.843792 \\\\\\\\\\n\\\\bottomrule\\n\\\\end{tabular}\\n'"
      ]
     },
     "execution_count": 6,
     "metadata": {},
     "output_type": "execute_result"
    }
   ],
   "source": [
    "multi_table.to_latex()"
   ]
  },
  {
   "cell_type": "code",
   "execution_count": 7,
   "metadata": {},
   "outputs": [],
   "source": [
    "uni_table_file = open('results\\\\Univariable_Latex_Table.txt', \"w\")\n",
    "uni_table_file.write(uni_table.to_latex())\n",
    "uni_table_file.close()\n",
    "\n",
    "multi_table_file = open(\"results\\\\Multivariable_Latex_Table.txt\", \"w\")\n",
    "multi_table_file.write(multi_table.to_latex())\n",
    "multi_table_file.close()"
   ]
  },
  {
   "cell_type": "code",
   "execution_count": null,
   "metadata": {},
   "outputs": [],
   "source": []
  }
 ],
 "metadata": {
  "kernelspec": {
   "display_name": "Python 3.7.6 64-bit ('CarSharingEnv': conda)",
   "language": "python",
   "name": "python37664bitcarsharingenvcondaf61cd503e3274ce6bd69d58b01a97e08"
  },
  "language_info": {
   "codemirror_mode": {
    "name": "ipython",
    "version": 3
   },
   "file_extension": ".py",
   "mimetype": "text/x-python",
   "name": "python",
   "nbconvert_exporter": "python",
   "pygments_lexer": "ipython3",
   "version": "3.7.6"
  }
 },
 "nbformat": 4,
 "nbformat_minor": 4
}
