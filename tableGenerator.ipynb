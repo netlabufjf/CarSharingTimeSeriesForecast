{
 "cells": [
  {
   "cell_type": "code",
   "execution_count": 1,
   "metadata": {},
   "outputs": [],
   "source": [
    "import json\n",
    "import pandas as pd"
   ]
  },
  {
   "cell_type": "code",
   "execution_count": 2,
   "metadata": {},
   "outputs": [],
   "source": [
    "def gen_dict(path):\n",
    "    f = open(path)\n",
    "    new_dict = json.load(f)\n",
    "    f.close()\n",
    "    return new_dict"
   ]
  },
  {
   "cell_type": "code",
   "execution_count": null,
   "metadata": {},
   "outputs": [],
   "source": []
  },
  {
   "cell_type": "code",
   "execution_count": 3,
   "metadata": {},
   "outputs": [],
   "source": [
    "unievo_eval = gen_dict(f\"results\\LSTM_Evo_Single_Variable_Results.json\")\n",
    "unic2g_eval = gen_dict(f\"results\\LSTM_Car2Go_Single_Variable_Results.json\")\n",
    "unimodo_eval = gen_dict(f\"results\\LSTM_Modo_Single_Variable_Results.json\")\n",
    "\n",
    "evo_eval = gen_dict(f\"results\\LSTM_Evo_Multivariable_Results.json\")\n",
    "c2g_eval = gen_dict(f\"results\\LSTM_Car2Go_Multivariable_Results.json\")\n",
    "modo_eval = gen_dict(f\"results\\LSTM_Modo_Multivariable_Results.json\")"
   ]
  },
  {
   "cell_type": "code",
   "execution_count": 6,
   "metadata": {},
   "outputs": [
    {
     "output_type": "execute_result",
     "data": {
      "text/plain": "               rmse         mae        r2\nServiço                                  \nEvo      175.531127  112.048297 -0.015002\nModo      24.168382   15.932268  0.213652\nCar2Go    41.275629   27.778357  0.835925",
      "text/html": "<div>\n<style scoped>\n    .dataframe tbody tr th:only-of-type {\n        vertical-align: middle;\n    }\n\n    .dataframe tbody tr th {\n        vertical-align: top;\n    }\n\n    .dataframe thead th {\n        text-align: right;\n    }\n</style>\n<table border=\"1\" class=\"dataframe\">\n  <thead>\n    <tr style=\"text-align: right;\">\n      <th></th>\n      <th>rmse</th>\n      <th>mae</th>\n      <th>r2</th>\n    </tr>\n    <tr>\n      <th>Serviço</th>\n      <th></th>\n      <th></th>\n      <th></th>\n    </tr>\n  </thead>\n  <tbody>\n    <tr>\n      <th>Evo</th>\n      <td>175.531127</td>\n      <td>112.048297</td>\n      <td>-0.015002</td>\n    </tr>\n    <tr>\n      <th>Modo</th>\n      <td>24.168382</td>\n      <td>15.932268</td>\n      <td>0.213652</td>\n    </tr>\n    <tr>\n      <th>Car2Go</th>\n      <td>41.275629</td>\n      <td>27.778357</td>\n      <td>0.835925</td>\n    </tr>\n  </tbody>\n</table>\n</div>"
     },
     "metadata": {},
     "execution_count": 6
    }
   ],
   "source": [
    "uni_table = pd.DataFrame({\"Evo\":unievo_eval, \"Modo\":unimodo_eval, \"Car2Go\":unic2g_eval}).T\n",
    "uni_table.index.name = \"Serviço\"\n",
    "uni_table"
   ]
  },
  {
   "cell_type": "code",
   "execution_count": 7,
   "metadata": {},
   "outputs": [
    {
     "output_type": "execute_result",
     "data": {
      "text/plain": "               rmse        mae        r2\nServiço                                 \nEvo      154.534412  85.982447  0.206369\nModo      25.316469  15.946474  0.143205\nCar2Go    35.172855  24.560041  0.880889",
      "text/html": "<div>\n<style scoped>\n    .dataframe tbody tr th:only-of-type {\n        vertical-align: middle;\n    }\n\n    .dataframe tbody tr th {\n        vertical-align: top;\n    }\n\n    .dataframe thead th {\n        text-align: right;\n    }\n</style>\n<table border=\"1\" class=\"dataframe\">\n  <thead>\n    <tr style=\"text-align: right;\">\n      <th></th>\n      <th>rmse</th>\n      <th>mae</th>\n      <th>r2</th>\n    </tr>\n    <tr>\n      <th>Serviço</th>\n      <th></th>\n      <th></th>\n      <th></th>\n    </tr>\n  </thead>\n  <tbody>\n    <tr>\n      <th>Evo</th>\n      <td>154.534412</td>\n      <td>85.982447</td>\n      <td>0.206369</td>\n    </tr>\n    <tr>\n      <th>Modo</th>\n      <td>25.316469</td>\n      <td>15.946474</td>\n      <td>0.143205</td>\n    </tr>\n    <tr>\n      <th>Car2Go</th>\n      <td>35.172855</td>\n      <td>24.560041</td>\n      <td>0.880889</td>\n    </tr>\n  </tbody>\n</table>\n</div>"
     },
     "metadata": {},
     "execution_count": 7
    }
   ],
   "source": [
    "multi_table = pd.DataFrame({\"Evo\":evo_eval, \"Modo\":modo_eval, \"Car2Go\":c2g_eval}).T\n",
    "multi_table.index.name = \"Serviço\"\n",
    "multi_table"
   ]
  },
  {
   "cell_type": "code",
   "execution_count": 8,
   "metadata": {},
   "outputs": [
    {
     "output_type": "execute_result",
     "data": {
      "text/plain": "'\\\\begin{tabular}{lrrr}\\n\\\\toprule\\n{} &        rmse &        mae &        r2 \\\\\\\\\\nServiço &             &            &           \\\\\\\\\\n\\\\midrule\\nEvo     &  154.534412 &  85.982447 &  0.206369 \\\\\\\\\\nModo    &   25.316469 &  15.946474 &  0.143205 \\\\\\\\\\nCar2Go  &   35.172855 &  24.560041 &  0.880889 \\\\\\\\\\n\\\\bottomrule\\n\\\\end{tabular}\\n'"
     },
     "metadata": {},
     "execution_count": 8
    }
   ],
   "source": [
    "multi_table.to_latex()"
   ]
  },
  {
   "cell_type": "code",
   "execution_count": 11,
   "metadata": {},
   "outputs": [],
   "source": [
    "uni_table_file = open('results\\\\Univariable_Latex_Table.txt', \"w\")\n",
    "uni_table_file.write(uni_table.to_latex())\n",
    "uni_table_file.close()\n",
    "\n",
    "multi_table_file = open(\"results\\\\Multivariable_Latex_Table.txt\", \"w\")\n",
    "multi_table_file.write(multi_table.to_latex())\n",
    "multi_table_file.close()"
   ]
  },
  {
   "cell_type": "code",
   "execution_count": null,
   "metadata": {},
   "outputs": [],
   "source": []
  }
 ],
 "metadata": {
  "language_info": {
   "codemirror_mode": {
    "name": "ipython",
    "version": 3
   },
   "file_extension": ".py",
   "mimetype": "text/x-python",
   "name": "python",
   "nbconvert_exporter": "python",
   "pygments_lexer": "ipython3",
   "version": "3.7.6-final"
  },
  "orig_nbformat": 2,
  "kernelspec": {
   "name": "python37664bitcarsharingenvcondaf61cd503e3274ce6bd69d58b01a97e08",
   "display_name": "Python 3.7.6 64-bit ('CarSharingEnv': conda)"
  }
 },
 "nbformat": 4,
 "nbformat_minor": 2
}