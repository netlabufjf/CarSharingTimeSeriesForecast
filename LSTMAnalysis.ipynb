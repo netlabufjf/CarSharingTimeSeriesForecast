{
 "cells": [
  {
   "cell_type": "code",
   "execution_count": 1,
   "metadata": {},
   "outputs": [],
   "source": [
    "from __future__ import absolute_import, division, print_function, unicode_literals\n",
    "import tensorflow as tf\n",
    "\n",
    "import matplotlib as mpl\n",
    "import matplotlib.pyplot as plt\n",
    "import numpy as np\n",
    "import os\n",
    "import pandas as pd\n",
    "import seaborn as sns\n",
    "from datetime import datetime\n",
    "import warnings\n",
    "warnings.filterwarnings('ignore')\n",
    "\n",
    "mpl.rcParams['figure.figsize'] = (8, 6)\n",
    "mpl.rcParams['axes.grid'] = False\n",
    "tf.random.set_seed(13)"
   ]
  },
  {
   "cell_type": "markdown",
   "metadata": {},
   "source": [
    "## Reading data"
   ]
  },
  {
   "cell_type": "code",
   "execution_count": 2,
   "metadata": {},
   "outputs": [],
   "source": [
    "# reading data\n",
    "evo_data = pd.read_csv('data/demand_datasets/evo_demand.csv', index_col=0)\n",
    "modo_data = pd.read_csv('data/demand_datasets/modo_demand.csv', index_col=0)\n",
    "c2g_data = pd.read_csv('data/demand_datasets/c2g_demand.csv', index_col=0)"
   ]
  },
  {
   "cell_type": "code",
   "execution_count": 3,
   "metadata": {},
   "outputs": [
    {
     "output_type": "execute_result",
     "data": {
      "text/plain": "Index(['travels', 'tempC', 'precipMM', 'FeelsLikeC', 'uvIndex', 'visibility',\n       'windspeedMiles', 'Blizzard', 'Clear', 'Cloudy', 'Fog', 'Heavy rain',\n       'Heavy rain at times', 'Heavy snow', 'Light drizzle', 'Light rain',\n       'Light rain shower', 'Light sleet', 'Light sleet showers', 'Light snow',\n       'Mist', 'Moderate or heavy freezing rain',\n       'Moderate or heavy rain shower', 'Moderate or heavy rain with thunder',\n       'Moderate or heavy sleet', 'Moderate or heavy snow showers',\n       'Moderate or heavy snow with thunder', 'Moderate rain',\n       'Moderate rain at times', 'Moderate snow', 'Overcast', 'Partly cloudy',\n       'Patchy heavy snow', 'Patchy light drizzle', 'Patchy light rain',\n       'Patchy light rain with thunder', 'Patchy light snow',\n       'Patchy moderate snow', 'Patchy rain possible', 'Patchy sleet possible',\n       'Patchy snow possible', 'Sunny', 'Thundery outbreaks possible',\n       'Torrential rain shower', 'Monday', 'Tuesday', 'Wednesday', 'Thursday',\n       'Friday', 'Saturday', 'Sunday', 'hour_0', 'hour_1', 'hour_2', 'hour_3',\n       'hour_4', 'hour_5', 'hour_6', 'hour_7', 'hour_8', 'hour_9', 'hour_10',\n       'hour_11', 'hour_12', 'hour_13', 'hour_14', 'hour_15', 'hour_16',\n       'hour_17', 'hour_18', 'hour_19', 'hour_20', 'hour_21', 'hour_22',\n       'hour_23'],\n      dtype='object')"
     },
     "metadata": {},
     "execution_count": 3
    }
   ],
   "source": [
    "evo_data.columns"
   ]
  },
  {
   "cell_type": "code",
   "execution_count": 4,
   "metadata": {},
   "outputs": [],
   "source": [
    "evo_data.drop(columns = ['hour_0', 'hour_1', 'hour_2', 'hour_3',\n",
    "       'hour_4', 'hour_5', 'hour_6', 'hour_7', 'hour_8', 'hour_9', 'hour_10',\n",
    "       'hour_11', 'hour_12', 'hour_13', 'hour_14', 'hour_15', 'hour_16',\n",
    "       'hour_17', 'hour_18', 'hour_19', 'hour_20', 'hour_21', 'hour_22',\n",
    "       'hour_23'], inplace=True)\n",
    "modo_data.drop(columns = ['hour_0', 'hour_1', 'hour_2', 'hour_3',\n",
    "       'hour_4', 'hour_5', 'hour_6', 'hour_7', 'hour_8', 'hour_9', 'hour_10',\n",
    "       'hour_11', 'hour_12', 'hour_13', 'hour_14', 'hour_15', 'hour_16',\n",
    "       'hour_17', 'hour_18', 'hour_19', 'hour_20', 'hour_21', 'hour_22',\n",
    "       'hour_23'], inplace=True)\n",
    "c2g_data.drop(columns = ['hour_0', 'hour_1', 'hour_2', 'hour_3',\n",
    "       'hour_4', 'hour_5', 'hour_6', 'hour_7', 'hour_8', 'hour_9', 'hour_10',\n",
    "       'hour_11', 'hour_12', 'hour_13', 'hour_14', 'hour_15', 'hour_16',\n",
    "       'hour_17', 'hour_18', 'hour_19', 'hour_20', 'hour_21', 'hour_22',\n",
    "       'hour_23'], inplace=True)"
   ]
  },
  {
   "cell_type": "code",
   "execution_count": 5,
   "metadata": {},
   "outputs": [],
   "source": [
    "evo_data_single_var = pd.DataFrame(evo_data.travels)\n",
    "modo_data_single_var = pd.DataFrame(modo_data.travels)\n",
    "c2g_data_single_var = pd.DataFrame(c2g_data.travels)"
   ]
  },
  {
   "cell_type": "code",
   "execution_count": 6,
   "metadata": {},
   "outputs": [],
   "source": [
    "init_period = '06-23'\n",
    "end_period = '07-12'\n",
    "\n",
    "evo_data = evo_data[(evo_data.index >= '2018-'+init_period) & (evo_data.index <= '2018-'+end_period)]\n",
    "modo_data = modo_data[(modo_data.index >= '2018-'+init_period) & (modo_data.index <= '2018-'+end_period)]\n",
    "c2g_data = c2g_data[(c2g_data.index >= '2017-'+init_period) & (c2g_data.index <= '2017-'+end_period)]\n",
    "\n",
    "evo_data_single_var = evo_data_single_var[(evo_data_single_var.index >= '2018-'+init_period) & \n",
    "                                          (evo_data_single_var.index <= '2018-'+end_period)]\n",
    "modo_data_single_var = modo_data_single_var[(modo_data_single_var.index >= '2018-'+init_period) & \n",
    "                                            (modo_data_single_var.index <= '2018-'+end_period)]\n",
    "c2g_data_single_var = c2g_data_single_var[(c2g_data_single_var.index >= '2017-'+init_period) & \n",
    "                                          (c2g_data_single_var.index <= '2017-'+end_period)]"
   ]
  },
  {
   "cell_type": "code",
   "execution_count": 7,
   "metadata": {},
   "outputs": [],
   "source": [
    "def train_size(data, size=0.7):\n",
    "    # 70% of the data to use as train set\n",
    "    train_split = int(len(data) * size)\n",
    "    return train_split"
   ]
  },
  {
   "cell_type": "code",
   "execution_count": 8,
   "metadata": {},
   "outputs": [],
   "source": [
    "def norm_data(features, train_split):\n",
    "    dataset = features.values\n",
    "    data_max = dataset[:train_split].max()\n",
    "    data_min = dataset[:train_split].min()\n",
    "    data_std = dataset[:train_split].std(axis=0)\n",
    "\n",
    "    dataset = (dataset-data_min)/(data_max - data_min)\n",
    "    \n",
    "    return dataset"
   ]
  },
  {
   "cell_type": "code",
   "execution_count": 9,
   "metadata": {},
   "outputs": [],
   "source": [
    "modo_norm = norm_data(modo_data, train_size(modo_data))\n",
    "evo_norm = norm_data(evo_data, train_size(evo_data))\n",
    "c2g_norm = norm_data(c2g_data, train_size(c2g_data))\n",
    "\n",
    "modo_norm_single_var = norm_data(modo_data_single_var, train_size(modo_data_single_var))\n",
    "evo_norm_single_var = norm_data(evo_data_single_var, train_size(evo_data_single_var))\n",
    "c2g_norm_single_var = norm_data(c2g_data_single_var, train_size(c2g_data_single_var))"
   ]
  },
  {
   "cell_type": "markdown",
   "metadata": {},
   "source": [
    "## LSTM Data preparation"
   ]
  },
  {
   "cell_type": "markdown",
   "metadata": {},
   "source": [
    "For this analysis the aim is to predict the number of travels using a multivariate LSTM model"
   ]
  },
  {
   "cell_type": "code",
   "execution_count": 10,
   "metadata": {},
   "outputs": [],
   "source": [
    "def multivariate_data(dataset, target, start_index, end_index, history_size,\n",
    "                      target_size, step, single_step=False):\n",
    "    \"\"\"\n",
    "    Reshape the data to usual representation of train and target sets\n",
    "    \n",
    "    single_step - In a single step setup (True), the model learns to predict a single point in the future \n",
    "                  based on some history provided. Else (False), the model needs to learn to predict a range \n",
    "                  of future values.\n",
    "    \n",
    "    target_size - Is how far in the future does the model need to learn to predict.\n",
    "                  The target_size is from the label that needs to be predicted\n",
    "    \"\"\"\n",
    "    data = []\n",
    "    labels = []\n",
    "\n",
    "    start_index = start_index + history_size # determining the real start since it has a history size\n",
    "    if end_index is None:\n",
    "        end_index = len(dataset) - target_size\n",
    "\n",
    "    for i in range(start_index, end_index): # creating the data 'chuncks' with size of history size\n",
    "        indices = range(i-history_size, i, step)\n",
    "        data.append(dataset[indices])\n",
    "\n",
    "        if single_step: # selecting the point or interval to be predicted\n",
    "            labels.append(target[i+target_size])\n",
    "        else:\n",
    "            labels.append(target[i:i+target_size])\n",
    "\n",
    "    return np.array(data), np.array(labels)"
   ]
  },
  {
   "cell_type": "code",
   "execution_count": 11,
   "metadata": {},
   "outputs": [],
   "source": [
    "def train_val_split(data, train_split, history_length=72, future_target=1, \n",
    "                    step=1, single_step=False, batch_size=256, buffer_size=10000):\n",
    "\n",
    "    # splitting the train and evaluate sets\n",
    "    x_train, y_train = multivariate_data(data, data[:, 0], 0, train_split, history_length, future_target, step, single_step)\n",
    "    x_val, y_val = multivariate_data(data, data[:, 0], train_split, None, history_length, future_target, step, single_step)\n",
    "\n",
    "    print ('\\nSingle window of past history : {}'.format(x_train[0].shape))\n",
    "    print ('Target feature to predict : {}'.format(y_train[0].shape))\n",
    "    \n",
    "    # slice and shuffle the train and evaluate sets based on the batch size\n",
    "    train = tf.data.Dataset.from_tensor_slices((x_train, y_train))\n",
    "    train = train.cache().shuffle(buffer_size).batch(batch_size).repeat()\n",
    "\n",
    "    val = tf.data.Dataset.from_tensor_slices((x_val, y_val))\n",
    "    val = val.batch(batch_size).repeat()\n",
    "    \n",
    "    shape = x_train.shape[-2:]\n",
    "    \n",
    "    return train, val, shape"
   ]
  },
  {
   "cell_type": "code",
   "execution_count": 12,
   "metadata": {},
   "outputs": [],
   "source": [
    "def lstm_model(train_data, validation_data, shape, epochs=10, evaluation_interval=200, node_number=50):\n",
    "\n",
    "    model = tf.keras.models.Sequential()\n",
    "    model.add(tf.keras.layers.LSTM(node_number, return_sequences=True,\n",
    "                                  input_shape=shape))\n",
    "    model.add(tf.keras.layers.Dropout(0.2))\n",
    "    model.add(tf.keras.layers.LSTM(node_number, activation='relu'))\n",
    "    model.add(tf.keras.layers.Dense(12))\n",
    "    \n",
    "    model.compile(optimizer=tf.keras.optimizers.RMSprop(clipvalue=1.0), \n",
    "                  loss='mae', metrics=['mse','mae'])\n",
    "    \n",
    "    for x, y in validation_data.take(1):\n",
    "        print(model.predict(x).shape)\n",
    "    \n",
    "    history = model.fit(train_data, epochs=epochs,\n",
    "                      steps_per_epoch=evaluation_interval,\n",
    "                      validation_data=validation_data,\n",
    "                      validation_steps=50)\n",
    "    \n",
    "    return model, history"
   ]
  },
  {
   "cell_type": "code",
   "execution_count": 13,
   "metadata": {
    "scrolled": true
   },
   "outputs": [
    {
     "output_type": "stream",
     "name": "stdout",
     "text": "\nSingle window of past history : (24, 51)\nTarget feature to predict : (12,)\n\nSingle window of past history : (24, 51)\nTarget feature to predict : (12,)\n\nSingle window of past history : (24, 51)\nTarget feature to predict : (12,)\n\nSingle window of past history : (24, 1)\nTarget feature to predict : (12,)\n\nSingle window of past history : (24, 1)\nTarget feature to predict : (12,)\n\nSingle window of past history : (24, 1)\nTarget feature to predict : (12,)\n"
    }
   ],
   "source": [
    "# split data on train and validate sets\n",
    "evo_train, evo_val, evo_shape = train_val_split(data=evo_norm, train_split=train_size(evo_norm), history_length=24, future_target=12)\n",
    "modo_train, modo_val, modo_shape = train_val_split(data=modo_norm, train_split=train_size(modo_norm), history_length=24, future_target=12)\n",
    "c2g_train, c2g_val, c2g_shape = train_val_split(data=c2g_norm, train_split=train_size(c2g_norm), history_length=24, future_target=12)\n",
    "\n",
    "evo_train_single_var, evo_val_single_var, evo_shape_single_var = train_val_split(data=evo_norm_single_var, \n",
    "                                                                                 train_split=train_size(evo_norm_single_var),\n",
    "                                                                                 history_length=24,\n",
    "                                                                                 future_target=12)\n",
    "modo_train_single_var, modo_val_single_var, modo_shape_single_var = train_val_split(data=modo_norm_single_var,\n",
    "                                                                                    train_split=train_size(modo_norm_single_var),\n",
    "                                                                                    history_length=24,\n",
    "                                                                                    future_target=12)\n",
    "c2g_train_single_var, c2g_val_single_var, c2g_shape_single_var = train_val_split(data=c2g_norm_single_var,\n",
    "                                                                                 train_split=train_size(c2g_norm_single_var),\n",
    "                                                                                 history_length=24,\n",
    "                                                                                 future_target=12)"
   ]
  },
  {
   "cell_type": "markdown",
   "metadata": {},
   "source": [
    "# Plot Generation"
   ]
  },
  {
   "cell_type": "code",
   "execution_count": 14,
   "metadata": {},
   "outputs": [],
   "source": [
    "def performance_representation_plot(hour_skip, data_val, data_model, data_regular_max, data_regular_min, title,\n",
    "                                    title_in_plot=True, save_file=False, print_plot=True, upper_border=True, legend_font_size=\"medium\",\n",
    "                                    axis_value_size=\"medium\", axis_label_size=\"medium\", denormalize=True):\n",
    "    data_predictions_array = []\n",
    "    data_truth_array =  []\n",
    "    \n",
    "    \n",
    "    for x, y in data_val.take(1):\n",
    "        result = data_model.predict(x)\n",
    "        blocks = len(result)//hour_skip\n",
    "        for n in range(blocks):\n",
    "            for prediction, truth in zip(result[n*hour_skip][:hour_skip], y[n*hour_skip][:hour_skip]):\n",
    "                data_predictions_array.append(prediction)\n",
    "                data_truth_array.append(float(truth))\n",
    "    \n",
    "    data_predictions_array = np.array(data_predictions_array)\n",
    "    data_truth_array = np.array(data_truth_array)\n",
    "    \n",
    "    if(denormalize):\n",
    "        data_predictions_array *= data_regular_max\n",
    "        data_predictions_array += data_regular_min\n",
    "        data_truth_array *= data_regular_max\n",
    "        data_truth_array += data_regular_min\n",
    "    \n",
    "    fig = plt.figure(figsize=(20,10))\n",
    "    plt.xlabel(\"Horas\", fontdict={\"fontsize\":axis_label_size})\n",
    "    plt.tick_params(axis=\"both\", labelsize=axis_value_size)\n",
    "    plt.title(title + \" (Hours Skiped = \" + str(hour_skip) + \")\") if title_in_plot else print(title + \" (Hours Skiped = \" + str(hour_skip) + \")\")\n",
    "    plt.ylabel(\"Viagens requisitadas por hora\", fontdict={\"fontsize\":axis_label_size})\n",
    "    plt.plot(data_truth_array, marker=\"o\", label=\"Valores Reais\")\n",
    "    plt.plot(data_predictions_array, marker=\"D\", label=\"Valores Previstos\")\n",
    "    if(not upper_border):\n",
    "        ax = plt.gca()\n",
    "        ax.spines['top'].set_visible(False)\n",
    "        ax.spines['right'].set_visible(False)\n",
    "    plt.legend(fontsize=legend_font_size)\n",
    "    plt.savefig(\"plots\\\\\" + title.replace(\" \", \"_\") + \"_\" + str(hour_skip) + \"_HrsBetweenPredictions.png\", bbox_inches='tight') if save_file else print()\n",
    "    plt.show() if print_plot else print()"
   ]
  },
  {
   "cell_type": "code",
   "execution_count": 15,
   "metadata": {},
   "outputs": [],
   "source": [
    "def save_performance_to_txt(name, data_val, data_model, data_history, data_regular_max, data_regular_min, denormalize=False, hour_skip=12):\n",
    "    data_predictions_array = []\n",
    "    data_truth_array =  []\n",
    "    \n",
    "    \n",
    "    for x, y in data_val.take(1):\n",
    "        result = data_model.predict(x)\n",
    "        blocks = len(result)//hour_skip\n",
    "        for n in range(blocks):\n",
    "            for prediction, truth in zip(result[n*hour_skip][:hour_skip], y[n*hour_skip][:hour_skip]):\n",
    "                data_predictions_array.append(prediction)\n",
    "                data_truth_array.append(float(truth))\n",
    "    \n",
    "    data_predictions_array = np.array(data_predictions_array)\n",
    "    data_truth_array = np.array(data_truth_array)\n",
    "    \n",
    "    if(denormalize):\n",
    "        data_predictions_array *= data_regular_max\n",
    "        data_predictions_array += data_regular_min\n",
    "        data_truth_array *= data_regular_max\n",
    "        data_truth_array += data_regular_min\n",
    "\n",
    "    data_array = np.array([data_predictions_array, data_truth_array])\n",
    "    np.savetxt(f'results/LSTM_{name}_Predictions_by{str(hour_skip) + \"Hrs\"}.txt', data_array, delimiter=\",\")\n",
    "    pd.DataFrame(data_history.history).iloc[-1].to_csv(path_or_buf=f'results/LSTM_{name}_Results.txt')\n",
    "    \n",
    "    \n"
   ]
  },
  {
   "cell_type": "markdown",
   "metadata": {},
   "source": [
    "# Training Models"
   ]
  },
  {
   "cell_type": "code",
   "execution_count": 16,
   "metadata": {},
   "outputs": [],
   "source": [
    "def multi_step_plot(history, true_future, prediction):\n",
    "    plt.figure(figsize=(12, 6))\n",
    "    num_in = range(len(history))\n",
    "    num_out = len(true_future)\n",
    "\n",
    "    plt.plot(num_in, np.array(history[:, 0]), label='History')\n",
    "    plt.plot(np.arange(len(history),num_out+len(history)), np.array(true_future), 'bo',\n",
    "           label='True Future')\n",
    "    if prediction.any():\n",
    "        plt.plot(np.arange(len(history),num_out+len(history)), np.array(prediction), 'rX-',\n",
    "                 label='Predicted Future')\n",
    "    plt.legend(loc='upper left')\n",
    "    plt.show()"
   ]
  },
  {
   "cell_type": "code",
   "execution_count": 17,
   "metadata": {},
   "outputs": [],
   "source": [
    "def plot_train_history(history, title, save_file=False):\n",
    "    pd.DataFrame(history.history).plot(figsize=(8, 5))\n",
    "    plt.grid(True)\n",
    "    plt.savefig(\"plots\\\\\" + title.replace(\" \", \"_\") + \".png\", bbox_inches='tight') if save_file else print()\n",
    "    plt.show()"
   ]
  },
  {
   "cell_type": "markdown",
   "metadata": {},
   "source": [
    "Next, will be generated the model for each dataset"
   ]
  },
  {
   "cell_type": "markdown",
   "metadata": {},
   "source": [
    "## Evo Model"
   ]
  },
  {
   "cell_type": "markdown",
   "metadata": {},
   "source": [
    "### Single Variable"
   ]
  },
  {
   "cell_type": "code",
   "execution_count": 18,
   "metadata": {},
   "outputs": [
    {
     "output_type": "stream",
     "name": "stdout",
     "text": "Evo Model Single Var\n"
    },
    {
     "output_type": "error",
     "ename": "NameError",
     "evalue": "name 'evo_train_single_var' is not defined",
     "traceback": [
      "\u001b[1;31m---------------------------------------------------------------------------\u001b[0m",
      "\u001b[1;31mNameError\u001b[0m                                 Traceback (most recent call last)",
      "\u001b[1;32m<ipython-input-18-22d69a32ef89>\u001b[0m in \u001b[0;36m<module>\u001b[1;34m\u001b[0m\n\u001b[0;32m      1\u001b[0m \u001b[0mprint\u001b[0m\u001b[1;33m(\u001b[0m\u001b[1;34m'Evo Model Single Var'\u001b[0m\u001b[1;33m)\u001b[0m\u001b[1;33m\u001b[0m\u001b[1;33m\u001b[0m\u001b[0m\n\u001b[1;32m----> 2\u001b[1;33m evo_model_single_var, evo_history_single_var = lstm_model(evo_train_single_var,\n\u001b[0m\u001b[0;32m      3\u001b[0m                                                           \u001b[0mevo_val_single_var\u001b[0m\u001b[1;33m,\u001b[0m\u001b[1;33m\u001b[0m\u001b[1;33m\u001b[0m\u001b[0m\n\u001b[0;32m      4\u001b[0m                                                           \u001b[0mevo_shape_single_var\u001b[0m\u001b[1;33m,\u001b[0m\u001b[1;33m\u001b[0m\u001b[1;33m\u001b[0m\u001b[0m\n\u001b[0;32m      5\u001b[0m                                                           \u001b[0mepochs\u001b[0m\u001b[1;33m=\u001b[0m\u001b[1;36m50\u001b[0m\u001b[1;33m,\u001b[0m\u001b[1;33m\u001b[0m\u001b[1;33m\u001b[0m\u001b[0m\n",
      "\u001b[1;31mNameError\u001b[0m: name 'evo_train_single_var' is not defined"
     ]
    }
   ],
   "source": [
    "print('Evo Model Single Var')\n",
    "evo_model_single_var, evo_history_single_var = lstm_model(evo_train_single_var,\n",
    "                                                          evo_val_single_var,\n",
    "                                                          evo_shape_single_var,\n",
    "                                                          epochs=50,\n",
    "                                                          node_number=50\n",
    "                                                          )"
   ]
  },
  {
   "cell_type": "markdown",
   "metadata": {},
   "source": [
    "### Plotting prediction"
   ]
  },
  {
   "cell_type": "code",
   "execution_count": 19,
   "metadata": {
    "scrolled": true
   },
   "outputs": [
    {
     "output_type": "error",
     "ename": "NameError",
     "evalue": "name 'evo_history_single_var' is not defined",
     "traceback": [
      "\u001b[1;31m---------------------------------------------------------------------------\u001b[0m",
      "\u001b[1;31mNameError\u001b[0m                                 Traceback (most recent call last)",
      "\u001b[1;32m<ipython-input-19-b5156f2b339c>\u001b[0m in \u001b[0;36m<module>\u001b[1;34m\u001b[0m\n\u001b[1;32m----> 1\u001b[1;33m plot_train_history(evo_history_single_var,\n\u001b[0m\u001b[0;32m      2\u001b[0m                    'Training and validation loss')\n",
      "\u001b[1;31mNameError\u001b[0m: name 'evo_history_single_var' is not defined"
     ]
    }
   ],
   "source": [
    "plot_train_history(evo_history_single_var,\n",
    "                   'Training and validation loss')"
   ]
  },
  {
   "cell_type": "code",
   "execution_count": 20,
   "metadata": {},
   "outputs": [
    {
     "output_type": "error",
     "ename": "NameError",
     "evalue": "name 'evo_val_single_var' is not defined",
     "traceback": [
      "\u001b[1;31m---------------------------------------------------------------------------\u001b[0m",
      "\u001b[1;31mNameError\u001b[0m                                 Traceback (most recent call last)",
      "\u001b[1;32m<ipython-input-20-059aa82d639d>\u001b[0m in \u001b[0;36m<module>\u001b[1;34m\u001b[0m\n\u001b[0;32m      1\u001b[0m save_performance_to_txt(\"Evo_Single_Variable\",\n\u001b[1;32m----> 2\u001b[1;33m                         \u001b[0mevo_val_single_var\u001b[0m\u001b[1;33m,\u001b[0m\u001b[1;33m\u001b[0m\u001b[1;33m\u001b[0m\u001b[0m\n\u001b[0m\u001b[0;32m      3\u001b[0m                         \u001b[0mevo_model_single_var\u001b[0m\u001b[1;33m,\u001b[0m\u001b[1;33m\u001b[0m\u001b[1;33m\u001b[0m\u001b[0m\n\u001b[0;32m      4\u001b[0m                         \u001b[0mevo_history_single_var\u001b[0m\u001b[1;33m,\u001b[0m\u001b[1;33m\u001b[0m\u001b[1;33m\u001b[0m\u001b[0m\n\u001b[0;32m      5\u001b[0m                         \u001b[0mevo_data_single_var\u001b[0m\u001b[1;33m.\u001b[0m\u001b[0mtravels\u001b[0m\u001b[1;33m.\u001b[0m\u001b[0mmax\u001b[0m\u001b[1;33m(\u001b[0m\u001b[1;33m)\u001b[0m\u001b[1;33m,\u001b[0m\u001b[1;33m\u001b[0m\u001b[1;33m\u001b[0m\u001b[0m\n",
      "\u001b[1;31mNameError\u001b[0m: name 'evo_val_single_var' is not defined"
     ]
    }
   ],
   "source": [
    "save_performance_to_txt(\"Evo_Single_Variable\",\n",
    "                        evo_val_single_var,\n",
    "                        evo_model_single_var,\n",
    "                        evo_history_single_var,\n",
    "                        evo_data_single_var.travels.max(),\n",
    "                        evo_data_single_var.travels.min())"
   ]
  },
  {
   "cell_type": "code",
   "execution_count": 21,
   "metadata": {},
   "outputs": [
    {
     "output_type": "error",
     "ename": "NameError",
     "evalue": "name 'evo_val_single_var' is not defined",
     "traceback": [
      "\u001b[1;31m---------------------------------------------------------------------------\u001b[0m",
      "\u001b[1;31mNameError\u001b[0m                                 Traceback (most recent call last)",
      "\u001b[1;32m<ipython-input-21-ce81691468c2>\u001b[0m in \u001b[0;36m<module>\u001b[1;34m\u001b[0m\n\u001b[1;32m----> 1\u001b[1;33m \u001b[1;32mfor\u001b[0m \u001b[0mx\u001b[0m\u001b[1;33m,\u001b[0m \u001b[0my\u001b[0m \u001b[1;32min\u001b[0m \u001b[0mevo_val_single_var\u001b[0m\u001b[1;33m.\u001b[0m\u001b[0mtake\u001b[0m\u001b[1;33m(\u001b[0m\u001b[1;36m1\u001b[0m\u001b[1;33m)\u001b[0m\u001b[1;33m:\u001b[0m\u001b[1;33m\u001b[0m\u001b[1;33m\u001b[0m\u001b[0m\n\u001b[0m\u001b[0;32m      2\u001b[0m     \u001b[0mmulti_step_plot\u001b[0m\u001b[1;33m(\u001b[0m\u001b[0mx\u001b[0m\u001b[1;33m[\u001b[0m\u001b[1;36m0\u001b[0m\u001b[1;33m]\u001b[0m\u001b[1;33m,\u001b[0m \u001b[0my\u001b[0m\u001b[1;33m[\u001b[0m\u001b[1;36m0\u001b[0m\u001b[1;33m]\u001b[0m\u001b[1;33m,\u001b[0m \u001b[0mevo_model_single_var\u001b[0m\u001b[1;33m.\u001b[0m\u001b[0mpredict\u001b[0m\u001b[1;33m(\u001b[0m\u001b[0mx\u001b[0m\u001b[1;33m)\u001b[0m\u001b[1;33m[\u001b[0m\u001b[1;36m0\u001b[0m\u001b[1;33m]\u001b[0m\u001b[1;33m)\u001b[0m\u001b[1;33m\u001b[0m\u001b[1;33m\u001b[0m\u001b[0m\n",
      "\u001b[1;31mNameError\u001b[0m: name 'evo_val_single_var' is not defined"
     ]
    }
   ],
   "source": [
    "for x, y in evo_val_single_var.take(1):\n",
    "    multi_step_plot(x[0], y[0], evo_model_single_var.predict(x)[0])"
   ]
  },
  {
   "cell_type": "code",
   "execution_count": 22,
   "metadata": {},
   "outputs": [
    {
     "output_type": "error",
     "ename": "NameError",
     "evalue": "name 'evo_val_single_var' is not defined",
     "traceback": [
      "\u001b[1;31m---------------------------------------------------------------------------\u001b[0m",
      "\u001b[1;31mNameError\u001b[0m                                 Traceback (most recent call last)",
      "\u001b[1;32m<ipython-input-22-d37acd76c599>\u001b[0m in \u001b[0;36m<module>\u001b[1;34m\u001b[0m\n\u001b[0;32m      1\u001b[0m performance_representation_plot(12,\n\u001b[1;32m----> 2\u001b[1;33m                                 \u001b[0mevo_val_single_var\u001b[0m\u001b[1;33m,\u001b[0m\u001b[1;33m\u001b[0m\u001b[1;33m\u001b[0m\u001b[0m\n\u001b[0m\u001b[0;32m      3\u001b[0m                                 \u001b[0mevo_model_single_var\u001b[0m\u001b[1;33m,\u001b[0m\u001b[1;33m\u001b[0m\u001b[1;33m\u001b[0m\u001b[0m\n\u001b[0;32m      4\u001b[0m                                 \u001b[0mevo_data_single_var\u001b[0m\u001b[1;33m.\u001b[0m\u001b[0mtravels\u001b[0m\u001b[1;33m.\u001b[0m\u001b[0mmax\u001b[0m\u001b[1;33m(\u001b[0m\u001b[1;33m)\u001b[0m\u001b[1;33m,\u001b[0m\u001b[1;33m\u001b[0m\u001b[1;33m\u001b[0m\u001b[0m\n\u001b[0;32m      5\u001b[0m                                 \u001b[0mevo_data_single_var\u001b[0m\u001b[1;33m.\u001b[0m\u001b[0mtravels\u001b[0m\u001b[1;33m.\u001b[0m\u001b[0mmin\u001b[0m\u001b[1;33m(\u001b[0m\u001b[1;33m)\u001b[0m\u001b[1;33m,\u001b[0m\u001b[1;33m\u001b[0m\u001b[1;33m\u001b[0m\u001b[0m\n",
      "\u001b[1;31mNameError\u001b[0m: name 'evo_val_single_var' is not defined"
     ]
    }
   ],
   "source": [
    "performance_representation_plot(12,\n",
    "                                evo_val_single_var,\n",
    "                                evo_model_single_var,\n",
    "                                evo_data_single_var.travels.max(),\n",
    "                                evo_data_single_var.travels.min(),\n",
    "                                \"Evo Performance Univariavel\",\n",
    "                                upper_border=False,\n",
    "                                title_in_plot=False,\n",
    "                                legend_font_size=21,\n",
    "                                axis_label_size=20, \n",
    "                                axis_value_size=17,\n",
    "                                denormalize=False)"
   ]
  },
  {
   "cell_type": "markdown",
   "metadata": {},
   "source": [
    "### Multi Variable"
   ]
  },
  {
   "cell_type": "code",
   "execution_count": 23,
   "metadata": {},
   "outputs": [
    {
     "output_type": "stream",
     "name": "stdout",
     "text": "Evo Model Multi Var\n"
    },
    {
     "output_type": "error",
     "ename": "NameError",
     "evalue": "name 'evo_train' is not defined",
     "traceback": [
      "\u001b[1;31m---------------------------------------------------------------------------\u001b[0m",
      "\u001b[1;31mNameError\u001b[0m                                 Traceback (most recent call last)",
      "\u001b[1;32m<ipython-input-23-a647a1aa5d1d>\u001b[0m in \u001b[0;36m<module>\u001b[1;34m\u001b[0m\n\u001b[0;32m      1\u001b[0m \u001b[0mprint\u001b[0m\u001b[1;33m(\u001b[0m\u001b[1;34m'Evo Model Multi Var'\u001b[0m\u001b[1;33m)\u001b[0m\u001b[1;33m\u001b[0m\u001b[1;33m\u001b[0m\u001b[0m\n\u001b[1;32m----> 2\u001b[1;33m evo_model, evo_history = lstm_model(evo_train,\n\u001b[0m\u001b[0;32m      3\u001b[0m                                     \u001b[0mevo_val\u001b[0m\u001b[1;33m,\u001b[0m\u001b[1;33m\u001b[0m\u001b[1;33m\u001b[0m\u001b[0m\n\u001b[0;32m      4\u001b[0m                                     \u001b[0mevo_shape\u001b[0m\u001b[1;33m,\u001b[0m\u001b[1;33m\u001b[0m\u001b[1;33m\u001b[0m\u001b[0m\n\u001b[0;32m      5\u001b[0m                                     \u001b[0mepochs\u001b[0m\u001b[1;33m=\u001b[0m\u001b[1;36m50\u001b[0m\u001b[1;33m,\u001b[0m\u001b[1;33m\u001b[0m\u001b[1;33m\u001b[0m\u001b[0m\n",
      "\u001b[1;31mNameError\u001b[0m: name 'evo_train' is not defined"
     ]
    }
   ],
   "source": [
    "print('Evo Model Multi Var')\n",
    "evo_model, evo_history = lstm_model(evo_train,\n",
    "                                    evo_val,\n",
    "                                    evo_shape,\n",
    "                                    epochs=50,\n",
    "                                    node_number=80)"
   ]
  },
  {
   "cell_type": "markdown",
   "metadata": {},
   "source": [
    "### Plotting prediction"
   ]
  },
  {
   "cell_type": "code",
   "execution_count": 24,
   "metadata": {
    "scrolled": true
   },
   "outputs": [
    {
     "output_type": "error",
     "ename": "NameError",
     "evalue": "name 'evo_history' is not defined",
     "traceback": [
      "\u001b[1;31m---------------------------------------------------------------------------\u001b[0m",
      "\u001b[1;31mNameError\u001b[0m                                 Traceback (most recent call last)",
      "\u001b[1;32m<ipython-input-24-3c306b3adb80>\u001b[0m in \u001b[0;36m<module>\u001b[1;34m\u001b[0m\n\u001b[1;32m----> 1\u001b[1;33m plot_train_history(evo_history,\n\u001b[0m\u001b[0;32m      2\u001b[0m                    'Training and validation loss')\n",
      "\u001b[1;31mNameError\u001b[0m: name 'evo_history' is not defined"
     ]
    }
   ],
   "source": [
    "plot_train_history(evo_history,\n",
    "                   'Training and validation loss')"
   ]
  },
  {
   "cell_type": "code",
   "execution_count": 25,
   "metadata": {},
   "outputs": [
    {
     "output_type": "error",
     "ename": "NameError",
     "evalue": "name 'evo_val' is not defined",
     "traceback": [
      "\u001b[1;31m---------------------------------------------------------------------------\u001b[0m",
      "\u001b[1;31mNameError\u001b[0m                                 Traceback (most recent call last)",
      "\u001b[1;32m<ipython-input-25-a8a77fc9614a>\u001b[0m in \u001b[0;36m<module>\u001b[1;34m\u001b[0m\n\u001b[0;32m      1\u001b[0m save_performance_to_txt(\"Evo Multivariable\",\n\u001b[1;32m----> 2\u001b[1;33m                         \u001b[0mevo_val\u001b[0m\u001b[1;33m,\u001b[0m\u001b[1;33m\u001b[0m\u001b[1;33m\u001b[0m\u001b[0m\n\u001b[0m\u001b[0;32m      3\u001b[0m                         \u001b[0mevo_model\u001b[0m\u001b[1;33m,\u001b[0m\u001b[1;33m\u001b[0m\u001b[1;33m\u001b[0m\u001b[0m\n\u001b[0;32m      4\u001b[0m                         \u001b[0mevo_history\u001b[0m\u001b[1;33m,\u001b[0m\u001b[1;33m\u001b[0m\u001b[1;33m\u001b[0m\u001b[0m\n\u001b[0;32m      5\u001b[0m                         \u001b[0mevo_data\u001b[0m\u001b[1;33m.\u001b[0m\u001b[0mtravels\u001b[0m\u001b[1;33m.\u001b[0m\u001b[0mmax\u001b[0m\u001b[1;33m(\u001b[0m\u001b[1;33m)\u001b[0m\u001b[1;33m,\u001b[0m\u001b[1;33m\u001b[0m\u001b[1;33m\u001b[0m\u001b[0m\n",
      "\u001b[1;31mNameError\u001b[0m: name 'evo_val' is not defined"
     ]
    }
   ],
   "source": [
    "save_performance_to_txt(\"Evo Multivariable\",\n",
    "                        evo_val,\n",
    "                        evo_model,\n",
    "                        evo_history,\n",
    "                        evo_data.travels.max(),\n",
    "                        evo_data.travels.min())"
   ]
  },
  {
   "cell_type": "code",
   "execution_count": 26,
   "metadata": {},
   "outputs": [
    {
     "output_type": "error",
     "ename": "NameError",
     "evalue": "name 'evo_val' is not defined",
     "traceback": [
      "\u001b[1;31m---------------------------------------------------------------------------\u001b[0m",
      "\u001b[1;31mNameError\u001b[0m                                 Traceback (most recent call last)",
      "\u001b[1;32m<ipython-input-26-6edeb92dffd7>\u001b[0m in \u001b[0;36m<module>\u001b[1;34m\u001b[0m\n\u001b[1;32m----> 1\u001b[1;33m \u001b[1;32mfor\u001b[0m \u001b[0mx\u001b[0m\u001b[1;33m,\u001b[0m \u001b[0my\u001b[0m \u001b[1;32min\u001b[0m \u001b[0mevo_val\u001b[0m\u001b[1;33m.\u001b[0m\u001b[0mtake\u001b[0m\u001b[1;33m(\u001b[0m\u001b[1;36m1\u001b[0m\u001b[1;33m)\u001b[0m\u001b[1;33m:\u001b[0m\u001b[1;33m\u001b[0m\u001b[1;33m\u001b[0m\u001b[0m\n\u001b[0m\u001b[0;32m      2\u001b[0m     \u001b[0mmulti_step_plot\u001b[0m\u001b[1;33m(\u001b[0m\u001b[0mx\u001b[0m\u001b[1;33m[\u001b[0m\u001b[1;36m0\u001b[0m\u001b[1;33m]\u001b[0m\u001b[1;33m,\u001b[0m \u001b[0my\u001b[0m\u001b[1;33m[\u001b[0m\u001b[1;36m0\u001b[0m\u001b[1;33m]\u001b[0m\u001b[1;33m,\u001b[0m \u001b[0mevo_model\u001b[0m\u001b[1;33m.\u001b[0m\u001b[0mpredict\u001b[0m\u001b[1;33m(\u001b[0m\u001b[0mx\u001b[0m\u001b[1;33m)\u001b[0m\u001b[1;33m[\u001b[0m\u001b[1;36m0\u001b[0m\u001b[1;33m]\u001b[0m\u001b[1;33m)\u001b[0m\u001b[1;33m\u001b[0m\u001b[1;33m\u001b[0m\u001b[0m\n",
      "\u001b[1;31mNameError\u001b[0m: name 'evo_val' is not defined"
     ]
    }
   ],
   "source": [
    "for x, y in evo_val.take(1):\n",
    "    multi_step_plot(x[0], y[0], evo_model.predict(x)[0])"
   ]
  },
  {
   "cell_type": "code",
   "execution_count": 27,
   "metadata": {},
   "outputs": [
    {
     "output_type": "error",
     "ename": "NameError",
     "evalue": "name 'evo_val' is not defined",
     "traceback": [
      "\u001b[1;31m---------------------------------------------------------------------------\u001b[0m",
      "\u001b[1;31mNameError\u001b[0m                                 Traceback (most recent call last)",
      "\u001b[1;32m<ipython-input-27-006ce415fb68>\u001b[0m in \u001b[0;36m<module>\u001b[1;34m\u001b[0m\n\u001b[0;32m      1\u001b[0m performance_representation_plot(12,\n\u001b[1;32m----> 2\u001b[1;33m                                 \u001b[0mevo_val\u001b[0m\u001b[1;33m,\u001b[0m\u001b[1;33m\u001b[0m\u001b[1;33m\u001b[0m\u001b[0m\n\u001b[0m\u001b[0;32m      3\u001b[0m                                 \u001b[0mevo_model\u001b[0m\u001b[1;33m,\u001b[0m\u001b[1;33m\u001b[0m\u001b[1;33m\u001b[0m\u001b[0m\n\u001b[0;32m      4\u001b[0m                                 \u001b[0mevo_data\u001b[0m\u001b[1;33m.\u001b[0m\u001b[0mtravels\u001b[0m\u001b[1;33m.\u001b[0m\u001b[0mmax\u001b[0m\u001b[1;33m(\u001b[0m\u001b[1;33m)\u001b[0m\u001b[1;33m,\u001b[0m\u001b[1;33m\u001b[0m\u001b[1;33m\u001b[0m\u001b[0m\n\u001b[0;32m      5\u001b[0m                                 \u001b[0mevo_data\u001b[0m\u001b[1;33m.\u001b[0m\u001b[0mtravels\u001b[0m\u001b[1;33m.\u001b[0m\u001b[0mmin\u001b[0m\u001b[1;33m(\u001b[0m\u001b[1;33m)\u001b[0m\u001b[1;33m,\u001b[0m\u001b[1;33m\u001b[0m\u001b[1;33m\u001b[0m\u001b[0m\n",
      "\u001b[1;31mNameError\u001b[0m: name 'evo_val' is not defined"
     ]
    }
   ],
   "source": [
    "performance_representation_plot(12,\n",
    "                                evo_val,\n",
    "                                evo_model,\n",
    "                                evo_data.travels.max(),\n",
    "                                evo_data.travels.min(),\n",
    "                                \"Evo Performance Multivariavel\",\n",
    "                                upper_border=False,\n",
    "                                title_in_plot=False,\n",
    "                                legend_font_size=21,\n",
    "                                axis_label_size=20, \n",
    "                                axis_value_size=17,\n",
    "                                denormalize=False)"
   ]
  },
  {
   "cell_type": "markdown",
   "metadata": {},
   "source": [
    "## Modo model"
   ]
  },
  {
   "cell_type": "markdown",
   "metadata": {},
   "source": [
    "### Single Variable"
   ]
  },
  {
   "cell_type": "code",
   "execution_count": 28,
   "metadata": {},
   "outputs": [
    {
     "output_type": "stream",
     "name": "stdout",
     "text": "Modo Model\n"
    },
    {
     "output_type": "error",
     "ename": "NameError",
     "evalue": "name 'modo_train_single_var' is not defined",
     "traceback": [
      "\u001b[1;31m---------------------------------------------------------------------------\u001b[0m",
      "\u001b[1;31mNameError\u001b[0m                                 Traceback (most recent call last)",
      "\u001b[1;32m<ipython-input-28-04ecd07f00f9>\u001b[0m in \u001b[0;36m<module>\u001b[1;34m\u001b[0m\n\u001b[0;32m      1\u001b[0m \u001b[0mprint\u001b[0m\u001b[1;33m(\u001b[0m\u001b[1;34m'Modo Model'\u001b[0m\u001b[1;33m)\u001b[0m\u001b[1;33m\u001b[0m\u001b[1;33m\u001b[0m\u001b[0m\n\u001b[1;32m----> 2\u001b[1;33m modo_model_single_var, modo_history_single_var = lstm_model(modo_train_single_var,\n\u001b[0m\u001b[0;32m      3\u001b[0m                                                             \u001b[0mmodo_val_single_var\u001b[0m\u001b[1;33m,\u001b[0m\u001b[1;33m\u001b[0m\u001b[1;33m\u001b[0m\u001b[0m\n\u001b[0;32m      4\u001b[0m                                                             \u001b[0mmodo_shape_single_var\u001b[0m\u001b[1;33m,\u001b[0m\u001b[1;33m\u001b[0m\u001b[1;33m\u001b[0m\u001b[0m\n\u001b[0;32m      5\u001b[0m                                                             \u001b[0mepochs\u001b[0m\u001b[1;33m=\u001b[0m\u001b[1;36m50\u001b[0m\u001b[1;33m,\u001b[0m\u001b[1;33m\u001b[0m\u001b[1;33m\u001b[0m\u001b[0m\n",
      "\u001b[1;31mNameError\u001b[0m: name 'modo_train_single_var' is not defined"
     ]
    }
   ],
   "source": [
    "print('Modo Model')\n",
    "modo_model_single_var, modo_history_single_var = lstm_model(modo_train_single_var,\n",
    "                                                            modo_val_single_var,\n",
    "                                                            modo_shape_single_var,\n",
    "                                                            epochs=50,\n",
    "                                                            node_number=50)"
   ]
  },
  {
   "cell_type": "code",
   "execution_count": 29,
   "metadata": {},
   "outputs": [
    {
     "output_type": "error",
     "ename": "NameError",
     "evalue": "name 'modo_history_single_var' is not defined",
     "traceback": [
      "\u001b[1;31m---------------------------------------------------------------------------\u001b[0m",
      "\u001b[1;31mNameError\u001b[0m                                 Traceback (most recent call last)",
      "\u001b[1;32m<ipython-input-29-5746623427f4>\u001b[0m in \u001b[0;36m<module>\u001b[1;34m\u001b[0m\n\u001b[1;32m----> 1\u001b[1;33m plot_train_history(modo_history_single_var,\n\u001b[0m\u001b[0;32m      2\u001b[0m                    'Training and validation loss')\n",
      "\u001b[1;31mNameError\u001b[0m: name 'modo_history_single_var' is not defined"
     ]
    }
   ],
   "source": [
    "plot_train_history(modo_history_single_var,\n",
    "                   'Training and validation loss')"
   ]
  },
  {
   "cell_type": "code",
   "execution_count": 30,
   "metadata": {},
   "outputs": [
    {
     "output_type": "error",
     "ename": "NameError",
     "evalue": "name 'modo_val_single_var' is not defined",
     "traceback": [
      "\u001b[1;31m---------------------------------------------------------------------------\u001b[0m",
      "\u001b[1;31mNameError\u001b[0m                                 Traceback (most recent call last)",
      "\u001b[1;32m<ipython-input-30-92f1aac56fb0>\u001b[0m in \u001b[0;36m<module>\u001b[1;34m\u001b[0m\n\u001b[0;32m      1\u001b[0m save_performance_to_txt(\"Modo_Single_Variable\",\n\u001b[1;32m----> 2\u001b[1;33m                         \u001b[0mmodo_val_single_var\u001b[0m\u001b[1;33m,\u001b[0m\u001b[1;33m\u001b[0m\u001b[1;33m\u001b[0m\u001b[0m\n\u001b[0m\u001b[0;32m      3\u001b[0m                         \u001b[0mmodo_model_single_var\u001b[0m\u001b[1;33m,\u001b[0m\u001b[1;33m\u001b[0m\u001b[1;33m\u001b[0m\u001b[0m\n\u001b[0;32m      4\u001b[0m                         \u001b[0mmodo_history_single_var\u001b[0m\u001b[1;33m,\u001b[0m\u001b[1;33m\u001b[0m\u001b[1;33m\u001b[0m\u001b[0m\n\u001b[0;32m      5\u001b[0m                         \u001b[0mmodo_data_single_var\u001b[0m\u001b[1;33m.\u001b[0m\u001b[0mtravels\u001b[0m\u001b[1;33m.\u001b[0m\u001b[0mmax\u001b[0m\u001b[1;33m(\u001b[0m\u001b[1;33m)\u001b[0m\u001b[1;33m,\u001b[0m\u001b[1;33m\u001b[0m\u001b[1;33m\u001b[0m\u001b[0m\n",
      "\u001b[1;31mNameError\u001b[0m: name 'modo_val_single_var' is not defined"
     ]
    }
   ],
   "source": [
    "save_performance_to_txt(\"Modo_Single_Variable\",\n",
    "                        modo_val_single_var,\n",
    "                        modo_model_single_var,\n",
    "                        modo_history_single_var,\n",
    "                        modo_data_single_var.travels.max(),\n",
    "                        modo_data_single_var.travels.min())"
   ]
  },
  {
   "cell_type": "code",
   "execution_count": 31,
   "metadata": {},
   "outputs": [
    {
     "output_type": "error",
     "ename": "NameError",
     "evalue": "name 'modo_val_single_var' is not defined",
     "traceback": [
      "\u001b[1;31m---------------------------------------------------------------------------\u001b[0m",
      "\u001b[1;31mNameError\u001b[0m                                 Traceback (most recent call last)",
      "\u001b[1;32m<ipython-input-31-3c67041fb88a>\u001b[0m in \u001b[0;36m<module>\u001b[1;34m\u001b[0m\n\u001b[1;32m----> 1\u001b[1;33m \u001b[1;32mfor\u001b[0m \u001b[0mx\u001b[0m\u001b[1;33m,\u001b[0m \u001b[0my\u001b[0m \u001b[1;32min\u001b[0m \u001b[0mmodo_val_single_var\u001b[0m\u001b[1;33m.\u001b[0m\u001b[0mtake\u001b[0m\u001b[1;33m(\u001b[0m\u001b[1;36m1\u001b[0m\u001b[1;33m)\u001b[0m\u001b[1;33m:\u001b[0m\u001b[1;33m\u001b[0m\u001b[1;33m\u001b[0m\u001b[0m\n\u001b[0m\u001b[0;32m      2\u001b[0m     \u001b[0mmulti_step_plot\u001b[0m\u001b[1;33m(\u001b[0m\u001b[0mx\u001b[0m\u001b[1;33m[\u001b[0m\u001b[1;36m0\u001b[0m\u001b[1;33m]\u001b[0m\u001b[1;33m,\u001b[0m \u001b[0my\u001b[0m\u001b[1;33m[\u001b[0m\u001b[1;36m0\u001b[0m\u001b[1;33m]\u001b[0m\u001b[1;33m,\u001b[0m \u001b[0mmodo_model_single_var\u001b[0m\u001b[1;33m.\u001b[0m\u001b[0mpredict\u001b[0m\u001b[1;33m(\u001b[0m\u001b[0mx\u001b[0m\u001b[1;33m)\u001b[0m\u001b[1;33m[\u001b[0m\u001b[1;36m0\u001b[0m\u001b[1;33m]\u001b[0m\u001b[1;33m)\u001b[0m\u001b[1;33m\u001b[0m\u001b[1;33m\u001b[0m\u001b[0m\n",
      "\u001b[1;31mNameError\u001b[0m: name 'modo_val_single_var' is not defined"
     ]
    }
   ],
   "source": [
    "for x, y in modo_val_single_var.take(1):\n",
    "    multi_step_plot(x[0], y[0], modo_model_single_var.predict(x)[0])"
   ]
  },
  {
   "cell_type": "code",
   "execution_count": 32,
   "metadata": {},
   "outputs": [
    {
     "output_type": "error",
     "ename": "NameError",
     "evalue": "name 'modo_val_single_var' is not defined",
     "traceback": [
      "\u001b[1;31m---------------------------------------------------------------------------\u001b[0m",
      "\u001b[1;31mNameError\u001b[0m                                 Traceback (most recent call last)",
      "\u001b[1;32m<ipython-input-32-11b8b30fe6aa>\u001b[0m in \u001b[0;36m<module>\u001b[1;34m\u001b[0m\n\u001b[0;32m      1\u001b[0m performance_representation_plot(12,\n\u001b[1;32m----> 2\u001b[1;33m                                 \u001b[0mmodo_val_single_var\u001b[0m\u001b[1;33m,\u001b[0m\u001b[1;33m\u001b[0m\u001b[1;33m\u001b[0m\u001b[0m\n\u001b[0m\u001b[0;32m      3\u001b[0m                                 \u001b[0mmodo_model_single_var\u001b[0m\u001b[1;33m,\u001b[0m\u001b[1;33m\u001b[0m\u001b[1;33m\u001b[0m\u001b[0m\n\u001b[0;32m      4\u001b[0m                                 \u001b[0mmodo_data_single_var\u001b[0m\u001b[1;33m.\u001b[0m\u001b[0mtravels\u001b[0m\u001b[1;33m.\u001b[0m\u001b[0mmax\u001b[0m\u001b[1;33m(\u001b[0m\u001b[1;33m)\u001b[0m\u001b[1;33m,\u001b[0m\u001b[1;33m\u001b[0m\u001b[1;33m\u001b[0m\u001b[0m\n\u001b[0;32m      5\u001b[0m                                 \u001b[0mmodo_data_single_var\u001b[0m\u001b[1;33m.\u001b[0m\u001b[0mtravels\u001b[0m\u001b[1;33m.\u001b[0m\u001b[0mmin\u001b[0m\u001b[1;33m(\u001b[0m\u001b[1;33m)\u001b[0m\u001b[1;33m,\u001b[0m\u001b[1;33m\u001b[0m\u001b[1;33m\u001b[0m\u001b[0m\n",
      "\u001b[1;31mNameError\u001b[0m: name 'modo_val_single_var' is not defined"
     ]
    }
   ],
   "source": [
    "performance_representation_plot(12,\n",
    "                                modo_val_single_var,\n",
    "                                modo_model_single_var,\n",
    "                                modo_data_single_var.travels.max(),\n",
    "                                modo_data_single_var.travels.min(),\n",
    "                                \"Modo Performance Univariavel\",\n",
    "                                upper_border=False,\n",
    "                                title_in_plot=False,\n",
    "                                legend_font_size=21,\n",
    "                                axis_label_size=20, \n",
    "                                axis_value_size=17,\n",
    "                                denormalize=False)"
   ]
  },
  {
   "cell_type": "markdown",
   "metadata": {},
   "source": [
    "### Multi Variable"
   ]
  },
  {
   "cell_type": "code",
   "execution_count": 33,
   "metadata": {},
   "outputs": [
    {
     "output_type": "stream",
     "name": "stdout",
     "text": "Modo Model\n"
    },
    {
     "output_type": "error",
     "ename": "NameError",
     "evalue": "name 'modo_train' is not defined",
     "traceback": [
      "\u001b[1;31m---------------------------------------------------------------------------\u001b[0m",
      "\u001b[1;31mNameError\u001b[0m                                 Traceback (most recent call last)",
      "\u001b[1;32m<ipython-input-33-20d12c977ecf>\u001b[0m in \u001b[0;36m<module>\u001b[1;34m\u001b[0m\n\u001b[0;32m      1\u001b[0m \u001b[0mprint\u001b[0m\u001b[1;33m(\u001b[0m\u001b[1;34m'Modo Model'\u001b[0m\u001b[1;33m)\u001b[0m\u001b[1;33m\u001b[0m\u001b[1;33m\u001b[0m\u001b[0m\n\u001b[1;32m----> 2\u001b[1;33m modo_model, modo_history = lstm_model(modo_train,\n\u001b[0m\u001b[0;32m      3\u001b[0m                                       \u001b[0mmodo_val\u001b[0m\u001b[1;33m,\u001b[0m\u001b[1;33m\u001b[0m\u001b[1;33m\u001b[0m\u001b[0m\n\u001b[0;32m      4\u001b[0m                                       \u001b[0mmodo_shape\u001b[0m\u001b[1;33m,\u001b[0m\u001b[1;33m\u001b[0m\u001b[1;33m\u001b[0m\u001b[0m\n\u001b[0;32m      5\u001b[0m                                       \u001b[0mepochs\u001b[0m\u001b[1;33m=\u001b[0m\u001b[1;36m50\u001b[0m\u001b[1;33m,\u001b[0m\u001b[1;33m\u001b[0m\u001b[1;33m\u001b[0m\u001b[0m\n",
      "\u001b[1;31mNameError\u001b[0m: name 'modo_train' is not defined"
     ]
    }
   ],
   "source": [
    "print('Modo Model')\n",
    "modo_model, modo_history = lstm_model(modo_train,\n",
    "                                      modo_val,\n",
    "                                      modo_shape,\n",
    "                                      epochs=50,\n",
    "                                      node_number=80)"
   ]
  },
  {
   "cell_type": "code",
   "execution_count": 34,
   "metadata": {},
   "outputs": [
    {
     "output_type": "error",
     "ename": "NameError",
     "evalue": "name 'modo_history' is not defined",
     "traceback": [
      "\u001b[1;31m---------------------------------------------------------------------------\u001b[0m",
      "\u001b[1;31mNameError\u001b[0m                                 Traceback (most recent call last)",
      "\u001b[1;32m<ipython-input-34-3c24b6533838>\u001b[0m in \u001b[0;36m<module>\u001b[1;34m\u001b[0m\n\u001b[1;32m----> 1\u001b[1;33m plot_train_history(modo_history,\n\u001b[0m\u001b[0;32m      2\u001b[0m                    'Training and validation loss')\n",
      "\u001b[1;31mNameError\u001b[0m: name 'modo_history' is not defined"
     ]
    }
   ],
   "source": [
    "plot_train_history(modo_history,\n",
    "                   'Training and validation loss')"
   ]
  },
  {
   "cell_type": "code",
   "execution_count": 35,
   "metadata": {},
   "outputs": [
    {
     "output_type": "error",
     "ename": "NameError",
     "evalue": "name 'modo_val' is not defined",
     "traceback": [
      "\u001b[1;31m---------------------------------------------------------------------------\u001b[0m",
      "\u001b[1;31mNameError\u001b[0m                                 Traceback (most recent call last)",
      "\u001b[1;32m<ipython-input-35-9aafaf29b176>\u001b[0m in \u001b[0;36m<module>\u001b[1;34m\u001b[0m\n\u001b[0;32m      1\u001b[0m save_performance_to_txt(\"Modo Multivariable\",\n\u001b[1;32m----> 2\u001b[1;33m                         \u001b[0mmodo_val\u001b[0m\u001b[1;33m,\u001b[0m\u001b[1;33m\u001b[0m\u001b[1;33m\u001b[0m\u001b[0m\n\u001b[0m\u001b[0;32m      3\u001b[0m                         \u001b[0mmodo_model\u001b[0m\u001b[1;33m,\u001b[0m\u001b[1;33m\u001b[0m\u001b[1;33m\u001b[0m\u001b[0m\n\u001b[0;32m      4\u001b[0m                         \u001b[0mmodo_history\u001b[0m\u001b[1;33m,\u001b[0m\u001b[1;33m\u001b[0m\u001b[1;33m\u001b[0m\u001b[0m\n\u001b[0;32m      5\u001b[0m                         \u001b[0mmodo_data\u001b[0m\u001b[1;33m.\u001b[0m\u001b[0mtravels\u001b[0m\u001b[1;33m.\u001b[0m\u001b[0mmax\u001b[0m\u001b[1;33m(\u001b[0m\u001b[1;33m)\u001b[0m\u001b[1;33m,\u001b[0m\u001b[1;33m\u001b[0m\u001b[1;33m\u001b[0m\u001b[0m\n",
      "\u001b[1;31mNameError\u001b[0m: name 'modo_val' is not defined"
     ]
    }
   ],
   "source": [
    "save_performance_to_txt(\"Modo Multivariable\",\n",
    "                        modo_val,\n",
    "                        modo_model,\n",
    "                        modo_history,\n",
    "                        modo_data.travels.max(),\n",
    "                        modo_data.travels.min())"
   ]
  },
  {
   "cell_type": "code",
   "execution_count": 36,
   "metadata": {},
   "outputs": [
    {
     "output_type": "error",
     "ename": "NameError",
     "evalue": "name 'modo_val' is not defined",
     "traceback": [
      "\u001b[1;31m---------------------------------------------------------------------------\u001b[0m",
      "\u001b[1;31mNameError\u001b[0m                                 Traceback (most recent call last)",
      "\u001b[1;32m<ipython-input-36-d7cdf93e178d>\u001b[0m in \u001b[0;36m<module>\u001b[1;34m\u001b[0m\n\u001b[1;32m----> 1\u001b[1;33m \u001b[1;32mfor\u001b[0m \u001b[0mx\u001b[0m\u001b[1;33m,\u001b[0m \u001b[0my\u001b[0m \u001b[1;32min\u001b[0m \u001b[0mmodo_val\u001b[0m\u001b[1;33m.\u001b[0m\u001b[0mtake\u001b[0m\u001b[1;33m(\u001b[0m\u001b[1;36m1\u001b[0m\u001b[1;33m)\u001b[0m\u001b[1;33m:\u001b[0m\u001b[1;33m\u001b[0m\u001b[1;33m\u001b[0m\u001b[0m\n\u001b[0m\u001b[0;32m      2\u001b[0m     \u001b[0mmulti_step_plot\u001b[0m\u001b[1;33m(\u001b[0m\u001b[0mx\u001b[0m\u001b[1;33m[\u001b[0m\u001b[1;36m0\u001b[0m\u001b[1;33m]\u001b[0m\u001b[1;33m,\u001b[0m \u001b[0my\u001b[0m\u001b[1;33m[\u001b[0m\u001b[1;36m0\u001b[0m\u001b[1;33m]\u001b[0m\u001b[1;33m,\u001b[0m \u001b[0mmodo_model\u001b[0m\u001b[1;33m.\u001b[0m\u001b[0mpredict\u001b[0m\u001b[1;33m(\u001b[0m\u001b[0mx\u001b[0m\u001b[1;33m)\u001b[0m\u001b[1;33m[\u001b[0m\u001b[1;36m0\u001b[0m\u001b[1;33m]\u001b[0m\u001b[1;33m)\u001b[0m\u001b[1;33m\u001b[0m\u001b[1;33m\u001b[0m\u001b[0m\n",
      "\u001b[1;31mNameError\u001b[0m: name 'modo_val' is not defined"
     ]
    }
   ],
   "source": [
    "for x, y in modo_val.take(1):\n",
    "    multi_step_plot(x[0], y[0], modo_model.predict(x)[0])"
   ]
  },
  {
   "cell_type": "code",
   "execution_count": 37,
   "metadata": {},
   "outputs": [
    {
     "output_type": "error",
     "ename": "NameError",
     "evalue": "name 'modo_val' is not defined",
     "traceback": [
      "\u001b[1;31m---------------------------------------------------------------------------\u001b[0m",
      "\u001b[1;31mNameError\u001b[0m                                 Traceback (most recent call last)",
      "\u001b[1;32m<ipython-input-37-f6a09df5ee2b>\u001b[0m in \u001b[0;36m<module>\u001b[1;34m\u001b[0m\n\u001b[0;32m      1\u001b[0m performance_representation_plot(12,\n\u001b[1;32m----> 2\u001b[1;33m                                 \u001b[0mmodo_val\u001b[0m\u001b[1;33m,\u001b[0m\u001b[1;33m\u001b[0m\u001b[1;33m\u001b[0m\u001b[0m\n\u001b[0m\u001b[0;32m      3\u001b[0m                                 \u001b[0mmodo_model\u001b[0m\u001b[1;33m,\u001b[0m\u001b[1;33m\u001b[0m\u001b[1;33m\u001b[0m\u001b[0m\n\u001b[0;32m      4\u001b[0m                                 \u001b[0mmodo_data\u001b[0m\u001b[1;33m.\u001b[0m\u001b[0mtravels\u001b[0m\u001b[1;33m.\u001b[0m\u001b[0mmax\u001b[0m\u001b[1;33m(\u001b[0m\u001b[1;33m)\u001b[0m\u001b[1;33m,\u001b[0m\u001b[1;33m\u001b[0m\u001b[1;33m\u001b[0m\u001b[0m\n\u001b[0;32m      5\u001b[0m                                 \u001b[0mmodo_data\u001b[0m\u001b[1;33m.\u001b[0m\u001b[0mtravels\u001b[0m\u001b[1;33m.\u001b[0m\u001b[0mmin\u001b[0m\u001b[1;33m(\u001b[0m\u001b[1;33m)\u001b[0m\u001b[1;33m,\u001b[0m\u001b[1;33m\u001b[0m\u001b[1;33m\u001b[0m\u001b[0m\n",
      "\u001b[1;31mNameError\u001b[0m: name 'modo_val' is not defined"
     ]
    }
   ],
   "source": [
    "performance_representation_plot(12,\n",
    "                                modo_val,\n",
    "                                modo_model,\n",
    "                                modo_data.travels.max(),\n",
    "                                modo_data.travels.min(),\n",
    "                                \"Modo Performance Multivariavel\",\n",
    "                                upper_border=False,\n",
    "                                title_in_plot=False,\n",
    "                                legend_font_size=21,\n",
    "                                axis_label_size=20, \n",
    "                                axis_value_size=17,\n",
    "                                denormalize=False)"
   ]
  },
  {
   "cell_type": "markdown",
   "metadata": {},
   "source": [
    "## Car2Go Model"
   ]
  },
  {
   "cell_type": "markdown",
   "metadata": {},
   "source": [
    "### Single Variable"
   ]
  },
  {
   "cell_type": "code",
   "execution_count": 38,
   "metadata": {},
   "outputs": [
    {
     "output_type": "stream",
     "name": "stdout",
     "text": "Car2Go Model\n"
    },
    {
     "output_type": "error",
     "ename": "NameError",
     "evalue": "name 'c2g_train_single_var' is not defined",
     "traceback": [
      "\u001b[1;31m---------------------------------------------------------------------------\u001b[0m",
      "\u001b[1;31mNameError\u001b[0m                                 Traceback (most recent call last)",
      "\u001b[1;32m<ipython-input-38-2134c8166385>\u001b[0m in \u001b[0;36m<module>\u001b[1;34m\u001b[0m\n\u001b[0;32m      1\u001b[0m \u001b[0mprint\u001b[0m\u001b[1;33m(\u001b[0m\u001b[1;34m'Car2Go Model'\u001b[0m\u001b[1;33m)\u001b[0m\u001b[1;33m\u001b[0m\u001b[1;33m\u001b[0m\u001b[0m\n\u001b[1;32m----> 2\u001b[1;33m c2g_model_single_var, c2g_history_single_var = lstm_model(c2g_train_single_var,\n\u001b[0m\u001b[0;32m      3\u001b[0m                                                           \u001b[0mc2g_val_single_var\u001b[0m\u001b[1;33m,\u001b[0m\u001b[1;33m\u001b[0m\u001b[1;33m\u001b[0m\u001b[0m\n\u001b[0;32m      4\u001b[0m                                                           \u001b[0mc2g_shape_single_var\u001b[0m\u001b[1;33m,\u001b[0m\u001b[1;33m\u001b[0m\u001b[1;33m\u001b[0m\u001b[0m\n\u001b[0;32m      5\u001b[0m                                                           \u001b[0mepochs\u001b[0m\u001b[1;33m=\u001b[0m\u001b[1;36m50\u001b[0m\u001b[1;33m,\u001b[0m\u001b[1;33m\u001b[0m\u001b[1;33m\u001b[0m\u001b[0m\n",
      "\u001b[1;31mNameError\u001b[0m: name 'c2g_train_single_var' is not defined"
     ]
    }
   ],
   "source": [
    "print('Car2Go Model')\n",
    "c2g_model_single_var, c2g_history_single_var = lstm_model(c2g_train_single_var,\n",
    "                                                          c2g_val_single_var,\n",
    "                                                          c2g_shape_single_var,\n",
    "                                                          epochs=50,\n",
    "                                                          node_number=50)"
   ]
  },
  {
   "cell_type": "code",
   "execution_count": 39,
   "metadata": {
    "scrolled": true
   },
   "outputs": [
    {
     "output_type": "error",
     "ename": "NameError",
     "evalue": "name 'c2g_history_single_var' is not defined",
     "traceback": [
      "\u001b[1;31m---------------------------------------------------------------------------\u001b[0m",
      "\u001b[1;31mNameError\u001b[0m                                 Traceback (most recent call last)",
      "\u001b[1;32m<ipython-input-39-d712690bd023>\u001b[0m in \u001b[0;36m<module>\u001b[1;34m\u001b[0m\n\u001b[1;32m----> 1\u001b[1;33m plot_train_history(c2g_history_single_var,\n\u001b[0m\u001b[0;32m      2\u001b[0m                    'Training and validation loss')\n",
      "\u001b[1;31mNameError\u001b[0m: name 'c2g_history_single_var' is not defined"
     ]
    }
   ],
   "source": [
    "plot_train_history(c2g_history_single_var,\n",
    "                   'Training and validation loss')"
   ]
  },
  {
   "cell_type": "code",
   "execution_count": 40,
   "metadata": {},
   "outputs": [
    {
     "output_type": "error",
     "ename": "NameError",
     "evalue": "name 'c2g_val_single_var' is not defined",
     "traceback": [
      "\u001b[1;31m---------------------------------------------------------------------------\u001b[0m",
      "\u001b[1;31mNameError\u001b[0m                                 Traceback (most recent call last)",
      "\u001b[1;32m<ipython-input-40-be064083b214>\u001b[0m in \u001b[0;36m<module>\u001b[1;34m\u001b[0m\n\u001b[0;32m      1\u001b[0m save_performance_to_txt(\"Car2Go_Single_Variable\",\n\u001b[1;32m----> 2\u001b[1;33m                         \u001b[0mc2g_val_single_var\u001b[0m\u001b[1;33m,\u001b[0m\u001b[1;33m\u001b[0m\u001b[1;33m\u001b[0m\u001b[0m\n\u001b[0m\u001b[0;32m      3\u001b[0m                         \u001b[0mc2g_model_single_var\u001b[0m\u001b[1;33m,\u001b[0m\u001b[1;33m\u001b[0m\u001b[1;33m\u001b[0m\u001b[0m\n\u001b[0;32m      4\u001b[0m                         \u001b[0mc2g_history_single_var\u001b[0m\u001b[1;33m,\u001b[0m\u001b[1;33m\u001b[0m\u001b[1;33m\u001b[0m\u001b[0m\n\u001b[0;32m      5\u001b[0m                         \u001b[0mc2g_data_single_var\u001b[0m\u001b[1;33m.\u001b[0m\u001b[0mtravels\u001b[0m\u001b[1;33m.\u001b[0m\u001b[0mmax\u001b[0m\u001b[1;33m(\u001b[0m\u001b[1;33m)\u001b[0m\u001b[1;33m,\u001b[0m\u001b[1;33m\u001b[0m\u001b[1;33m\u001b[0m\u001b[0m\n",
      "\u001b[1;31mNameError\u001b[0m: name 'c2g_val_single_var' is not defined"
     ]
    }
   ],
   "source": [
    "save_performance_to_txt(\"Car2Go_Single_Variable\",\n",
    "                        c2g_val_single_var,\n",
    "                        c2g_model_single_var,\n",
    "                        c2g_history_single_var,\n",
    "                        c2g_data_single_var.travels.max(),\n",
    "                        c2g_data_single_var.travels.min())"
   ]
  },
  {
   "cell_type": "code",
   "execution_count": 41,
   "metadata": {},
   "outputs": [
    {
     "output_type": "error",
     "ename": "NameError",
     "evalue": "name 'c2g_val_single_var' is not defined",
     "traceback": [
      "\u001b[1;31m---------------------------------------------------------------------------\u001b[0m",
      "\u001b[1;31mNameError\u001b[0m                                 Traceback (most recent call last)",
      "\u001b[1;32m<ipython-input-41-2d9f4a9eb473>\u001b[0m in \u001b[0;36m<module>\u001b[1;34m\u001b[0m\n\u001b[1;32m----> 1\u001b[1;33m \u001b[1;32mfor\u001b[0m \u001b[0mx\u001b[0m\u001b[1;33m,\u001b[0m \u001b[0my\u001b[0m \u001b[1;32min\u001b[0m \u001b[0mc2g_val_single_var\u001b[0m\u001b[1;33m.\u001b[0m\u001b[0mtake\u001b[0m\u001b[1;33m(\u001b[0m\u001b[1;36m1\u001b[0m\u001b[1;33m)\u001b[0m\u001b[1;33m:\u001b[0m\u001b[1;33m\u001b[0m\u001b[1;33m\u001b[0m\u001b[0m\n\u001b[0m\u001b[0;32m      2\u001b[0m     \u001b[0mmulti_step_plot\u001b[0m\u001b[1;33m(\u001b[0m\u001b[0mx\u001b[0m\u001b[1;33m[\u001b[0m\u001b[1;36m0\u001b[0m\u001b[1;33m]\u001b[0m\u001b[1;33m,\u001b[0m \u001b[0my\u001b[0m\u001b[1;33m[\u001b[0m\u001b[1;36m0\u001b[0m\u001b[1;33m]\u001b[0m\u001b[1;33m,\u001b[0m\u001b[0mc2g_model_single_var\u001b[0m\u001b[1;33m.\u001b[0m\u001b[0mpredict\u001b[0m\u001b[1;33m(\u001b[0m\u001b[0mx\u001b[0m\u001b[1;33m)\u001b[0m\u001b[1;33m[\u001b[0m\u001b[1;36m0\u001b[0m\u001b[1;33m]\u001b[0m\u001b[1;33m)\u001b[0m\u001b[1;33m\u001b[0m\u001b[1;33m\u001b[0m\u001b[0m\n",
      "\u001b[1;31mNameError\u001b[0m: name 'c2g_val_single_var' is not defined"
     ]
    }
   ],
   "source": [
    "for x, y in c2g_val_single_var.take(1):\n",
    "    multi_step_plot(x[0], y[0],c2g_model_single_var.predict(x)[0])"
   ]
  },
  {
   "cell_type": "code",
   "execution_count": 42,
   "metadata": {},
   "outputs": [
    {
     "output_type": "error",
     "ename": "NameError",
     "evalue": "name 'c2g_val_single_var' is not defined",
     "traceback": [
      "\u001b[1;31m---------------------------------------------------------------------------\u001b[0m",
      "\u001b[1;31mNameError\u001b[0m                                 Traceback (most recent call last)",
      "\u001b[1;32m<ipython-input-42-85e7490079af>\u001b[0m in \u001b[0;36m<module>\u001b[1;34m\u001b[0m\n\u001b[0;32m      1\u001b[0m performance_representation_plot(12,\n\u001b[1;32m----> 2\u001b[1;33m                                 \u001b[0mc2g_val_single_var\u001b[0m\u001b[1;33m,\u001b[0m\u001b[1;33m\u001b[0m\u001b[1;33m\u001b[0m\u001b[0m\n\u001b[0m\u001b[0;32m      3\u001b[0m                                 \u001b[0mc2g_model_single_var\u001b[0m\u001b[1;33m,\u001b[0m\u001b[1;33m\u001b[0m\u001b[1;33m\u001b[0m\u001b[0m\n\u001b[0;32m      4\u001b[0m                                 \u001b[0mc2g_data_single_var\u001b[0m\u001b[1;33m.\u001b[0m\u001b[0mtravels\u001b[0m\u001b[1;33m.\u001b[0m\u001b[0mmax\u001b[0m\u001b[1;33m(\u001b[0m\u001b[1;33m)\u001b[0m\u001b[1;33m,\u001b[0m\u001b[1;33m\u001b[0m\u001b[1;33m\u001b[0m\u001b[0m\n\u001b[0;32m      5\u001b[0m                                 \u001b[0mc2g_data_single_var\u001b[0m\u001b[1;33m.\u001b[0m\u001b[0mtravels\u001b[0m\u001b[1;33m.\u001b[0m\u001b[0mmin\u001b[0m\u001b[1;33m(\u001b[0m\u001b[1;33m)\u001b[0m\u001b[1;33m,\u001b[0m\u001b[1;33m\u001b[0m\u001b[1;33m\u001b[0m\u001b[0m\n",
      "\u001b[1;31mNameError\u001b[0m: name 'c2g_val_single_var' is not defined"
     ]
    }
   ],
   "source": [
    "performance_representation_plot(12,\n",
    "                                c2g_val_single_var,\n",
    "                                c2g_model_single_var,\n",
    "                                c2g_data_single_var.travels.max(),\n",
    "                                c2g_data_single_var.travels.min(),\n",
    "                                \"Car2Go Performance Univariável\",\n",
    "                                upper_border=False,\n",
    "                                title_in_plot=False,\n",
    "                                legend_font_size=21,\n",
    "                                axis_label_size=20, \n",
    "                                axis_value_size=17,\n",
    "                                denormalize=False)"
   ]
  },
  {
   "cell_type": "markdown",
   "metadata": {},
   "source": [
    "### Multi Variable"
   ]
  },
  {
   "cell_type": "code",
   "execution_count": 43,
   "metadata": {},
   "outputs": [
    {
     "output_type": "stream",
     "name": "stdout",
     "text": "Car2Go Model\n"
    },
    {
     "output_type": "error",
     "ename": "NameError",
     "evalue": "name 'c2g_train' is not defined",
     "traceback": [
      "\u001b[1;31m---------------------------------------------------------------------------\u001b[0m",
      "\u001b[1;31mNameError\u001b[0m                                 Traceback (most recent call last)",
      "\u001b[1;32m<ipython-input-43-d5985f96027a>\u001b[0m in \u001b[0;36m<module>\u001b[1;34m\u001b[0m\n\u001b[0;32m      1\u001b[0m \u001b[0mprint\u001b[0m\u001b[1;33m(\u001b[0m\u001b[1;34m'Car2Go Model'\u001b[0m\u001b[1;33m)\u001b[0m\u001b[1;33m\u001b[0m\u001b[1;33m\u001b[0m\u001b[0m\n\u001b[1;32m----> 2\u001b[1;33m \u001b[0mc2g_model\u001b[0m\u001b[1;33m,\u001b[0m \u001b[0mc2g_history\u001b[0m \u001b[1;33m=\u001b[0m \u001b[0mlstm_model\u001b[0m\u001b[1;33m(\u001b[0m\u001b[0mc2g_train\u001b[0m\u001b[1;33m,\u001b[0m \u001b[0mc2g_val\u001b[0m\u001b[1;33m,\u001b[0m \u001b[0mc2g_shape\u001b[0m\u001b[1;33m,\u001b[0m  \u001b[0mepochs\u001b[0m\u001b[1;33m=\u001b[0m\u001b[1;36m50\u001b[0m\u001b[1;33m,\u001b[0m \u001b[0mnode_number\u001b[0m\u001b[1;33m=\u001b[0m\u001b[1;36m80\u001b[0m\u001b[1;33m)\u001b[0m\u001b[1;33m\u001b[0m\u001b[1;33m\u001b[0m\u001b[0m\n\u001b[0m",
      "\u001b[1;31mNameError\u001b[0m: name 'c2g_train' is not defined"
     ]
    }
   ],
   "source": [
    "print('Car2Go Model')\n",
    "c2g_model, c2g_history = lstm_model(c2g_train, c2g_val, c2g_shape,  epochs=50, node_number=80)"
   ]
  },
  {
   "cell_type": "code",
   "execution_count": 44,
   "metadata": {
    "scrolled": true
   },
   "outputs": [
    {
     "output_type": "error",
     "ename": "NameError",
     "evalue": "name 'c2g_history' is not defined",
     "traceback": [
      "\u001b[1;31m---------------------------------------------------------------------------\u001b[0m",
      "\u001b[1;31mNameError\u001b[0m                                 Traceback (most recent call last)",
      "\u001b[1;32m<ipython-input-44-268e974ede51>\u001b[0m in \u001b[0;36m<module>\u001b[1;34m\u001b[0m\n\u001b[1;32m----> 1\u001b[1;33m plot_train_history(c2g_history,\n\u001b[0m\u001b[0;32m      2\u001b[0m                    'Training and validation loss')\n",
      "\u001b[1;31mNameError\u001b[0m: name 'c2g_history' is not defined"
     ]
    }
   ],
   "source": [
    "plot_train_history(c2g_history,\n",
    "                   'Training and validation loss')"
   ]
  },
  {
   "cell_type": "code",
   "execution_count": 45,
   "metadata": {},
   "outputs": [
    {
     "output_type": "error",
     "ename": "NameError",
     "evalue": "name 'c2g_val' is not defined",
     "traceback": [
      "\u001b[1;31m---------------------------------------------------------------------------\u001b[0m",
      "\u001b[1;31mNameError\u001b[0m                                 Traceback (most recent call last)",
      "\u001b[1;32m<ipython-input-45-ccd98ae54ad4>\u001b[0m in \u001b[0;36m<module>\u001b[1;34m\u001b[0m\n\u001b[0;32m      1\u001b[0m save_performance_to_txt(\"Car2Go Multivariable\",\n\u001b[1;32m----> 2\u001b[1;33m                         \u001b[0mc2g_val\u001b[0m\u001b[1;33m,\u001b[0m\u001b[1;33m\u001b[0m\u001b[1;33m\u001b[0m\u001b[0m\n\u001b[0m\u001b[0;32m      3\u001b[0m                         \u001b[0mc2g_model\u001b[0m\u001b[1;33m,\u001b[0m\u001b[1;33m\u001b[0m\u001b[1;33m\u001b[0m\u001b[0m\n\u001b[0;32m      4\u001b[0m                         \u001b[0mc2g_history\u001b[0m\u001b[1;33m,\u001b[0m\u001b[1;33m\u001b[0m\u001b[1;33m\u001b[0m\u001b[0m\n\u001b[0;32m      5\u001b[0m                         \u001b[0mc2g_data\u001b[0m\u001b[1;33m.\u001b[0m\u001b[0mtravels\u001b[0m\u001b[1;33m.\u001b[0m\u001b[0mmax\u001b[0m\u001b[1;33m(\u001b[0m\u001b[1;33m)\u001b[0m\u001b[1;33m,\u001b[0m\u001b[1;33m\u001b[0m\u001b[1;33m\u001b[0m\u001b[0m\n",
      "\u001b[1;31mNameError\u001b[0m: name 'c2g_val' is not defined"
     ]
    }
   ],
   "source": [
    "save_performance_to_txt(\"Car2Go Multivariable\",\n",
    "                        c2g_val,\n",
    "                        c2g_model,\n",
    "                        c2g_history,\n",
    "                        c2g_data.travels.max(),\n",
    "                        c2g_data.travels.min())"
   ]
  },
  {
   "cell_type": "code",
   "execution_count": 46,
   "metadata": {},
   "outputs": [
    {
     "output_type": "error",
     "ename": "NameError",
     "evalue": "name 'c2g_val' is not defined",
     "traceback": [
      "\u001b[1;31m---------------------------------------------------------------------------\u001b[0m",
      "\u001b[1;31mNameError\u001b[0m                                 Traceback (most recent call last)",
      "\u001b[1;32m<ipython-input-46-45680dcbcc37>\u001b[0m in \u001b[0;36m<module>\u001b[1;34m\u001b[0m\n\u001b[1;32m----> 1\u001b[1;33m \u001b[1;32mfor\u001b[0m \u001b[0mx\u001b[0m\u001b[1;33m,\u001b[0m \u001b[0my\u001b[0m \u001b[1;32min\u001b[0m \u001b[0mc2g_val\u001b[0m\u001b[1;33m.\u001b[0m\u001b[0mtake\u001b[0m\u001b[1;33m(\u001b[0m\u001b[1;36m1\u001b[0m\u001b[1;33m)\u001b[0m\u001b[1;33m:\u001b[0m\u001b[1;33m\u001b[0m\u001b[1;33m\u001b[0m\u001b[0m\n\u001b[0m\u001b[0;32m      2\u001b[0m     \u001b[0mmulti_step_plot\u001b[0m\u001b[1;33m(\u001b[0m\u001b[0mx\u001b[0m\u001b[1;33m[\u001b[0m\u001b[1;36m0\u001b[0m\u001b[1;33m]\u001b[0m\u001b[1;33m,\u001b[0m \u001b[0my\u001b[0m\u001b[1;33m[\u001b[0m\u001b[1;36m0\u001b[0m\u001b[1;33m]\u001b[0m\u001b[1;33m,\u001b[0m\u001b[0mc2g_model\u001b[0m\u001b[1;33m.\u001b[0m\u001b[0mpredict\u001b[0m\u001b[1;33m(\u001b[0m\u001b[0mx\u001b[0m\u001b[1;33m)\u001b[0m\u001b[1;33m[\u001b[0m\u001b[1;36m0\u001b[0m\u001b[1;33m]\u001b[0m\u001b[1;33m)\u001b[0m\u001b[1;33m\u001b[0m\u001b[1;33m\u001b[0m\u001b[0m\n",
      "\u001b[1;31mNameError\u001b[0m: name 'c2g_val' is not defined"
     ]
    }
   ],
   "source": [
    "for x, y in c2g_val.take(1):\n",
    "    multi_step_plot(x[0], y[0],c2g_model.predict(x)[0])"
   ]
  },
  {
   "cell_type": "code",
   "execution_count": 47,
   "metadata": {},
   "outputs": [
    {
     "output_type": "error",
     "ename": "NameError",
     "evalue": "name 'c2g_val' is not defined",
     "traceback": [
      "\u001b[1;31m---------------------------------------------------------------------------\u001b[0m",
      "\u001b[1;31mNameError\u001b[0m                                 Traceback (most recent call last)",
      "\u001b[1;32m<ipython-input-47-bba2a6ab0375>\u001b[0m in \u001b[0;36m<module>\u001b[1;34m\u001b[0m\n\u001b[0;32m      1\u001b[0m performance_representation_plot(12,\n\u001b[1;32m----> 2\u001b[1;33m                                 \u001b[0mc2g_val\u001b[0m\u001b[1;33m,\u001b[0m\u001b[1;33m\u001b[0m\u001b[1;33m\u001b[0m\u001b[0m\n\u001b[0m\u001b[0;32m      3\u001b[0m                                 \u001b[0mc2g_model\u001b[0m\u001b[1;33m,\u001b[0m\u001b[1;33m\u001b[0m\u001b[1;33m\u001b[0m\u001b[0m\n\u001b[0;32m      4\u001b[0m                                 \u001b[0mc2g_data\u001b[0m\u001b[1;33m.\u001b[0m\u001b[0mtravels\u001b[0m\u001b[1;33m.\u001b[0m\u001b[0mmax\u001b[0m\u001b[1;33m(\u001b[0m\u001b[1;33m)\u001b[0m\u001b[1;33m,\u001b[0m\u001b[1;33m\u001b[0m\u001b[1;33m\u001b[0m\u001b[0m\n\u001b[0;32m      5\u001b[0m                                 \u001b[0mc2g_data\u001b[0m\u001b[1;33m.\u001b[0m\u001b[0mtravels\u001b[0m\u001b[1;33m.\u001b[0m\u001b[0mmin\u001b[0m\u001b[1;33m(\u001b[0m\u001b[1;33m)\u001b[0m\u001b[1;33m,\u001b[0m\u001b[1;33m\u001b[0m\u001b[1;33m\u001b[0m\u001b[0m\n",
      "\u001b[1;31mNameError\u001b[0m: name 'c2g_val' is not defined"
     ]
    }
   ],
   "source": [
    "performance_representation_plot(12,\n",
    "                                c2g_val,\n",
    "                                c2g_model,\n",
    "                                c2g_data.travels.max(),\n",
    "                                c2g_data.travels.min(),\n",
    "                                \"Car2Go Performance Multivariavel\",\n",
    "                                upper_border=False,\n",
    "                                title_in_plot=False,\n",
    "                                legend_font_size=21,\n",
    "                                axis_label_size=20, \n",
    "                                axis_value_size=17,\n",
    "                                denormalize=False)"
   ]
  },
  {
   "cell_type": "markdown",
   "metadata": {},
   "source": [
    "performance_representation_plotrences\n",
    "\n",
    "* https://www.tensorflow.org/tutorials/structured_data/time_series#part_2_forecast_a_multivariate_time_series\n",
    "* http://netlab.ice.ufjf.br/index.php/carsharingdata/"
   ]
  }
 ],
 "metadata": {
  "kernelspec": {
   "display_name": "Python 3.7.6 64-bit ('CarSharingEnv': conda)",
   "language": "python",
   "name": "python37664bitcarsharingenvcondaf61cd503e3274ce6bd69d58b01a97e08"
  },
  "language_info": {
   "codemirror_mode": {
    "name": "ipython",
    "version": 3
   },
   "file_extension": ".py",
   "mimetype": "text/x-python",
   "name": "python",
   "nbconvert_exporter": "python",
   "pygments_lexer": "ipython3",
   "version": "3.7.6-final"
  }
 },
 "nbformat": 4,
 "nbformat_minor": 4
}