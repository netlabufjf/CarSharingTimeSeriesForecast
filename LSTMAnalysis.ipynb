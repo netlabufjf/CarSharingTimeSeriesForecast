{
 "cells": [
  {
   "cell_type": "code",
   "execution_count": 1,
   "metadata": {
    "collapsed": true
   },
   "outputs": [],
   "source": [
    "from __future__ import absolute_import, division, print_function, unicode_literals\n",
    "import tensorflow as tf\n",
    "\n",
    "import matplotlib as mpl\n",
    "import matplotlib.pyplot as plt\n",
    "import numpy as np\n",
    "import os\n",
    "import pandas as pd\n",
    "import seaborn as sns\n",
    "from datetime import datetime\n",
    "import warnings\n",
    "warnings.filterwarnings('ignore')\n",
    "\n",
    "mpl.rcParams['figure.figsize'] = (8, 6)\n",
    "mpl.rcParams['axes.grid'] = False\n",
    "tf.random.set_seed(13)"
   ]
  },
  {
   "cell_type": "markdown",
   "metadata": {},
   "source": [
    "## Reading data"
   ]
  },
  {
   "cell_type": "code",
   "execution_count": 2,
   "metadata": {
    "collapsed": true
   },
   "outputs": [],
   "source": [
    "# reading data\n",
    "evo_data = pd.read_csv('data/demand_datasets/evo_demand.csv', index_col=0)\n",
    "modo_data = pd.read_csv('data/demand_datasets/modo_demand.csv', index_col=0)\n",
    "c2g_data = pd.read_csv('data/demand_datasets/c2g_demand.csv', index_col=0)"
   ]
  },
  {
   "cell_type": "code",
   "execution_count": 3,
   "metadata": {
    "collapsed": true
   },
   "outputs": [],
   "source": [
    "init_period = '06-23'\n",
    "end_period = '07-12'\n",
    "\n",
    "evo_data = evo_data[(evo_data.index >= '2018-'+init_period) & (evo_data.index <= '2018-'+end_period)]\n",
    "modo_data = modo_data[(modo_data.index >= '2018-'+init_period) & (modo_data.index <= '2018-'+end_period)]\n",
    "c2g_data = c2g_data[(c2g_data.index >= '2017-'+init_period) & (c2g_data.index <= '2017-'+end_period)]"
   ]
  },
  {
   "cell_type": "code",
   "execution_count": 4,
   "metadata": {
    "collapsed": true
   },
   "outputs": [],
   "source": [
    "def train_size(data, size=0.7):\n",
    "    # 70% of the data to use as train set\n",
    "    train_split = int(len(data) * size)\n",
    "    return train_split"
   ]
  },
  {
   "cell_type": "code",
   "execution_count": 5,
   "metadata": {
    "collapsed": true
   },
   "outputs": [],
   "source": [
    "def norm_data(features, train_split):\n",
    "    dataset = features.values\n",
    "    data_max = dataset[:train_split].max()\n",
    "    data_min = dataset[:train_split].min()\n",
    "    data_std = dataset[:train_split].std(axis=0)\n",
    "\n",
    "    dataset = (dataset-data_min)/(data_max - data_min)\n",
    "    \n",
    "    return dataset"
   ]
  },
  {
   "cell_type": "code",
   "execution_count": 6,
   "metadata": {
    "collapsed": true
   },
   "outputs": [],
   "source": [
    "modo_norm = norm_data(modo_data[['travels','temperature']], train_size(modo_data))\n",
    "evo_norm = norm_data(evo_data[['travels','temperature']], train_size(evo_data))\n",
    "c2g_norm = norm_data(c2g_data[['travels','temperature']], train_size(c2g_data))"
   ]
  },
  {
   "cell_type": "markdown",
   "metadata": {},
   "source": [
    "## LSTM Data preparation"
   ]
  },
  {
   "cell_type": "markdown",
   "metadata": {},
   "source": [
    "For this analysis the aim is to predict the number of travels using a multivariate LSTM model"
   ]
  },
  {
   "cell_type": "code",
   "execution_count": 7,
   "metadata": {
    "collapsed": true
   },
   "outputs": [],
   "source": [
    "def multivariate_data(dataset, target, start_index, end_index, history_size,\n",
    "                      target_size, step, single_step=False):\n",
    "    \"\"\"\n",
    "    Reshape the data to usual representation of train and target sets\n",
    "    \n",
    "    single_step - In a single step setup (True), the model learns to predict a single point in the future \n",
    "                  based on some history provided. Else (False), the model needs to learn to predict a range \n",
    "                  of future values.\n",
    "    \n",
    "    target_size - Is how far in the future does the model need to learn to predict.\n",
    "                  The target_size is from the label that needs to be predicted\n",
    "    \"\"\"\n",
    "    data = []\n",
    "    labels = []\n",
    "\n",
    "    start_index = start_index + history_size # determining the real start since it has a history size\n",
    "    if end_index is None:\n",
    "        end_index = len(dataset) - target_size\n",
    "\n",
    "    for i in range(start_index, end_index): # creating the data 'chuncks' with size of history size\n",
    "        indices = range(i-history_size, i, step)\n",
    "        data.append(dataset[indices])\n",
    "\n",
    "        if single_step: # selecting the point or interval to be predicted\n",
    "            labels.append(target[i+target_size])\n",
    "        else:\n",
    "            labels.append(target[i:i+target_size])\n",
    "\n",
    "    return np.array(data), np.array(labels)"
   ]
  },
  {
   "cell_type": "code",
   "execution_count": 8,
   "metadata": {
    "collapsed": true
   },
   "outputs": [],
   "source": [
    "def train_val_split(data, train_split, history_length=72, future_target=1, \n",
    "                    step=1, single_step=False, batch_size=256, buffer_size=10000):\n",
    "\n",
    "    # splitting the train and evaluate sets\n",
    "    x_train, y_train = multivariate_data(data, data[:, 0], 0, train_split, history_length, future_target, step, single_step)\n",
    "    x_val, y_val = multivariate_data(data, data[:, 0], train_split, None, history_length, future_target, step, single_step)\n",
    "\n",
    "    print ('Single window of past history : {}'.format(x_train[0].shape))\n",
    "    print ('\\n Target feature to predict : {}'.format(y_train[0].shape))\n",
    "    \n",
    "    # slice and shuffle the train and evaluate sets based on the batch size\n",
    "    train = tf.data.Dataset.from_tensor_slices((x_train, y_train))\n",
    "    train = train.cache().shuffle(buffer_size).batch(batch_size).repeat()\n",
    "\n",
    "    val = tf.data.Dataset.from_tensor_slices((x_val, y_val))\n",
    "    val = val.batch(batch_size).repeat()\n",
    "    \n",
    "    shape = x_train.shape[-2:]\n",
    "    \n",
    "    return train, val, shape"
   ]
  },
  {
   "cell_type": "code",
   "execution_count": 9,
   "metadata": {
    "collapsed": true
   },
   "outputs": [],
   "source": [
    "def lstm_model(train_data, validation_data, shape, epochs=10, evaluation_interval=200):\n",
    "\n",
    "    model = tf.keras.models.Sequential()\n",
    "    model.add(tf.keras.layers.LSTM(32, return_sequences=True,\n",
    "                                   input_shape=shape))\n",
    "    model.add(tf.keras.layers.LSTM(16, activation='relu'))\n",
    "    model.add(tf.keras.layers.Dense(12))\n",
    "\n",
    "    model.compile(optimizer=tf.keras.optimizers.RMSprop(clipvalue=1.0), loss='mae')\n",
    "\n",
    "    for x, y in validation_data.take(1):\n",
    "        print(model.predict(x).shape)\n",
    "    \n",
    "    history = model.fit(train_data, epochs=epochs,\n",
    "                      steps_per_epoch=evaluation_interval,\n",
    "                      validation_data=validation_data,\n",
    "                      validation_steps=50)\n",
    "    \n",
    "    return model, history"
   ]
  },
  {
   "cell_type": "code",
   "execution_count": 10,
   "metadata": {},
   "outputs": [
    {
     "name": "stdout",
     "output_type": "stream",
     "text": [
      "Single window of past history : (24, 2)\n",
      "\n",
      " Target feature to predict : (12,)\n",
      "Single window of past history : (24, 2)\n",
      "\n",
      " Target feature to predict : (12,)\n",
      "Single window of past history : (24, 2)\n",
      "\n",
      " Target feature to predict : (12,)\n"
     ]
    }
   ],
   "source": [
    "# split data on train and validate sets\n",
    "evo_train, evo_val, evo_shape = train_val_split(data=evo_norm, train_split=train_size(evo_norm), history_length=24, future_target=12)\n",
    "modo_train, modo_val, modo_shape = train_val_split(data=modo_norm, train_split=train_size(modo_norm), history_length=24, future_target=12)\n",
    "c2g_train, c2g_val, c2g_shape = train_val_split(data=c2g_norm, train_split=train_size(c2g_norm), history_length=24, future_target=12)"
   ]
  },
  {
   "cell_type": "code",
   "execution_count": 11,
   "metadata": {},
   "outputs": [
    {
     "name": "stdout",
     "output_type": "stream",
     "text": [
      "Evo Model\n",
      "(43, 12)\n",
      "Train for 200 steps, validate for 50 steps\n",
      "Epoch 1/10\n",
      "200/200 [==============================] - 17s 83ms/step - loss: 0.1384 - val_loss: 0.1256\n",
      "Epoch 2/10\n",
      "200/200 [==============================] - 10s 48ms/step - loss: 0.1176 - val_loss: 0.1215\n",
      "Epoch 3/10\n",
      "200/200 [==============================] - 10s 48ms/step - loss: 0.0923 - val_loss: 0.1204\n",
      "Epoch 4/10\n",
      "200/200 [==============================] - 10s 48ms/step - loss: 0.0823 - val_loss: 0.1158\n",
      "Epoch 5/10\n",
      "200/200 [==============================] - 10s 51ms/step - loss: 0.0750 - val_loss: 0.1005\n",
      "Epoch 6/10\n",
      "200/200 [==============================] - 10s 49ms/step - loss: 0.0685 - val_loss: 0.0942\n",
      "Epoch 7/10\n",
      "200/200 [==============================] - 10s 48ms/step - loss: 0.0645 - val_loss: 0.0918\n",
      "Epoch 8/10\n",
      "200/200 [==============================] - 12s 59ms/step - loss: 0.0619 - val_loss: 0.0941\n",
      "Epoch 9/10\n",
      "200/200 [==============================] - 10s 50ms/step - loss: 0.0599 - val_loss: 0.0943\n",
      "Epoch 10/10\n",
      "200/200 [==============================] - 11s 56ms/step - loss: 0.0580 - val_loss: 0.0952\n",
      "Modo Model\n",
      "(82, 12)\n",
      "Train for 200 steps, validate for 50 steps\n",
      "Epoch 1/10\n",
      "200/200 [==============================] - 17s 86ms/step - loss: 0.0626 - val_loss: 0.0487\n",
      "Epoch 2/10\n",
      "200/200 [==============================] - 11s 56ms/step - loss: 0.0390 - val_loss: 0.0440\n",
      "Epoch 3/10\n",
      "200/200 [==============================] - 11s 57ms/step - loss: 0.0345 - val_loss: 0.0450\n",
      "Epoch 4/10\n",
      "200/200 [==============================] - 13s 65ms/step - loss: 0.0323 - val_loss: 0.0438\n",
      "Epoch 5/10\n",
      "200/200 [==============================] - 14s 68ms/step - loss: 0.0309 - val_loss: 0.0446\n",
      "Epoch 6/10\n",
      "200/200 [==============================] - 13s 65ms/step - loss: 0.0298 - val_loss: 0.0435\n",
      "Epoch 7/10\n",
      "200/200 [==============================] - 12s 62ms/step - loss: 0.0289 - val_loss: 0.0454\n",
      "Epoch 8/10\n",
      "200/200 [==============================] - 12s 62ms/step - loss: 0.0282 - val_loss: 0.0438\n",
      "Epoch 9/10\n",
      "200/200 [==============================] - 13s 63ms/step - loss: 0.0276 - val_loss: 0.0439\n",
      "Epoch 10/10\n",
      "200/200 [==============================] - 12s 62ms/step - loss: 0.0272 - val_loss: 0.0439\n",
      "Car2Go Model\n",
      "(96, 12)\n",
      "Train for 200 steps, validate for 50 steps\n",
      "Epoch 1/10\n",
      "200/200 [==============================] - 17s 83ms/step - loss: 0.2322 - val_loss: 0.1510\n",
      "Epoch 2/10\n",
      "200/200 [==============================] - 10s 51ms/step - loss: 0.1463 - val_loss: 0.1274\n",
      "Epoch 3/10\n",
      "200/200 [==============================] - 11s 53ms/step - loss: 0.1288 - val_loss: 0.1166\n",
      "Epoch 4/10\n",
      "200/200 [==============================] - 11s 53ms/step - loss: 0.1212 - val_loss: 0.1112\n",
      "Epoch 5/10\n",
      "200/200 [==============================] - 10s 52ms/step - loss: 0.1134 - val_loss: 0.1044\n",
      "Epoch 6/10\n",
      "200/200 [==============================] - 10s 51ms/step - loss: 0.1066 - val_loss: 0.0964\n",
      "Epoch 7/10\n",
      "200/200 [==============================] - 10s 52ms/step - loss: 0.1020 - val_loss: 0.0988\n",
      "Epoch 8/10\n",
      "200/200 [==============================] - 10s 52ms/step - loss: 0.0973 - val_loss: 0.0907\n",
      "Epoch 9/10\n",
      "200/200 [==============================] - 10s 52ms/step - loss: 0.0931 - val_loss: 0.0843\n",
      "Epoch 10/10\n",
      "200/200 [==============================] - 10s 52ms/step - loss: 0.0877 - val_loss: 0.0941\n"
     ]
    }
   ],
   "source": [
    "# generating the model for each dataset\n",
    "print('Evo Model')\n",
    "evo_model, evo_history = lstm_model(evo_train, evo_val, evo_shape)\n",
    "print('Modo Model')\n",
    "modo_model, modo_history = lstm_model(modo_train, modo_val, modo_shape)\n",
    "print('Car2Go Model')\n",
    "c2g_model, c2g_history = lstm_model(c2g_train, c2g_val, c2g_shape)"
   ]
  },
  {
   "cell_type": "markdown",
   "metadata": {},
   "source": [
    "### Plotting prediction"
   ]
  },
  {
   "cell_type": "code",
   "execution_count": 25,
   "metadata": {},
   "outputs": [],
   "source": [
    "def multi_step_plot(history, true_future, prediction):\n",
    "    plt.figure(figsize=(12, 6))\n",
    "    num_in = range(len(history))\n",
    "    num_out = len(true_future)\n",
    "\n",
    "    plt.plot(num_in, np.array(history[:, 1]), label='History')\n",
    "    plt.plot(np.arange(num_out), np.array(true_future), 'bo',\n",
    "           label='True Future')\n",
    "    if prediction.any():\n",
    "        plt.plot(np.arange(num_out), np.array(prediction), 'ro',\n",
    "                 label='Predicted Future')\n",
    "    plt.legend(loc='upper left')\n",
    "    plt.show()"
   ]
  },
  {
   "cell_type": "code",
   "execution_count": 17,
   "metadata": {
    "collapsed": true
   },
   "outputs": [],
   "source": [
    "def plot_train_history(history, title):\n",
    "    loss = history.history['loss']\n",
    "    val_loss = history.history['val_loss']\n",
    "\n",
    "    epochs = range(len(loss))\n",
    "\n",
    "    plt.figure()\n",
    "\n",
    "    plt.plot(epochs, loss, 'b', label='Training loss')\n",
    "    plt.plot(epochs, val_loss, 'r', label='Validation loss')\n",
    "    plt.title(title)\n",
    "    plt.legend()\n",
    "\n",
    "    plt.show()"
   ]
  },
  {
   "cell_type": "code",
   "execution_count": 23,
   "metadata": {},
   "outputs": [
    {
     "data": {
      "text/plain": [
       "<Figure size 864x432 with 0 Axes>"
      ]
     },
     "metadata": {},
     "output_type": "display_data"
    },
    {
     "data": {
      "text/plain": [
       "<Figure size 864x432 with 0 Axes>"
      ]
     },
     "metadata": {},
     "output_type": "display_data"
    },
    {
     "data": {
      "image/png": "[encoded data removed]",
      "text/plain": [
       "<Figure size 576x432 with 1 Axes>"
      ]
     },
     "metadata": {},
     "output_type": "display_data"
    }
   ],
   "source": [
    "plot_train_history(evo_history,\n",
    "                   'Training and validation loss')"
   ]
  },
  {
   "cell_type": "code",
   "execution_count": 26,
   "metadata": {},
   "outputs": [
    {
     "data": {
      "image/png": "[encoded data removed]",
      "text/plain": [
       "<Figure size 864x432 with 1 Axes>"
      ]
     },
     "metadata": {},
     "output_type": "display_data"
    },
    {
     "data": {
      "image/png": "[encoded data removed]",
      "text/plain": [
       "<Figure size 864x432 with 1 Axes>"
      ]
     },
     "metadata": {},
     "output_type": "display_data"
    },
    {
     "data": {
      "image/png": "[encoded data removed]",
      "text/plain": [
       "<Figure size 864x432 with 1 Axes>"
      ]
     },
     "metadata": {},
     "output_type": "display_data"
    }
   ],
   "source": [
    "for x, y in evo_val.take(3):\n",
    "    multi_step_plot(x[0], y[0], evo_model.predict(x)[0])"
   ]
  },
  {
   "cell_type": "markdown",
   "metadata": {
    "collapsed": true
   },
   "source": [
    "### References\n",
    "\n",
    "* https://www.tensorflow.org/tutorials/structured_data/time_series#part_2_forecast_a_multivariate_time_series\n",
    "* http://netlab.ice.ufjf.br/index.php/carsharingdata/"
   ]
  }
 ],
 "metadata": {
  "kernelspec": {
   "display_name": "Python 3",
   "language": "python",
   "name": "python3"
  },
  "language_info": {
   "codemirror_mode": {
    "name": "ipython",
    "version": 3
   },
   "file_extension": ".py",
   "mimetype": "text/x-python",
   "name": "python",
   "nbconvert_exporter": "python",
   "pygments_lexer": "ipython3",
   "version": "3.6.10"
  }
 },
 "nbformat": 4,
 "nbformat_minor": 2
}
